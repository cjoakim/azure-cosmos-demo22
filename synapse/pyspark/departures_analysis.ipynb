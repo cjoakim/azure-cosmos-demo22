{
  "nbformat": 4,
  "nbformat_minor": 2,
  "cells": [
    {
      "cell_type": "markdown",
      "metadata": {
        "nteract": {
          "transient": {
            "deleting": false
          }
        }
      },
      "source": [
        "\n",
        "---\n",
        "\n",
        "## Do an analysis of the data BEFORE loading it into CosmosDB\n",
        "\n",
        "### - Read a raw data CSV file from Azure Blob Storage\n",
        "### - Explore it with Synapse\n",
        "### - Identify good potential CosmosDB Partition Keys (high cardinality, well distributed)\n",
        "### - Identify poor potential CosmosDB Partition Keys (low cardinality, skewed distribution)\n",
        "\n",
        ".\n",
        "\n",
        "---\n",
        "\n",
        ".\n",
        "\n",
        ".\n",
        ""
      ]
    },
    {
      "cell_type": "code",
      "execution_count": 14,
      "outputs": [
        {
          "output_type": "display_data",
          "data": {
            "application/vnd.livy.statement-meta+json": {
              "spark_pool": "poolspark3s",
              "session_id": 9,
              "statement_id": 14,
              "state": "finished",
              "livy_statement_state": "available",
              "queued_time": "2021-08-23T21:15:33.6652903Z",
              "session_start_time": null,
              "execution_start_time": "2021-08-23T21:15:33.9092964Z",
              "execution_finish_time": "2021-08-23T21:15:34.9844939Z"
            },
            "text/plain": "StatementMeta(poolspark3s, 9, 14, Finished, Available)"
          },
          "metadata": {}
        },
        {
          "output_type": "display_data",
          "data": {
            "application/vnd.synapse.widget-view+json": {
              "widget_id": "4f02e3c8-1f96-4a2c-a453-15d05594400e",
              "widget_type": "Synapse.DataFrame"
            },
            "text/plain": "SynapseWidget(Synapse.DataFrame, 4f02e3c8-1f96-4a2c-a453-15d05594400e)"
          },
          "metadata": {}
        },
        {
          "output_type": "execute_result",
          "data": {},
          "execution_count": 14,
          "metadata": {}
        }
      ],
      "metadata": {
        "microsoft": {
          "language": "python"
        },
        "collapsed": false
      },
      "source": [
        "%%pyspark\n",
        "blob_account_name = \"cjoakimstorage22\"\n",
        "blob_container_name = \"raw\"\n",
        "from pyspark.sql import SparkSession\n",
        "\n",
        "sc = SparkSession.builder.getOrCreate()\n",
        "token_library = sc._jvm.com.microsoft.azure.synapse.tokenlibrary.TokenLibrary\n",
        "blob_sas_token = token_library.getConnectionString(\"AzureBlobStorage_cjoakimstorage22\")\n",
        "\n",
        "spark.conf.set(\n",
        "    'fs.azure.sas.%s.%s.blob.core.windows.net' % (blob_container_name, blob_account_name),\n",
        "    blob_sas_token)\n",
        "\n",
        "blob_url = 'wasbs://raw@cjoakimstorage22.blob.core.windows.net/air_travel_departures.csv'\n",
        "\n",
        "df = spark.read.load(blob_url, format='csv', header=True, sep='|')\n",
        "display(df.limit(8))\n",
        ""
      ]
    },
    {
      "cell_type": "markdown",
      "metadata": {
        "nteract": {
          "transient": {
            "deleting": false
          }
        }
      },
      "source": [
        "## Display the observed structure of the data"
      ]
    },
    {
      "cell_type": "code",
      "execution_count": 15,
      "outputs": [
        {
          "output_type": "display_data",
          "data": {
            "application/vnd.livy.statement-meta+json": {
              "spark_pool": "poolspark3s",
              "session_id": 9,
              "statement_id": 15,
              "state": "finished",
              "livy_statement_state": "available",
              "queued_time": "2021-08-23T21:15:33.7106134Z",
              "session_start_time": null,
              "execution_start_time": "2021-08-23T21:15:35.0929494Z",
              "execution_finish_time": "2021-08-23T21:15:35.2456286Z"
            },
            "text/plain": "StatementMeta(poolspark3s, 9, 15, Finished, Available)"
          },
          "metadata": {}
        },
        {
          "output_type": "stream",
          "name": "stdout",
          "text": "root\n |-- date: string (nullable = true)\n |-- year: string (nullable = true)\n |-- month: string (nullable = true)\n |-- from_iata: string (nullable = true)\n |-- to_iata: string (nullable = true)\n |-- airlineid: string (nullable = true)\n |-- carrier: string (nullable = true)\n |-- count: string (nullable = true)\n |-- route: string (nullable = true)\n |-- from_airport_name: string (nullable = true)\n |-- from_airport_tz: string (nullable = true)\n |-- from_airport_lat: string (nullable = true)\n |-- from_airport_lng: string (nullable = true)\n |-- to_airport_name: string (nullable = true)\n |-- to_airport_country: string (nullable = true)\n |-- to_airport_tz: string (nullable = true)\n |-- to_airport_lat: string (nullable = true)\n |-- to_airport_lng: string (nullable = true)"
        }
      ],
      "metadata": {
        "jupyter": {
          "source_hidden": false,
          "outputs_hidden": false
        },
        "nteract": {
          "transient": {
            "deleting": false
          }
        },
        "collapsed": true
      },
      "source": [
        "df.printSchema()"
      ]
    },
    {
      "cell_type": "markdown",
      "metadata": {
        "nteract": {
          "transient": {
            "deleting": false
          }
        }
      },
      "source": [
        "## Display the Row and Column Counts"
      ]
    },
    {
      "cell_type": "code",
      "execution_count": 16,
      "outputs": [
        {
          "output_type": "display_data",
          "data": {
            "application/vnd.livy.statement-meta+json": {
              "spark_pool": "poolspark3s",
              "session_id": 9,
              "statement_id": 16,
              "state": "finished",
              "livy_statement_state": "available",
              "queued_time": "2021-08-23T21:15:33.8394618Z",
              "session_start_time": null,
              "execution_start_time": "2021-08-23T21:15:35.3483786Z",
              "execution_finish_time": "2021-08-23T21:15:37.230788Z"
            },
            "text/plain": "StatementMeta(poolspark3s, 9, 16, Finished, Available)"
          },
          "metadata": {}
        },
        {
          "output_type": "stream",
          "name": "stdout",
          "text": "(930808, 18)"
        }
      ],
      "metadata": {
        "jupyter": {
          "source_hidden": false,
          "outputs_hidden": false
        },
        "nteract": {
          "transient": {
            "deleting": false
          }
        },
        "collapsed": false
      },
      "source": [
        "print((df.count(), len(df.columns)))"
      ]
    },
    {
      "cell_type": "markdown",
      "metadata": {
        "nteract": {
          "transient": {
            "deleting": false
          }
        }
      },
      "source": [
        "\n",
        "## Explore the **airlineid** attribute as a potential CosmosDB Partition Key"
      ]
    },
    {
      "cell_type": "code",
      "execution_count": 17,
      "outputs": [
        {
          "output_type": "display_data",
          "data": {
            "application/vnd.livy.statement-meta+json": {
              "spark_pool": "poolspark3s",
              "session_id": 9,
              "statement_id": 17,
              "state": "finished",
              "livy_statement_state": "available",
              "queued_time": "2021-08-23T21:15:33.917578Z",
              "session_start_time": null,
              "execution_start_time": "2021-08-23T21:15:37.4634718Z",
              "execution_finish_time": "2021-08-23T21:15:40.4228375Z"
            },
            "text/plain": "StatementMeta(poolspark3s, 9, 17, Finished, Available)"
          },
          "metadata": {}
        },
        {
          "output_type": "display_data",
          "data": {
            "text/plain": "705"
          },
          "metadata": {}
        },
        {
          "output_type": "execute_result",
          "data": {},
          "execution_count": 17,
          "metadata": {}
        }
      ],
      "metadata": {
        "jupyter": {
          "source_hidden": false,
          "outputs_hidden": false
        },
        "nteract": {
          "transient": {
            "deleting": false
          }
        },
        "collapsed": true
      },
      "source": [
        "attr_name = 'airlineid'\n",
        "df.select(attr_name).distinct().count()"
      ]
    },
    {
      "cell_type": "code",
      "execution_count": 18,
      "outputs": [
        {
          "output_type": "display_data",
          "data": {
            "application/vnd.livy.statement-meta+json": {
              "spark_pool": "poolspark3s",
              "session_id": 9,
              "statement_id": 18,
              "state": "finished",
              "livy_statement_state": "available",
              "queued_time": "2021-08-23T21:15:34.1098879Z",
              "session_start_time": null,
              "execution_start_time": "2021-08-23T21:15:40.5326524Z",
              "execution_finish_time": "2021-08-23T21:15:42.2606501Z"
            },
            "text/plain": "StatementMeta(poolspark3s, 9, 18, Finished, Available)"
          },
          "metadata": {}
        },
        {
          "output_type": "display_data",
          "data": {
            "application/vnd.synapse.widget-view+json": {
              "widget_id": "ab13202b-3c65-4cb7-b4ab-b9d0c31e69cd",
              "widget_type": "Synapse.DataFrame"
            },
            "text/plain": "SynapseWidget(Synapse.DataFrame, ab13202b-3c65-4cb7-b4ab-b9d0c31e69cd)"
          },
          "metadata": {}
        },
        {
          "output_type": "execute_result",
          "data": {},
          "execution_count": 18,
          "metadata": {}
        }
      ],
      "metadata": {
        "jupyter": {
          "source_hidden": false,
          "outputs_hidden": false
        },
        "nteract": {
          "transient": {
            "deleting": false
          }
        },
        "collapsed": false
      },
      "source": [
        "from pyspark.sql.functions import desc\n",
        "display(df.groupBy(attr_name).count().sort(desc(\"count\")))"
      ]
    },
    {
      "cell_type": "markdown",
      "metadata": {
        "nteract": {
          "transient": {
            "deleting": false
          }
        }
      },
      "source": [
        "## Explore the **from_iata** attribute as a potential CosmosDB Partition Key"
      ]
    },
    {
      "cell_type": "code",
      "execution_count": 19,
      "outputs": [
        {
          "output_type": "display_data",
          "data": {
            "application/vnd.livy.statement-meta+json": {
              "spark_pool": "poolspark3s",
              "session_id": 9,
              "statement_id": 19,
              "state": "finished",
              "livy_statement_state": "available",
              "queued_time": "2021-08-23T21:15:34.1993557Z",
              "session_start_time": null,
              "execution_start_time": "2021-08-23T21:15:42.3762479Z",
              "execution_finish_time": "2021-08-23T21:15:45.2558384Z"
            },
            "text/plain": "StatementMeta(poolspark3s, 9, 19, Finished, Available)"
          },
          "metadata": {}
        },
        {
          "output_type": "display_data",
          "data": {
            "text/plain": "1022"
          },
          "metadata": {}
        },
        {
          "output_type": "execute_result",
          "data": {},
          "execution_count": 19,
          "metadata": {}
        }
      ],
      "metadata": {
        "jupyter": {
          "source_hidden": false,
          "outputs_hidden": false
        },
        "nteract": {
          "transient": {
            "deleting": false
          }
        },
        "collapsed": true
      },
      "source": [
        "attr_name = 'from_iata'\n",
        "df.select(attr_name).distinct().count()"
      ]
    },
    {
      "cell_type": "code",
      "execution_count": 20,
      "outputs": [
        {
          "output_type": "display_data",
          "data": {
            "application/vnd.livy.statement-meta+json": {
              "spark_pool": "poolspark3s",
              "session_id": 9,
              "statement_id": 20,
              "state": "finished",
              "livy_statement_state": "available",
              "queued_time": "2021-08-23T21:15:34.2392313Z",
              "session_start_time": null,
              "execution_start_time": "2021-08-23T21:15:45.4341191Z",
              "execution_finish_time": "2021-08-23T21:15:45.9590307Z"
            },
            "text/plain": "StatementMeta(poolspark3s, 9, 20, Finished, Available)"
          },
          "metadata": {}
        },
        {
          "output_type": "display_data",
          "data": {
            "application/vnd.synapse.widget-view+json": {
              "widget_id": "e77e4982-a2a6-4bd5-9a11-7cf899cbd6ad",
              "widget_type": "Synapse.DataFrame"
            },
            "text/plain": "SynapseWidget(Synapse.DataFrame, e77e4982-a2a6-4bd5-9a11-7cf899cbd6ad)"
          },
          "metadata": {}
        },
        {
          "output_type": "execute_result",
          "data": {},
          "execution_count": 20,
          "metadata": {}
        }
      ],
      "metadata": {
        "jupyter": {
          "source_hidden": false,
          "outputs_hidden": false
        },
        "nteract": {
          "transient": {
            "deleting": false
          }
        },
        "collapsed": false
      },
      "source": [
        "from pyspark.sql.functions import desc\n",
        "display(df.groupBy(attr_name).count().sort(desc(\"count\")))"
      ]
    },
    {
      "cell_type": "markdown",
      "metadata": {
        "nteract": {
          "transient": {
            "deleting": false
          }
        }
      },
      "source": [
        "## Explore the **to_iata** attribute as a potential CosmosDB Partition Key\n",
        ""
      ]
    },
    {
      "cell_type": "code",
      "execution_count": 21,
      "outputs": [
        {
          "output_type": "display_data",
          "data": {
            "application/vnd.livy.statement-meta+json": {
              "spark_pool": "poolspark3s",
              "session_id": 9,
              "statement_id": 21,
              "state": "finished",
              "livy_statement_state": "available",
              "queued_time": "2021-08-23T21:15:34.3191916Z",
              "session_start_time": null,
              "execution_start_time": "2021-08-23T21:15:46.0730993Z",
              "execution_finish_time": "2021-08-23T21:15:49.3364643Z"
            },
            "text/plain": "StatementMeta(poolspark3s, 9, 21, Finished, Available)"
          },
          "metadata": {}
        },
        {
          "output_type": "display_data",
          "data": {
            "text/plain": "1669"
          },
          "metadata": {}
        },
        {
          "output_type": "execute_result",
          "data": {},
          "execution_count": 21,
          "metadata": {}
        }
      ],
      "metadata": {
        "jupyter": {
          "source_hidden": false,
          "outputs_hidden": false
        },
        "nteract": {
          "transient": {
            "deleting": false
          }
        },
        "collapsed": true
      },
      "source": [
        "attr_name = 'to_iata'\n",
        "df.select(attr_name).distinct().count()"
      ]
    },
    {
      "cell_type": "code",
      "execution_count": 22,
      "outputs": [
        {
          "output_type": "display_data",
          "data": {
            "application/vnd.livy.statement-meta+json": {
              "spark_pool": "poolspark3s",
              "session_id": 9,
              "statement_id": 22,
              "state": "finished",
              "livy_statement_state": "available",
              "queued_time": "2021-08-23T21:15:34.4192943Z",
              "session_start_time": null,
              "execution_start_time": "2021-08-23T21:15:49.4811084Z",
              "execution_finish_time": "2021-08-23T21:15:50.0131904Z"
            },
            "text/plain": "StatementMeta(poolspark3s, 9, 22, Finished, Available)"
          },
          "metadata": {}
        },
        {
          "output_type": "display_data",
          "data": {
            "application/vnd.synapse.widget-view+json": {
              "widget_id": "288b6623-755d-4bfd-85db-785890df5519",
              "widget_type": "Synapse.DataFrame"
            },
            "text/plain": "SynapseWidget(Synapse.DataFrame, 288b6623-755d-4bfd-85db-785890df5519)"
          },
          "metadata": {}
        },
        {
          "output_type": "execute_result",
          "data": {},
          "execution_count": 22,
          "metadata": {}
        }
      ],
      "metadata": {
        "jupyter": {
          "source_hidden": false,
          "outputs_hidden": false
        },
        "nteract": {
          "transient": {
            "deleting": false
          }
        },
        "collapsed": false
      },
      "source": [
        "from pyspark.sql.functions import desc\n",
        "display(df.groupBy(attr_name).count().sort(desc(\"count\")))"
      ]
    },
    {
      "cell_type": "markdown",
      "metadata": {
        "nteract": {
          "transient": {
            "deleting": false
          }
        }
      },
      "source": [
        "## Explore the **to_airport_country** attribute as a potential CosmosDB Partition Key "
      ]
    },
    {
      "cell_type": "code",
      "execution_count": 23,
      "outputs": [
        {
          "output_type": "display_data",
          "data": {
            "application/vnd.livy.statement-meta+json": {
              "spark_pool": "poolspark3s",
              "session_id": 9,
              "statement_id": 23,
              "state": "finished",
              "livy_statement_state": "available",
              "queued_time": "2021-08-23T21:15:34.4737739Z",
              "session_start_time": null,
              "execution_start_time": "2021-08-23T21:15:50.1308159Z",
              "execution_finish_time": "2021-08-23T21:15:53.6930468Z"
            },
            "text/plain": "StatementMeta(poolspark3s, 9, 23, Finished, Available)"
          },
          "metadata": {}
        },
        {
          "output_type": "display_data",
          "data": {
            "text/plain": "205"
          },
          "metadata": {}
        },
        {
          "output_type": "execute_result",
          "data": {},
          "execution_count": 23,
          "metadata": {}
        }
      ],
      "metadata": {
        "jupyter": {
          "source_hidden": false,
          "outputs_hidden": false
        },
        "nteract": {
          "transient": {
            "deleting": false
          }
        },
        "collapsed": true
      },
      "source": [
        "attr_name = 'to_airport_country'\n",
        "df.select(attr_name).distinct().count()"
      ]
    },
    {
      "cell_type": "code",
      "execution_count": 24,
      "outputs": [
        {
          "output_type": "display_data",
          "data": {
            "application/vnd.livy.statement-meta+json": {
              "spark_pool": "poolspark3s",
              "session_id": 9,
              "statement_id": 24,
              "state": "finished",
              "livy_statement_state": "available",
              "queued_time": "2021-08-23T21:15:34.5387487Z",
              "session_start_time": null,
              "execution_start_time": "2021-08-23T21:15:54.2453594Z",
              "execution_finish_time": "2021-08-23T21:15:55.559118Z"
            },
            "text/plain": "StatementMeta(poolspark3s, 9, 24, Finished, Available)"
          },
          "metadata": {}
        },
        {
          "output_type": "display_data",
          "data": {
            "application/vnd.synapse.widget-view+json": {
              "widget_id": "77c7ca6e-30c0-4e57-87ca-40ac27631feb",
              "widget_type": "Synapse.DataFrame"
            },
            "text/plain": "SynapseWidget(Synapse.DataFrame, 77c7ca6e-30c0-4e57-87ca-40ac27631feb)"
          },
          "metadata": {}
        },
        {
          "output_type": "execute_result",
          "data": {},
          "execution_count": 24,
          "metadata": {}
        }
      ],
      "metadata": {
        "jupyter": {
          "source_hidden": false,
          "outputs_hidden": false
        },
        "nteract": {
          "transient": {
            "deleting": false
          }
        },
        "collapsed": false
      },
      "source": [
        "from pyspark.sql.functions import desc\n",
        "display(df.groupBy(attr_name).count().sort(desc(\"count\")))"
      ]
    },
    {
      "cell_type": "markdown",
      "metadata": {
        "nteract": {
          "transient": {
            "deleting": false
          }
        }
      },
      "source": [
        " ## Explore the **route** attribute as a potential CosmosDB Partition Key"
      ]
    },
    {
      "cell_type": "code",
      "execution_count": 25,
      "outputs": [
        {
          "output_type": "display_data",
          "data": {
            "application/vnd.livy.statement-meta+json": {
              "spark_pool": "poolspark3s",
              "session_id": 9,
              "statement_id": 25,
              "state": "finished",
              "livy_statement_state": "available",
              "queued_time": "2021-08-23T21:15:34.5886838Z",
              "session_start_time": null,
              "execution_start_time": "2021-08-23T21:15:55.6746608Z",
              "execution_finish_time": "2021-08-23T21:15:58.5112297Z"
            },
            "text/plain": "StatementMeta(poolspark3s, 9, 25, Finished, Available)"
          },
          "metadata": {}
        },
        {
          "output_type": "display_data",
          "data": {
            "text/plain": "25644"
          },
          "metadata": {}
        },
        {
          "output_type": "execute_result",
          "data": {},
          "execution_count": 25,
          "metadata": {}
        }
      ],
      "metadata": {
        "jupyter": {
          "source_hidden": false,
          "outputs_hidden": false
        },
        "nteract": {
          "transient": {
            "deleting": false
          }
        },
        "collapsed": true
      },
      "source": [
        "attr_name = 'route'\n",
        "df.select(attr_name).distinct().count()"
      ]
    },
    {
      "cell_type": "code",
      "execution_count": 26,
      "outputs": [
        {
          "output_type": "display_data",
          "data": {
            "application/vnd.livy.statement-meta+json": {
              "spark_pool": "poolspark3s",
              "session_id": 9,
              "statement_id": 26,
              "state": "finished",
              "livy_statement_state": "available",
              "queued_time": "2021-08-23T21:15:34.6345198Z",
              "session_start_time": null,
              "execution_start_time": "2021-08-23T21:15:58.6473415Z",
              "execution_finish_time": "2021-08-23T21:15:59.1839822Z"
            },
            "text/plain": "StatementMeta(poolspark3s, 9, 26, Finished, Available)"
          },
          "metadata": {}
        },
        {
          "output_type": "display_data",
          "data": {
            "application/vnd.synapse.widget-view+json": {
              "widget_id": "14c96076-fd28-4177-b2d6-b017b6c8ec02",
              "widget_type": "Synapse.DataFrame"
            },
            "text/plain": "SynapseWidget(Synapse.DataFrame, 14c96076-fd28-4177-b2d6-b017b6c8ec02)"
          },
          "metadata": {}
        },
        {
          "output_type": "execute_result",
          "data": {},
          "execution_count": 26,
          "metadata": {}
        }
      ],
      "metadata": {
        "jupyter": {
          "source_hidden": false,
          "outputs_hidden": false
        },
        "nteract": {
          "transient": {
            "deleting": false
          }
        },
        "collapsed": false
      },
      "source": [
        "from pyspark.sql.functions import desc\n",
        "\n",
        "display(df.groupBy(attr_name).count().sort(desc(\"count\")))"
      ]
    }
  ],
  "metadata": {
    "save_output": true,
    "kernelspec": {
      "name": "synapse_pyspark",
      "display_name": "Synapse PySpark"
    },
    "language_info": {
      "name": "python"
    },
    "synapse_widget": {
      "version": "0.1",
      "state": {
        "4f02e3c8-1f96-4a2c-a453-15d05594400e": {
          "type": "Synapse.DataFrame",
          "sync_state": {
            "table": {
              "rows": [
                {
                  "0": "1998/09/01",
                  "1": "1998",
                  "2": "9",
                  "3": "PHL",
                  "4": "BDA",
                  "5": "19917",
                  "6": "5X",
                  "7": "16",
                  "8": "PHL:BDA",
                  "9": "Philadelphia Intl",
                  "10": "America/New_York",
                  "11": "39.871944",
                  "12": "-75.241139",
                  "13": "Bermuda Intl",
                  "14": "Bermuda",
                  "15": "Atlantic/Bermuda",
                  "16": "32.364042",
                  "17": "-64.678703"
                },
                {
                  "0": "1997/02/01",
                  "1": "1997",
                  "2": "2",
                  "3": "BWI",
                  "4": "PVR",
                  "5": "19559",
                  "6": "MX",
                  "7": "8",
                  "8": "BWI:PVR",
                  "9": "Baltimore Washington Intl",
                  "10": "America/New_York",
                  "11": "39.175361",
                  "12": "-76.668333",
                  "13": "Licenciado Gustavo Diaz Ordaz Intl",
                  "14": "Mexico",
                  "15": "America/Mexico_City",
                  "16": "20.680083",
                  "17": "-105.254167"
                },
                {
                  "0": "1995/11/01",
                  "1": "1995",
                  "2": "11",
                  "3": "MCO",
                  "4": "AMS",
                  "5": "20148",
                  "6": "MSQ",
                  "7": "34",
                  "8": "MCO:AMS",
                  "9": "Orlando Intl",
                  "10": "America/New_York",
                  "11": "28.429394",
                  "12": "-81.308994",
                  "13": "Schiphol",
                  "14": "Netherlands",
                  "15": "Europe/Amsterdam",
                  "16": "52.308613",
                  "17": "4.763889"
                },
                {
                  "0": "1999/08/01",
                  "1": "1999",
                  "2": "8",
                  "3": "LRD",
                  "4": "TLC",
                  "5": "20371",
                  "6": "RLQ",
                  "7": "1",
                  "8": "LRD:TLC",
                  "9": "Laredo Intl",
                  "10": "America/Chicago",
                  "11": "27.54375",
                  "12": "-99.461556",
                  "13": "Licenciado Adolfo Lopez Mateos Intl",
                  "14": "Mexico",
                  "15": "America/Mexico_City",
                  "16": "19.337072",
                  "17": "-99.566008"
                },
                {
                  "0": "1998/06/01",
                  "1": "1998",
                  "2": "6",
                  "3": "DFW",
                  "4": "CZM",
                  "5": "20422",
                  "6": "SYQ",
                  "7": "35",
                  "8": "DFW:CZM",
                  "9": "Dallas Fort Worth Intl",
                  "10": "America/Chicago",
                  "11": "32.896828",
                  "12": "-97.037997",
                  "13": "Cozumel Intl",
                  "14": "Mexico",
                  "15": "America/Mexico_City",
                  "16": "20.522403",
                  "17": "-86.925644"
                },
                {
                  "0": "1990/01/01",
                  "1": "1990",
                  "2": "1",
                  "3": "ORD",
                  "4": "YMX",
                  "5": "19855",
                  "6": "BCQ",
                  "7": "8",
                  "8": "ORD:YMX",
                  "9": "Chicago Ohare Intl",
                  "10": "America/Chicago",
                  "11": "41.978603",
                  "12": "-87.904842",
                  "13": "Montreal Intl Mirabel",
                  "14": "Canada",
                  "15": "America/Toronto",
                  "16": "45.681944",
                  "17": "-74.005278"
                },
                {
                  "0": "1996/06/01",
                  "1": "1996",
                  "2": "6",
                  "3": "HSV",
                  "4": "GDL",
                  "5": "20400",
                  "6": "CCQ",
                  "7": "8",
                  "8": "HSV:GDL",
                  "9": "Huntsville International Airport-Carl T Jones Field",
                  "10": "America/Chicago",
                  "11": "34.6371944",
                  "12": "-86.7750556",
                  "13": "Don Miguel Hidalgo Y Costilla Intl",
                  "14": "Mexico",
                  "15": "America/Mexico_City",
                  "16": "20.5218",
                  "17": "-103.311167"
                },
                {
                  "0": "1998/05/01",
                  "1": "1998",
                  "2": "5",
                  "3": "JFK",
                  "4": "CIA",
                  "5": "20099",
                  "6": "6F",
                  "7": "1",
                  "8": "JFK:CIA",
                  "9": "John F Kennedy Intl",
                  "10": "America/New_York",
                  "11": "40.639751",
                  "12": "-73.778925",
                  "13": "Ciampino",
                  "14": "Italy",
                  "15": "Europe/Rome",
                  "16": "41.799361",
                  "17": "12.594936"
                }
              ],
              "schema": [
                {
                  "key": "0",
                  "name": "date",
                  "type": "string"
                },
                {
                  "key": "1",
                  "name": "year",
                  "type": "string"
                },
                {
                  "key": "2",
                  "name": "month",
                  "type": "string"
                },
                {
                  "key": "3",
                  "name": "from_iata",
                  "type": "string"
                },
                {
                  "key": "4",
                  "name": "to_iata",
                  "type": "string"
                },
                {
                  "key": "5",
                  "name": "airlineid",
                  "type": "string"
                },
                {
                  "key": "6",
                  "name": "carrier",
                  "type": "string"
                },
                {
                  "key": "7",
                  "name": "count",
                  "type": "string"
                },
                {
                  "key": "8",
                  "name": "route",
                  "type": "string"
                },
                {
                  "key": "9",
                  "name": "from_airport_name",
                  "type": "string"
                },
                {
                  "key": "10",
                  "name": "from_airport_tz",
                  "type": "string"
                },
                {
                  "key": "11",
                  "name": "from_airport_lat",
                  "type": "string"
                },
                {
                  "key": "12",
                  "name": "from_airport_lng",
                  "type": "string"
                },
                {
                  "key": "13",
                  "name": "to_airport_name",
                  "type": "string"
                },
                {
                  "key": "14",
                  "name": "to_airport_country",
                  "type": "string"
                },
                {
                  "key": "15",
                  "name": "to_airport_tz",
                  "type": "string"
                },
                {
                  "key": "16",
                  "name": "to_airport_lat",
                  "type": "string"
                },
                {
                  "key": "17",
                  "name": "to_airport_lng",
                  "type": "string"
                }
              ]
            },
            "isSummary": false,
            "language": "scala"
          },
          "persist_state": {
            "view": {
              "type": "details",
              "tableOptions": {},
              "chartOptions": {
                "chartType": "bar",
                "aggregationType": "count",
                "categoryFieldKeys": [
                  "0"
                ],
                "seriesFieldKeys": [
                  "0"
                ],
                "isStacked": false
              }
            }
          }
        },
        "ab13202b-3c65-4cb7-b4ab-b9d0c31e69cd": {
          "type": "Synapse.DataFrame",
          "sync_state": {
            "table": {
              "rows": [
                {
                  "0": "19805",
                  "1": "58739"
                },
                {
                  "0": "19790",
                  "1": "48520"
                },
                {
                  "0": "19977",
                  "1": "42469"
                },
                {
                  "0": "19704",
                  "1": "25754"
                },
                {
                  "0": "20107",
                  "1": "24381"
                },
                {
                  "0": "19531",
                  "1": "20288"
                },
                {
                  "0": "20355",
                  "1": "15812"
                },
                {
                  "0": "20402",
                  "1": "15030"
                },
                {
                  "0": "20007",
                  "1": "14414"
                },
                {
                  "0": "19917",
                  "1": "14394"
                },
                {
                  "0": "19386",
                  "1": "14113"
                },
                {
                  "0": "19554",
                  "1": "12311"
                },
                {
                  "0": "20312",
                  "1": "11505"
                },
                {
                  "0": "20151",
                  "1": "11096"
                },
                {
                  "0": "19559",
                  "1": "10761"
                },
                {
                  "0": "19534",
                  "1": "10592"
                },
                {
                  "0": "20447",
                  "1": "10556"
                },
                {
                  "0": "19540",
                  "1": "10328"
                },
                {
                  "0": "19532",
                  "1": "8989"
                },
                {
                  "0": "20409",
                  "1": "8347"
                },
                {
                  "0": "20229",
                  "1": "7671"
                },
                {
                  "0": "20206",
                  "1": "7330"
                },
                {
                  "0": "19548",
                  "1": "7250"
                },
                {
                  "0": "19930",
                  "1": "6731"
                },
                {
                  "0": "19552",
                  "1": "6707"
                },
                {
                  "0": "20374",
                  "1": "6659"
                },
                {
                  "0": "19550",
                  "1": "6636"
                },
                {
                  "0": "20148",
                  "1": "6472"
                },
                {
                  "0": "20414",
                  "1": "6185"
                },
                {
                  "0": "20366",
                  "1": "6174"
                },
                {
                  "0": "20304",
                  "1": "6003"
                },
                {
                  "0": "20017",
                  "1": "5736"
                },
                {
                  "0": "20344",
                  "1": "5719"
                },
                {
                  "0": "19545",
                  "1": "5701"
                },
                {
                  "0": "20422",
                  "1": "5651"
                },
                {
                  "0": "19574",
                  "1": "5526"
                },
                {
                  "0": "20100",
                  "1": "5515"
                },
                {
                  "0": "20398",
                  "1": "5463"
                },
                {
                  "0": "20149",
                  "1": "5253"
                },
                {
                  "0": "20166",
                  "1": "4817"
                },
                {
                  "0": "20370",
                  "1": "4630"
                },
                {
                  "0": "20416",
                  "1": "4533"
                },
                {
                  "0": "20173",
                  "1": "4524"
                },
                {
                  "0": "19572",
                  "1": "4497"
                },
                {
                  "0": "21351",
                  "1": "4445"
                },
                {
                  "0": "20308",
                  "1": "4315"
                },
                {
                  "0": "21437",
                  "1": "4281"
                },
                {
                  "0": "20194",
                  "1": "4275"
                },
                {
                  "0": "19682",
                  "1": "4098"
                },
                {
                  "0": "20057",
                  "1": "4079"
                },
                {
                  "0": "19567",
                  "1": "4065"
                },
                {
                  "0": "19551",
                  "1": "4008"
                },
                {
                  "0": "20453",
                  "1": "3909"
                },
                {
                  "0": "19558",
                  "1": "3754"
                },
                {
                  "0": "19537",
                  "1": "3644"
                },
                {
                  "0": "19523",
                  "1": "3644"
                },
                {
                  "0": "21568",
                  "1": "3624"
                },
                {
                  "0": "21161",
                  "1": "3588"
                },
                {
                  "0": "19779",
                  "1": "3550"
                },
                {
                  "0": "20016",
                  "1": "3530"
                },
                {
                  "0": "20211",
                  "1": "3517"
                },
                {
                  "0": "20415",
                  "1": "3516"
                },
                {
                  "0": "19547",
                  "1": "3414"
                },
                {
                  "0": "19542",
                  "1": "3336"
                },
                {
                  "0": "20201",
                  "1": "3329"
                },
                {
                  "0": "20095",
                  "1": "3282"
                },
                {
                  "0": "20156",
                  "1": "3262"
                },
                {
                  "0": "20423",
                  "1": "3256"
                },
                {
                  "0": "19539",
                  "1": "3244"
                },
                {
                  "0": "20401",
                  "1": "3212"
                },
                {
                  "0": "19898",
                  "1": "3199"
                },
                {
                  "0": "20293",
                  "1": "3183"
                },
                {
                  "0": "19549",
                  "1": "3119"
                },
                {
                  "0": "20204",
                  "1": "3084"
                },
                {
                  "0": "19393",
                  "1": "3081"
                },
                {
                  "0": "20378",
                  "1": "3062"
                },
                {
                  "0": "20272",
                  "1": "3051"
                },
                {
                  "0": "20277",
                  "1": "2993"
                },
                {
                  "0": "20436",
                  "1": "2953"
                },
                {
                  "0": "20193",
                  "1": "2881"
                },
                {
                  "0": "19566",
                  "1": "2800"
                },
                {
                  "0": "19933",
                  "1": "2721"
                },
                {
                  "0": "19791",
                  "1": "2697"
                },
                {
                  "0": "20363",
                  "1": "2668"
                },
                {
                  "0": "19544",
                  "1": "2639"
                },
                {
                  "0": "20190",
                  "1": "2627"
                },
                {
                  "0": "20357",
                  "1": "2559"
                },
                {
                  "0": "19571",
                  "1": "2543"
                },
                {
                  "0": "19687",
                  "1": "2521"
                },
                {
                  "0": "20310",
                  "1": "2515"
                },
                {
                  "0": "19623",
                  "1": "2514"
                },
                {
                  "0": "20116",
                  "1": "2475"
                },
                {
                  "0": "19556",
                  "1": "2469"
                },
                {
                  "0": "20203",
                  "1": "2466"
                },
                {
                  "0": "19874",
                  "1": "2399"
                },
                {
                  "0": "20195",
                  "1": "2369"
                },
                {
                  "0": "20452",
                  "1": "2361"
                },
                {
                  "0": "20218",
                  "1": "2332"
                },
                {
                  "0": "20120",
                  "1": "2326"
                },
                {
                  "0": "19770",
                  "1": "2280"
                },
                {
                  "0": "19546",
                  "1": "2217"
                },
                {
                  "0": "20147",
                  "1": "2211"
                },
                {
                  "0": "19624",
                  "1": "2188"
                },
                {
                  "0": "20428",
                  "1": "2136"
                },
                {
                  "0": "19869",
                  "1": "2125"
                },
                {
                  "0": "19543",
                  "1": "2117"
                },
                {
                  "0": "19961",
                  "1": "2100"
                },
                {
                  "0": "19953",
                  "1": "2073"
                },
                {
                  "0": "21579",
                  "1": "2056"
                },
                {
                  "0": "20250",
                  "1": "2035"
                },
                {
                  "0": "21439",
                  "1": "2028"
                },
                {
                  "0": "20029",
                  "1": "2005"
                },
                {
                  "0": "19875",
                  "1": "1954"
                },
                {
                  "0": "19991",
                  "1": "1934"
                },
                {
                  "0": "19952",
                  "1": "1932"
                },
                {
                  "0": "20005",
                  "1": "1919"
                },
                {
                  "0": "20384",
                  "1": "1908"
                },
                {
                  "0": "20305",
                  "1": "1887"
                },
                {
                  "0": "20207",
                  "1": "1867"
                },
                {
                  "0": "20377",
                  "1": "1867"
                },
                {
                  "0": "19690",
                  "1": "1865"
                },
                {
                  "0": "19821",
                  "1": "1807"
                },
                {
                  "0": "20177",
                  "1": "1767"
                },
                {
                  "0": "19573",
                  "1": "1765"
                },
                {
                  "0": "21080",
                  "1": "1734"
                },
                {
                  "0": "20448",
                  "1": "1726"
                },
                {
                  "0": "20088",
                  "1": "1707"
                },
                {
                  "0": "19912",
                  "1": "1706"
                },
                {
                  "0": "19858",
                  "1": "1690"
                },
                {
                  "0": "20400",
                  "1": "1685"
                },
                {
                  "0": "21652",
                  "1": "1663"
                },
                {
                  "0": "19577",
                  "1": "1655"
                },
                {
                  "0": "20233",
                  "1": "1633"
                },
                {
                  "0": "20421",
                  "1": "1578"
                },
                {
                  "0": "20372",
                  "1": "1567"
                },
                {
                  "0": "19564",
                  "1": "1566"
                },
                {
                  "0": "21610",
                  "1": "1556"
                },
                {
                  "0": "19555",
                  "1": "1548"
                },
                {
                  "0": "19852",
                  "1": "1524"
                },
                {
                  "0": "20167",
                  "1": "1506"
                },
                {
                  "0": "19830",
                  "1": "1484"
                },
                {
                  "0": "20437",
                  "1": "1465"
                },
                {
                  "0": "20111",
                  "1": "1458"
                },
                {
                  "0": "20446",
                  "1": "1452"
                },
                {
                  "0": "20042",
                  "1": "1449"
                },
                {
                  "0": "20191",
                  "1": "1440"
                },
                {
                  "0": "21352",
                  "1": "1434"
                },
                {
                  "0": "20127",
                  "1": "1421"
                },
                {
                  "0": "21376",
                  "1": "1400"
                },
                {
                  "0": "20392",
                  "1": "1383"
                },
                {
                  "0": "20046",
                  "1": "1352"
                },
                {
                  "0": "20232",
                  "1": "1344"
                },
                {
                  "0": "19557",
                  "1": "1328"
                },
                {
                  "0": "20302",
                  "1": "1316"
                },
                {
                  "0": "21578",
                  "1": "1302"
                },
                {
                  "0": "19568",
                  "1": "1294"
                },
                {
                  "0": "19392",
                  "1": "1290"
                },
                {
                  "0": "19958",
                  "1": "1286"
                },
                {
                  "0": "20417",
                  "1": "1277"
                },
                {
                  "0": "19533",
                  "1": "1262"
                },
                {
                  "0": "19535",
                  "1": "1248"
                },
                {
                  "0": "21611",
                  "1": "1247"
                },
                {
                  "0": "20169",
                  "1": "1240"
                },
                {
                  "0": "19576",
                  "1": "1238"
                },
                {
                  "0": "20313",
                  "1": "1238"
                },
                {
                  "0": "20334",
                  "1": "1234"
                },
                {
                  "0": "20375",
                  "1": "1119"
                },
                {
                  "0": "20185",
                  "1": "1101"
                },
                {
                  "0": "19570",
                  "1": "1079"
                },
                {
                  "0": "20278",
                  "1": "1075"
                },
                {
                  "0": "20140",
                  "1": "1054"
                },
                {
                  "0": "19658",
                  "1": "1045"
                },
                {
                  "0": "21167",
                  "1": "1026"
                },
                {
                  "0": "21629",
                  "1": "1022"
                },
                {
                  "0": "20110",
                  "1": "1022"
                },
                {
                  "0": "20405",
                  "1": "1010"
                },
                {
                  "0": "20170",
                  "1": "1000"
                },
                {
                  "0": "20059",
                  "1": "989"
                },
                {
                  "0": "21061",
                  "1": "982"
                },
                {
                  "0": "21262",
                  "1": "960"
                },
                {
                  "0": "20231",
                  "1": "952"
                },
                {
                  "0": "19873",
                  "1": "950"
                },
                {
                  "0": "20368",
                  "1": "935"
                },
                {
                  "0": "20284",
                  "1": "932"
                },
                {
                  "0": "19563",
                  "1": "927"
                },
                {
                  "0": "20214",
                  "1": "918"
                },
                {
                  "0": "21487",
                  "1": "917"
                },
                {
                  "0": "21231",
                  "1": "906"
                },
                {
                  "0": "19553",
                  "1": "877"
                },
                {
                  "0": "20019",
                  "1": "856"
                },
                {
                  "0": "19789",
                  "1": "835"
                },
                {
                  "0": "19855",
                  "1": "828"
                },
                {
                  "0": "21440",
                  "1": "799"
                },
                {
                  "0": "20123",
                  "1": "783"
                },
                {
                  "0": "21743",
                  "1": "776"
                },
                {
                  "0": "19983",
                  "1": "767"
                },
                {
                  "0": "20500",
                  "1": "764"
                },
                {
                  "0": "19812",
                  "1": "759"
                },
                {
                  "0": "20085",
                  "1": "747"
                },
                {
                  "0": "19538",
                  "1": "747"
                },
                {
                  "0": "19529",
                  "1": "746"
                },
                {
                  "0": "20090",
                  "1": "746"
                },
                {
                  "0": "20266",
                  "1": "743"
                },
                {
                  "0": "20133",
                  "1": "742"
                },
                {
                  "0": "19616",
                  "1": "739"
                },
                {
                  "0": "19892",
                  "1": "726"
                },
                {
                  "0": "21107",
                  "1": "713"
                },
                {
                  "0": "19795",
                  "1": "710"
                },
                {
                  "0": "20188",
                  "1": "704"
                },
                {
                  "0": "21226",
                  "1": "700"
                },
                {
                  "0": "20280",
                  "1": "697"
                },
                {
                  "0": "21427",
                  "1": "693"
                },
                {
                  "0": "20371",
                  "1": "691"
                },
                {
                  "0": "20108",
                  "1": "690"
                },
                {
                  "0": "21271",
                  "1": "675"
                },
                {
                  "0": "21202",
                  "1": "672"
                },
                {
                  "0": "20364",
                  "1": "664"
                },
                {
                  "0": "21342",
                  "1": "660"
                },
                {
                  "0": "21361",
                  "1": "651"
                },
                {
                  "0": "19579",
                  "1": "628"
                },
                {
                  "0": "20303",
                  "1": "625"
                },
                {
                  "0": "20286",
                  "1": "620"
                },
                {
                  "0": "20399",
                  "1": "620"
                },
                {
                  "0": "20362",
                  "1": "614"
                },
                {
                  "0": "20210",
                  "1": "614"
                },
                {
                  "0": "20348",
                  "1": "608"
                },
                {
                  "0": "21635",
                  "1": "607"
                },
                {
                  "0": "20146",
                  "1": "589"
                },
                {
                  "0": "21196",
                  "1": "571"
                },
                {
                  "0": "19662",
                  "1": "571"
                },
                {
                  "0": "19536",
                  "1": "570"
                },
                {
                  "0": "20200",
                  "1": "565"
                },
                {
                  "0": "20418",
                  "1": "552"
                },
                {
                  "0": "21160",
                  "1": "552"
                },
                {
                  "0": "20119",
                  "1": "550"
                },
                {
                  "0": "19620",
                  "1": "548"
                },
                {
                  "0": "20237",
                  "1": "543"
                },
                {
                  "0": "20129",
                  "1": "542"
                },
                {
                  "0": "19575",
                  "1": "534"
                },
                {
                  "0": "20065",
                  "1": "534"
                },
                {
                  "0": "20213",
                  "1": "530"
                },
                {
                  "0": "20268",
                  "1": "526"
                },
                {
                  "0": "20162",
                  "1": "518"
                },
                {
                  "0": "20152",
                  "1": "516"
                },
                {
                  "0": "20425",
                  "1": "512"
                },
                {
                  "0": "21492",
                  "1": "510"
                },
                {
                  "0": "21309",
                  "1": "510"
                },
                {
                  "0": "20106",
                  "1": "496"
                },
                {
                  "0": "20155",
                  "1": "496"
                },
                {
                  "0": "19569",
                  "1": "495"
                },
                {
                  "0": "19565",
                  "1": "491"
                },
                {
                  "0": "19580",
                  "1": "489"
                },
                {
                  "0": "20397",
                  "1": "478"
                },
                {
                  "0": "19972",
                  "1": "477"
                },
                {
                  "0": "19562",
                  "1": "476"
                },
                {
                  "0": "21186",
                  "1": "468"
                },
                {
                  "0": "20360",
                  "1": "467"
                },
                {
                  "0": "19829",
                  "1": "464"
                },
                {
                  "0": "19522",
                  "1": "463"
                },
                {
                  "0": "19677",
                  "1": "458"
                },
                {
                  "0": "19995",
                  "1": "455"
                },
                {
                  "0": "19911",
                  "1": "447"
                },
                {
                  "0": "19747",
                  "1": "442"
                },
                {
                  "0": "20440",
                  "1": "439"
                },
                {
                  "0": "21236",
                  "1": "435"
                },
                {
                  "0": "20253",
                  "1": "426"
                },
                {
                  "0": "21308",
                  "1": "424"
                },
                {
                  "0": "19856",
                  "1": "415"
                },
                {
                  "0": "20050",
                  "1": "408"
                },
                {
                  "0": "19510",
                  "1": "401"
                },
                {
                  "0": "21171",
                  "1": "399"
                },
                {
                  "0": "20380",
                  "1": "380"
                },
                {
                  "0": "20393",
                  "1": "379"
                },
                {
                  "0": "20153",
                  "1": "378"
                },
                {
                  "0": "19985",
                  "1": "375"
                },
                {
                  "0": "20387",
                  "1": "371"
                },
                {
                  "0": "21395",
                  "1": "365"
                },
                {
                  "0": "20314",
                  "1": "361"
                },
                {
                  "0": "21580",
                  "1": "361"
                },
                {
                  "0": "19561",
                  "1": "354"
                },
                {
                  "0": "19528",
                  "1": "349"
                },
                {
                  "0": "20099",
                  "1": "342"
                },
                {
                  "0": "19707",
                  "1": "340"
                },
                {
                  "0": "21084",
                  "1": "335"
                },
                {
                  "0": "20373",
                  "1": "333"
                },
                {
                  "0": "20105",
                  "1": "332"
                },
                {
                  "0": "21331",
                  "1": "322"
                },
                {
                  "0": "19519",
                  "1": "320"
                },
                {
                  "0": "19950",
                  "1": "316"
                },
                {
                  "0": "19956",
                  "1": "316"
                },
                {
                  "0": "19526",
                  "1": "309"
                },
                {
                  "0": "20080",
                  "1": "308"
                },
                {
                  "0": "21823",
                  "1": "304"
                },
                {
                  "0": "21650",
                  "1": "303"
                },
                {
                  "0": "20183",
                  "1": "303"
                },
                {
                  "0": "19515",
                  "1": "301"
                },
                {
                  "0": "20216",
                  "1": "299"
                },
                {
                  "0": "21638",
                  "1": "294"
                },
                {
                  "0": "21924",
                  "1": "293"
                },
                {
                  "0": "21059",
                  "1": "293"
                },
                {
                  "0": "21131",
                  "1": "290"
                },
                {
                  "0": "21557",
                  "1": "289"
                },
                {
                  "0": "20408",
                  "1": "288"
                },
                {
                  "0": "19778",
                  "1": "286"
                },
                {
                  "0": "21423",
                  "1": "285"
                },
                {
                  "0": "20331",
                  "1": "281"
                },
                {
                  "0": "21356",
                  "1": "277"
                },
                {
                  "0": "21598",
                  "1": "277"
                },
                {
                  "0": "19678",
                  "1": "276"
                },
                {
                  "0": "19685",
                  "1": "275"
                },
                {
                  "0": "19650",
                  "1": "274"
                },
                {
                  "0": "19893",
                  "1": "269"
                },
                {
                  "0": "20335",
                  "1": "263"
                },
                {
                  "0": "19804",
                  "1": "259"
                },
                {
                  "0": "19860",
                  "1": "259"
                },
                {
                  "0": "19954",
                  "1": "258"
                },
                {
                  "0": "20028",
                  "1": "257"
                },
                {
                  "0": "20394",
                  "1": "256"
                },
                {
                  "0": "21147",
                  "1": "254"
                },
                {
                  "0": "20263",
                  "1": "251"
                },
                {
                  "0": "19839",
                  "1": "248"
                },
                {
                  "0": "20222",
                  "1": "242"
                },
                {
                  "0": "21674",
                  "1": "235"
                },
                {
                  "0": "21121",
                  "1": "233"
                },
                {
                  "0": "21402",
                  "1": "231"
                },
                {
                  "0": "21007",
                  "1": "230"
                },
                {
                  "0": "21411",
                  "1": "230"
                },
                {
                  "0": "21447",
                  "1": "228"
                },
                {
                  "0": "20208",
                  "1": "225"
                },
                {
                  "0": "21592",
                  "1": "223"
                },
                {
                  "0": "20317",
                  "1": "222"
                },
                {
                  "0": "19506",
                  "1": "221"
                },
                {
                  "0": "20234",
                  "1": "220"
                },
                {
                  "0": "19524",
                  "1": "220"
                },
                {
                  "0": "21605",
                  "1": "218"
                },
                {
                  "0": "19976",
                  "1": "218"
                },
                {
                  "0": "20445",
                  "1": "213"
                },
                {
                  "0": "21406",
                  "1": "213"
                },
                {
                  "0": "20292",
                  "1": "206"
                },
                {
                  "0": "20427",
                  "1": "205"
                },
                {
                  "0": "19728",
                  "1": "205"
                },
                {
                  "0": "20450",
                  "1": "205"
                },
                {
                  "0": "21366",
                  "1": "204"
                },
                {
                  "0": "21035",
                  "1": "203"
                },
                {
                  "0": "21134",
                  "1": "200"
                },
                {
                  "0": "21667",
                  "1": "199"
                },
                {
                  "0": "20209",
                  "1": "198"
                },
                {
                  "0": "19541",
                  "1": "198"
                },
                {
                  "0": "21646",
                  "1": "196"
                },
                {
                  "0": "20025",
                  "1": "195"
                },
                {
                  "0": "20104",
                  "1": "194"
                },
                {
                  "0": "21590",
                  "1": "193"
                },
                {
                  "0": "19932",
                  "1": "191"
                },
                {
                  "0": "21294",
                  "1": "188"
                },
                {
                  "0": "20064",
                  "1": "188"
                },
                {
                  "0": "20227",
                  "1": "188"
                },
                {
                  "0": "20023",
                  "1": "187"
                },
                {
                  "0": "21780",
                  "1": "183"
                },
                {
                  "0": "19521",
                  "1": "180"
                },
                {
                  "0": "20022",
                  "1": "180"
                },
                {
                  "0": "20124",
                  "1": "177"
                },
                {
                  "0": "20093",
                  "1": "176"
                },
                {
                  "0": "20045",
                  "1": "174"
                },
                {
                  "0": "20442",
                  "1": "172"
                },
                {
                  "0": "20254",
                  "1": "172"
                },
                {
                  "0": "21416",
                  "1": "170"
                },
                {
                  "0": "21094",
                  "1": "169"
                },
                {
                  "0": "21463",
                  "1": "166"
                },
                {
                  "0": "19949",
                  "1": "164"
                },
                {
                  "0": "20406",
                  "1": "164"
                },
                {
                  "0": "22010",
                  "1": "162"
                },
                {
                  "0": "20143",
                  "1": "161"
                },
                {
                  "0": "19508",
                  "1": "161"
                },
                {
                  "0": "21306",
                  "1": "161"
                },
                {
                  "0": "21615",
                  "1": "159"
                },
                {
                  "0": "21728",
                  "1": "158"
                },
                {
                  "0": "19746",
                  "1": "157"
                },
                {
                  "0": "20379",
                  "1": "157"
                },
                {
                  "0": "20102",
                  "1": "157"
                },
                {
                  "0": "21974",
                  "1": "156"
                },
                {
                  "0": "20294",
                  "1": "155"
                },
                {
                  "0": "21567",
                  "1": "153"
                },
                {
                  "0": "20404",
                  "1": "151"
                },
                {
                  "0": "19895",
                  "1": "149"
                },
                {
                  "0": "19527",
                  "1": "147"
                },
                {
                  "0": "21148",
                  "1": "147"
                },
                {
                  "0": "20010",
                  "1": "146"
                },
                {
                  "0": "20089",
                  "1": "146"
                },
                {
                  "0": "20283",
                  "1": "146"
                },
                {
                  "0": "19530",
                  "1": "143"
                },
                {
                  "0": "21158",
                  "1": "142"
                },
                {
                  "0": "21421",
                  "1": "141"
                },
                {
                  "0": "20351",
                  "1": "140"
                },
                {
                  "0": "21258",
                  "1": "140"
                },
                {
                  "0": "21136",
                  "1": "139"
                },
                {
                  "0": "21266",
                  "1": "138"
                },
                {
                  "0": "19998",
                  "1": "137"
                },
                {
                  "0": "21433",
                  "1": "137"
                },
                {
                  "0": "21770",
                  "1": "137"
                },
                {
                  "0": "21656",
                  "1": "136"
                },
                {
                  "0": "21261",
                  "1": "136"
                },
                {
                  "0": "21645",
                  "1": "136"
                },
                {
                  "0": "19799",
                  "1": "133"
                },
                {
                  "0": "22020",
                  "1": "130"
                },
                {
                  "0": "19520",
                  "1": "130"
                },
                {
                  "0": "21607",
                  "1": "129"
                },
                {
                  "0": "20043",
                  "1": "128"
                },
                {
                  "0": "21552",
                  "1": "126"
                },
                {
                  "0": "19891",
                  "1": "126"
                },
                {
                  "0": "20456",
                  "1": "126"
                },
                {
                  "0": "19614",
                  "1": "124"
                },
                {
                  "0": "21192",
                  "1": "123"
                },
                {
                  "0": "21693",
                  "1": "123"
                },
                {
                  "0": "20230",
                  "1": "122"
                },
                {
                  "0": "19840",
                  "1": "121"
                },
                {
                  "0": "21074",
                  "1": "121"
                },
                {
                  "0": "20074",
                  "1": "120"
                },
                {
                  "0": "20221",
                  "1": "120"
                },
                {
                  "0": "20006",
                  "1": "119"
                },
                {
                  "0": "20309",
                  "1": "118"
                },
                {
                  "0": "20075",
                  "1": "118"
                },
                {
                  "0": "20125",
                  "1": "117"
                },
                {
                  "0": "21764",
                  "1": "116"
                },
                {
                  "0": "20359",
                  "1": "115"
                },
                {
                  "0": "21323",
                  "1": "113"
                },
                {
                  "0": "21528",
                  "1": "113"
                },
                {
                  "0": "19865",
                  "1": "113"
                },
                {
                  "0": "21281",
                  "1": "113"
                },
                {
                  "0": "19894",
                  "1": "113"
                },
                {
                  "0": "21587",
                  "1": "112"
                },
                {
                  "0": "20145",
                  "1": "111"
                },
                {
                  "0": "20296",
                  "1": "110"
                },
                {
                  "0": "21814",
                  "1": "110"
                },
                {
                  "0": "20138",
                  "1": "109"
                },
                {
                  "0": "21624",
                  "1": "109"
                },
                {
                  "0": "21670",
                  "1": "108"
                },
                {
                  "0": "21407",
                  "1": "108"
                },
                {
                  "0": "21569",
                  "1": "107"
                },
                {
                  "0": "20144",
                  "1": "107"
                },
                {
                  "0": "21040",
                  "1": "106"
                },
                {
                  "0": "20034",
                  "1": "106"
                },
                {
                  "0": "21601",
                  "1": "105"
                },
                {
                  "0": "20412",
                  "1": "104"
                },
                {
                  "0": "20388",
                  "1": "104"
                },
                {
                  "0": "21070",
                  "1": "103"
                },
                {
                  "0": "21749",
                  "1": "102"
                },
                {
                  "0": "20024",
                  "1": "102"
                },
                {
                  "0": "20136",
                  "1": "101"
                },
                {
                  "0": "21630",
                  "1": "100"
                },
                {
                  "0": "21626",
                  "1": "96"
                },
                {
                  "0": "21694",
                  "1": "95"
                },
                {
                  "0": "20097",
                  "1": "95"
                },
                {
                  "0": "19745",
                  "1": "93"
                },
                {
                  "0": "20114",
                  "1": "93"
                },
                {
                  "0": "19996",
                  "1": "90"
                },
                {
                  "0": "20044",
                  "1": "90"
                },
                {
                  "0": "20444",
                  "1": "90"
                },
                {
                  "0": "21735",
                  "1": "90"
                },
                {
                  "0": "20502",
                  "1": "89"
                },
                {
                  "0": "19896",
                  "1": "88"
                },
                {
                  "0": "20189",
                  "1": "87"
                },
                {
                  "0": "20345",
                  "1": "87"
                },
                {
                  "0": "20073",
                  "1": "87"
                },
                {
                  "0": "21008",
                  "1": "86"
                },
                {
                  "0": "20239",
                  "1": "86"
                },
                {
                  "0": "21707",
                  "1": "86"
                },
                {
                  "0": "19635",
                  "1": "84"
                },
                {
                  "0": "19698",
                  "1": "83"
                },
                {
                  "0": "20003",
                  "1": "83"
                },
                {
                  "0": "21548",
                  "1": "82"
                },
                {
                  "0": "19511",
                  "1": "82"
                },
                {
                  "0": "22001",
                  "1": "82"
                },
                {
                  "0": "21142",
                  "1": "81"
                },
                {
                  "0": "19981",
                  "1": "79"
                },
                {
                  "0": "21302",
                  "1": "77"
                },
                {
                  "0": "21326",
                  "1": "76"
                },
                {
                  "0": "19900",
                  "1": "76"
                },
                {
                  "0": "19897",
                  "1": "74"
                },
                {
                  "0": "20265",
                  "1": "74"
                },
                {
                  "0": "19910",
                  "1": "74"
                },
                {
                  "0": "21608",
                  "1": "72"
                },
                {
                  "0": "20381",
                  "1": "72"
                },
                {
                  "0": "19886",
                  "1": "71"
                },
                {
                  "0": "21467",
                  "1": "71"
                },
                {
                  "0": "20055",
                  "1": "70"
                },
                {
                  "0": "19909",
                  "1": "69"
                },
                {
                  "0": "20030",
                  "1": "69"
                },
                {
                  "0": "20020",
                  "1": "68"
                },
                {
                  "0": "21373",
                  "1": "68"
                },
                {
                  "0": "20356",
                  "1": "67"
                },
                {
                  "0": "19670",
                  "1": "66"
                },
                {
                  "0": "20178",
                  "1": "66"
                },
                {
                  "0": "21692",
                  "1": "65"
                },
                {
                  "0": "19505",
                  "1": "65"
                },
                {
                  "0": "20295",
                  "1": "64"
                },
                {
                  "0": "20163",
                  "1": "63"
                },
                {
                  "0": "21944",
                  "1": "63"
                },
                {
                  "0": "19973",
                  "1": "62"
                },
                {
                  "0": "21659",
                  "1": "62"
                },
                {
                  "0": "21869",
                  "1": "61"
                },
                {
                  "0": "19902",
                  "1": "60"
                },
                {
                  "0": "21518",
                  "1": "60"
                },
                {
                  "0": "19512",
                  "1": "57"
                },
                {
                  "0": "19514",
                  "1": "57"
                },
                {
                  "0": "19684",
                  "1": "56"
                },
                {
                  "0": "20291",
                  "1": "56"
                },
                {
                  "0": "20383",
                  "1": "55"
                },
                {
                  "0": "21995",
                  "1": "54"
                },
                {
                  "0": "21181",
                  "1": "53"
                },
                {
                  "0": "21507",
                  "1": "52"
                },
                {
                  "0": "19867",
                  "1": "52"
                },
                {
                  "0": "21562",
                  "1": "51"
                },
                {
                  "0": "20290",
                  "1": "51"
                },
                {
                  "0": "19862",
                  "1": "51"
                },
                {
                  "0": "19994",
                  "1": "51"
                },
                {
                  "0": "19517",
                  "1": "51"
                },
                {
                  "0": "21631",
                  "1": "51"
                },
                {
                  "0": "21738",
                  "1": "50"
                },
                {
                  "0": "21651",
                  "1": "48"
                },
                {
                  "0": "21760",
                  "1": "47"
                },
                {
                  "0": "20420",
                  "1": "47"
                },
                {
                  "0": "22067",
                  "1": "47"
                },
                {
                  "0": "19824",
                  "1": "47"
                },
                {
                  "0": "21672",
                  "1": "46"
                },
                {
                  "0": "22030",
                  "1": "46"
                },
                {
                  "0": "19984",
                  "1": "45"
                },
                {
                  "0": "20327",
                  "1": "45"
                },
                {
                  "0": "21785",
                  "1": "45"
                },
                {
                  "0": "20150",
                  "1": "44"
                },
                {
                  "0": "19516",
                  "1": "44"
                },
                {
                  "0": "19560",
                  "1": "44"
                },
                {
                  "0": "20032",
                  "1": "43"
                },
                {
                  "0": "20297",
                  "1": "42"
                },
                {
                  "0": "20015",
                  "1": "42"
                },
                {
                  "0": "20186",
                  "1": "41"
                },
                {
                  "0": "19890",
                  "1": "41"
                },
                {
                  "0": "19627",
                  "1": "41"
                },
                {
                  "0": "21117",
                  "1": "40"
                },
                {
                  "0": "20205",
                  "1": "40"
                },
                {
                  "0": "19889",
                  "1": "40"
                },
                {
                  "0": "21248",
                  "1": "40"
                },
                {
                  "0": "20396",
                  "1": "39"
                },
                {
                  "0": "21954",
                  "1": "39"
                },
                {
                  "0": "20299",
                  "1": "39"
                },
                {
                  "0": "20270",
                  "1": "38"
                },
                {
                  "0": "20027",
                  "1": "38"
                },
                {
                  "0": "20389",
                  "1": "37"
                },
                {
                  "0": "21712",
                  "1": "37"
                },
                {
                  "0": "19928",
                  "1": "37"
                },
                {
                  "0": "20391",
                  "1": "37"
                },
                {
                  "0": "20121",
                  "1": "37"
                },
                {
                  "0": "20002",
                  "1": "37"
                },
                {
                  "0": "20382",
                  "1": "36"
                },
                {
                  "0": "20390",
                  "1": "36"
                },
                {
                  "0": "21657",
                  "1": "35"
                },
                {
                  "0": "21677",
                  "1": "35"
                },
                {
                  "0": "21573",
                  "1": "35"
                },
                {
                  "0": "19993",
                  "1": "33"
                },
                {
                  "0": "20142",
                  "1": "33"
                },
                {
                  "0": "20451",
                  "1": "33"
                },
                {
                  "0": "20225",
                  "1": "32"
                },
                {
                  "0": "21821",
                  "1": "31"
                },
                {
                  "0": "20134",
                  "1": "31"
                },
                {
                  "0": "19863",
                  "1": "31"
                },
                {
                  "0": "20454",
                  "1": "30"
                },
                {
                  "0": "19808",
                  "1": "30"
                },
                {
                  "0": "20438",
                  "1": "30"
                },
                {
                  "0": "21069",
                  "1": "29"
                },
                {
                  "0": "20077",
                  "1": "29"
                },
                {
                  "0": "19899",
                  "1": "29"
                },
                {
                  "0": "21346",
                  "1": "29"
                },
                {
                  "0": "19931",
                  "1": "28"
                },
                {
                  "0": "20269",
                  "1": "27"
                },
                {
                  "0": "20282",
                  "1": "27"
                },
                {
                  "0": "20311",
                  "1": "27"
                },
                {
                  "0": "20235",
                  "1": "26"
                },
                {
                  "0": "20367",
                  "1": "26"
                },
                {
                  "0": "19940",
                  "1": "25"
                },
                {
                  "0": "19793",
                  "1": "25"
                },
                {
                  "0": "19942",
                  "1": "25"
                },
                {
                  "0": "21434",
                  "1": "25"
                },
                {
                  "0": "20056",
                  "1": "25"
                },
                {
                  "0": "20320",
                  "1": "24"
                },
                {
                  "0": "21477",
                  "1": "24"
                },
                {
                  "0": "20128",
                  "1": "24"
                },
                {
                  "0": "20109",
                  "1": "23"
                },
                {
                  "0": "19509",
                  "1": "23"
                },
                {
                  "0": "20079",
                  "1": "23"
                },
                {
                  "0": "21574",
                  "1": "22"
                },
                {
                  "0": "20182",
                  "1": "22"
                },
                {
                  "0": "22025",
                  "1": "22"
                },
                {
                  "0": "20258",
                  "1": "21"
                },
                {
                  "0": "19883",
                  "1": "21"
                },
                {
                  "0": "20298",
                  "1": "21"
                },
                {
                  "0": "19969",
                  "1": "21"
                },
                {
                  "0": "21969",
                  "1": "20"
                },
                {
                  "0": "20179",
                  "1": "20"
                },
                {
                  "0": "22052",
                  "1": "20"
                },
                {
                  "0": "21649",
                  "1": "20"
                },
                {
                  "0": "19647",
                  "1": "19"
                },
                {
                  "0": "21860",
                  "1": "19"
                },
                {
                  "0": "22002",
                  "1": "19"
                },
                {
                  "0": "21221",
                  "1": "18"
                },
                {
                  "0": "20419",
                  "1": "18"
                },
                {
                  "0": "21949",
                  "1": "18"
                },
                {
                  "0": "21126",
                  "1": "18"
                },
                {
                  "0": "20026",
                  "1": "17"
                },
                {
                  "0": "21919",
                  "1": "17"
                },
                {
                  "0": "21287",
                  "1": "17"
                },
                {
                  "0": "21212",
                  "1": "17"
                },
                {
                  "0": "20449",
                  "1": "16"
                },
                {
                  "0": "19806",
                  "1": "16"
                },
                {
                  "0": "21939",
                  "1": "16"
                },
                {
                  "0": "20001",
                  "1": "15"
                },
                {
                  "0": "20340",
                  "1": "15"
                },
                {
                  "0": "19671",
                  "1": "15"
                },
                {
                  "0": "20066",
                  "1": "15"
                },
                {
                  "0": "19851",
                  "1": "14"
                },
                {
                  "0": "20154",
                  "1": "14"
                },
                {
                  "0": "21116",
                  "1": "14"
                },
                {
                  "0": "19982",
                  "1": "14"
                },
                {
                  "0": "19885",
                  "1": "14"
                },
                {
                  "0": "19884",
                  "1": "14"
                },
                {
                  "0": "19963",
                  "1": "14"
                },
                {
                  "0": "21781",
                  "1": "13"
                },
                {
                  "0": "19610",
                  "1": "13"
                },
                {
                  "0": "20161",
                  "1": "12"
                },
                {
                  "0": "20091",
                  "1": "12"
                },
                {
                  "0": "20354",
                  "1": "12"
                },
                {
                  "0": "20386",
                  "1": "12"
                },
                {
                  "0": "21438",
                  "1": "12"
                },
                {
                  "0": "20117",
                  "1": "12"
                },
                {
                  "0": "20096",
                  "1": "12"
                },
                {
                  "0": "20350",
                  "1": "12"
                },
                {
                  "0": "22016",
                  "1": "12"
                },
                {
                  "0": "19513",
                  "1": "11"
                },
                {
                  "0": "21452",
                  "1": "11"
                },
                {
                  "0": "19975",
                  "1": "11"
                },
                {
                  "0": "19941",
                  "1": "11"
                },
                {
                  "0": "21386",
                  "1": "11"
                },
                {
                  "0": "21774",
                  "1": "10"
                },
                {
                  "0": "21317",
                  "1": "10"
                },
                {
                  "0": "21594",
                  "1": "10"
                },
                {
                  "0": "21875",
                  "1": "10"
                },
                {
                  "0": "20175",
                  "1": "9"
                },
                {
                  "0": "20326",
                  "1": "8"
                },
                {
                  "0": "21512",
                  "1": "8"
                },
                {
                  "0": "20018",
                  "1": "8"
                },
                {
                  "0": "20051",
                  "1": "8"
                },
                {
                  "0": "20455",
                  "1": "8"
                },
                {
                  "0": "20103",
                  "1": "8"
                },
                {
                  "0": "21503",
                  "1": "7"
                },
                {
                  "0": "22036",
                  "1": "7"
                },
                {
                  "0": "20052",
                  "1": "7"
                },
                {
                  "0": "21854",
                  "1": "7"
                },
                {
                  "0": "20333",
                  "1": "7"
                },
                {
                  "0": "19992",
                  "1": "7"
                },
                {
                  "0": "20071",
                  "1": "6"
                },
                {
                  "0": "22048",
                  "1": "6"
                },
                {
                  "0": "19771",
                  "1": "6"
                },
                {
                  "0": "19927",
                  "1": "6"
                },
                {
                  "0": "20443",
                  "1": "6"
                },
                {
                  "0": "22061",
                  "1": "6"
                },
                {
                  "0": "20243",
                  "1": "6"
                },
                {
                  "0": "21549",
                  "1": "6"
                },
                {
                  "0": "19914",
                  "1": "6"
                },
                {
                  "0": "22057",
                  "1": "6"
                },
                {
                  "0": "22062",
                  "1": "5"
                },
                {
                  "0": "21985",
                  "1": "5"
                },
                {
                  "0": "20236",
                  "1": "5"
                },
                {
                  "0": "20251",
                  "1": "5"
                },
                {
                  "0": "22035",
                  "1": "4"
                },
                {
                  "0": "20338",
                  "1": "4"
                },
                {
                  "0": "20281",
                  "1": "4"
                },
                {
                  "0": "20224",
                  "1": "4"
                },
                {
                  "0": "19887",
                  "1": "4"
                },
                {
                  "0": "20053",
                  "1": "3"
                },
                {
                  "0": "20165",
                  "1": "3"
                },
                {
                  "0": "20157",
                  "1": "3"
                },
                {
                  "0": "21889",
                  "1": "3"
                },
                {
                  "0": "19913",
                  "1": "3"
                },
                {
                  "0": "20339",
                  "1": "3"
                },
                {
                  "0": "20285",
                  "1": "3"
                },
                {
                  "0": "20342",
                  "1": "3"
                },
                {
                  "0": "20000",
                  "1": "3"
                },
                {
                  "0": "20330",
                  "1": "3"
                },
                {
                  "0": "21894",
                  "1": "3"
                },
                {
                  "0": "20184",
                  "1": "3"
                },
                {
                  "0": "22005",
                  "1": "3"
                },
                {
                  "0": "21733",
                  "1": "3"
                },
                {
                  "0": "20349",
                  "1": "2"
                },
                {
                  "0": "19518",
                  "1": "2"
                },
                {
                  "0": "21247",
                  "1": "2"
                },
                {
                  "0": "21312",
                  "1": "2"
                },
                {
                  "0": "21597",
                  "1": "2"
                },
                {
                  "0": "20196",
                  "1": "2"
                },
                {
                  "0": "20336",
                  "1": "2"
                },
                {
                  "0": "20346",
                  "1": "2"
                },
                {
                  "0": "20226",
                  "1": "2"
                },
                {
                  "0": "21111",
                  "1": "2"
                },
                {
                  "0": "20319",
                  "1": "1"
                },
                {
                  "0": "19916",
                  "1": "1"
                },
                {
                  "0": "20341",
                  "1": "1"
                },
                {
                  "0": "19955",
                  "1": "1"
                },
                {
                  "0": "20337",
                  "1": "1"
                }
              ],
              "schema": [
                {
                  "key": "0",
                  "name": "airlineid",
                  "type": "string"
                },
                {
                  "key": "1",
                  "name": "count",
                  "type": "bigint"
                }
              ]
            },
            "isSummary": false,
            "language": "scala"
          },
          "persist_state": {
            "view": {
              "type": "details",
              "tableOptions": {},
              "chartOptions": {
                "chartType": "bar",
                "aggregationType": "sum",
                "categoryFieldKeys": [
                  "0"
                ],
                "seriesFieldKeys": [
                  "1"
                ],
                "isStacked": false
              }
            }
          }
        },
        "e77e4982-a2a6-4bd5-9a11-7cf899cbd6ad": {
          "type": "Synapse.DataFrame",
          "sync_state": {
            "table": {
              "rows": [
                {
                  "0": "MIA",
                  "1": "133820"
                },
                {
                  "0": "JFK",
                  "1": "78824"
                },
                {
                  "0": "LAX",
                  "1": "57492"
                },
                {
                  "0": "ORD",
                  "1": "43853"
                },
                {
                  "0": "EWR",
                  "1": "36708"
                },
                {
                  "0": "IAH",
                  "1": "32009"
                },
                {
                  "0": "ATL",
                  "1": "28978"
                },
                {
                  "0": "ANC",
                  "1": "24277"
                },
                {
                  "0": "SJU",
                  "1": "22948"
                },
                {
                  "0": "SFO",
                  "1": "22406"
                },
                {
                  "0": "DFW",
                  "1": "21309"
                },
                {
                  "0": "BOS",
                  "1": "21060"
                },
                {
                  "0": "MCO",
                  "1": "19121"
                },
                {
                  "0": "FLL",
                  "1": "18976"
                },
                {
                  "0": "HNL",
                  "1": "18352"
                },
                {
                  "0": "IAD",
                  "1": "18009"
                },
                {
                  "0": "PHL",
                  "1": "15459"
                },
                {
                  "0": "DTW",
                  "1": "14679"
                },
                {
                  "0": "GUM",
                  "1": "12701"
                },
                {
                  "0": "MSP",
                  "1": "12278"
                },
                {
                  "0": "SEA",
                  "1": "11348"
                },
                {
                  "0": "LAS",
                  "1": "11233"
                },
                {
                  "0": "DEN",
                  "1": "9509"
                },
                {
                  "0": "CLT",
                  "1": "8412"
                },
                {
                  "0": "PHX",
                  "1": "8313"
                },
                {
                  "0": "MEM",
                  "1": "8061"
                },
                {
                  "0": "CVG",
                  "1": "7951"
                },
                {
                  "0": "BWI",
                  "1": "6935"
                },
                {
                  "0": "LRD",
                  "1": "5997"
                },
                {
                  "0": "BGR",
                  "1": "5845"
                },
                {
                  "0": "IND",
                  "1": "5207"
                },
                {
                  "0": "SAT",
                  "1": "5173"
                },
                {
                  "0": "TPA",
                  "1": "5136"
                },
                {
                  "0": "SFB",
                  "1": "4875"
                },
                {
                  "0": "SPN",
                  "1": "4406"
                },
                {
                  "0": "PIT",
                  "1": "4233"
                },
                {
                  "0": "TEB",
                  "1": "4124"
                },
                {
                  "0": "YIP",
                  "1": "4067"
                },
                {
                  "0": "STL",
                  "1": "3945"
                },
                {
                  "0": "CLE",
                  "1": "3943"
                },
                {
                  "0": "LGA",
                  "1": "3921"
                },
                {
                  "0": "SDF",
                  "1": "3910"
                },
                {
                  "0": "BQN",
                  "1": "3753"
                },
                {
                  "0": "OAK",
                  "1": "3604"
                },
                {
                  "0": "SLC",
                  "1": "3326"
                },
                {
                  "0": "MSY",
                  "1": "3317"
                },
                {
                  "0": "PDX",
                  "1": "3132"
                },
                {
                  "0": "PBI",
                  "1": "3006"
                },
                {
                  "0": "BDL",
                  "1": "2808"
                },
                {
                  "0": "SAN",
                  "1": "2793"
                },
                {
                  "0": "ELP",
                  "1": "2695"
                },
                {
                  "0": "SJC",
                  "1": "2654"
                },
                {
                  "0": "MKE",
                  "1": "2628"
                },
                {
                  "0": "AUS",
                  "1": "2518"
                },
                {
                  "0": "RSW",
                  "1": "2489"
                },
                {
                  "0": "RDU",
                  "1": "2455"
                },
                {
                  "0": "HSV",
                  "1": "2212"
                },
                {
                  "0": "MDW",
                  "1": "2211"
                },
                {
                  "0": "SHV",
                  "1": "2185"
                },
                {
                  "0": "BUF",
                  "1": "2179"
                },
                {
                  "0": "FAI",
                  "1": "2178"
                },
                {
                  "0": "MCI",
                  "1": "2154"
                },
                {
                  "0": "CHS",
                  "1": "2100"
                },
                {
                  "0": "DOV",
                  "1": "1967"
                },
                {
                  "0": "BNA",
                  "1": "1890"
                },
                {
                  "0": "WRI",
                  "1": "1851"
                },
                {
                  "0": "DAY",
                  "1": "1809"
                },
                {
                  "0": "BRO",
                  "1": "1512"
                },
                {
                  "0": "HPN",
                  "1": "1497"
                },
                {
                  "0": "BFI",
                  "1": "1474"
                },
                {
                  "0": "DCA",
                  "1": "1455"
                },
                {
                  "0": "PIE",
                  "1": "1375"
                },
                {
                  "0": "TOL",
                  "1": "1360"
                },
                {
                  "0": "CMH",
                  "1": "1338"
                },
                {
                  "0": "SWF",
                  "1": "1279"
                },
                {
                  "0": "AEX",
                  "1": "1259"
                },
                {
                  "0": "NGU",
                  "1": "1233"
                },
                {
                  "0": "STT",
                  "1": "1199"
                },
                {
                  "0": "PSP",
                  "1": "1165"
                },
                {
                  "0": "UAM",
                  "1": "1141"
                },
                {
                  "0": "OGG",
                  "1": "1095"
                },
                {
                  "0": "LKE",
                  "1": "1081"
                },
                {
                  "0": "TUS",
                  "1": "1034"
                },
                {
                  "0": "PPG",
                  "1": "1002"
                },
                {
                  "0": "SMF",
                  "1": "978"
                },
                {
                  "0": "ONT",
                  "1": "939"
                },
                {
                  "0": "RIC",
                  "1": "910"
                },
                {
                  "0": "SYR",
                  "1": "902"
                },
                {
                  "0": "HOU",
                  "1": "900"
                },
                {
                  "0": "PTK",
                  "1": "837"
                },
                {
                  "0": "DAL",
                  "1": "835"
                },
                {
                  "0": "OPF",
                  "1": "814"
                },
                {
                  "0": "KEH",
                  "1": "807"
                },
                {
                  "0": "ALB",
                  "1": "797"
                },
                {
                  "0": "BED",
                  "1": "788"
                },
                {
                  "0": "RNO",
                  "1": "765"
                },
                {
                  "0": "STX",
                  "1": "729"
                },
                {
                  "0": "OKC",
                  "1": "708"
                },
                {
                  "0": "ACY",
                  "1": "702"
                },
                {
                  "0": "PVD",
                  "1": "700"
                },
                {
                  "0": "ORF",
                  "1": "683"
                },
                {
                  "0": "ZZZ",
                  "1": "680"
                },
                {
                  "0": "ROC",
                  "1": "673"
                },
                {
                  "0": "MFE",
                  "1": "671"
                },
                {
                  "0": "LCK",
                  "1": "664"
                },
                {
                  "0": "RFD",
                  "1": "663"
                },
                {
                  "0": "GEG",
                  "1": "654"
                },
                {
                  "0": "HRL",
                  "1": "641"
                },
                {
                  "0": "JAX",
                  "1": "600"
                },
                {
                  "0": "KOA",
                  "1": "581"
                },
                {
                  "0": "AZA",
                  "1": "572"
                },
                {
                  "0": "CRP",
                  "1": "550"
                },
                {
                  "0": "GTF",
                  "1": "548"
                },
                {
                  "0": "GSP",
                  "1": "545"
                },
                {
                  "0": "SNA",
                  "1": "543"
                },
                {
                  "0": "SAV",
                  "1": "530"
                },
                {
                  "0": "FAR",
                  "1": "499"
                },
                {
                  "0": "PSM",
                  "1": "497"
                },
                {
                  "0": "GRR",
                  "1": "496"
                },
                {
                  "0": "ILN",
                  "1": "490"
                },
                {
                  "0": "MDT",
                  "1": "478"
                },
                {
                  "0": "EDF",
                  "1": "440"
                },
                {
                  "0": "OMA",
                  "1": "433"
                },
                {
                  "0": "BHM",
                  "1": "428"
                },
                {
                  "0": "SUU",
                  "1": "421"
                },
                {
                  "0": "CAE",
                  "1": "417"
                },
                {
                  "0": "FSD",
                  "1": "415"
                },
                {
                  "0": "FRG",
                  "1": "395"
                },
                {
                  "0": "TUL",
                  "1": "394"
                },
                {
                  "0": "FAT",
                  "1": "388"
                },
                {
                  "0": "SRQ",
                  "1": "386"
                },
                {
                  "0": "GSO",
                  "1": "365"
                },
                {
                  "0": "ADS",
                  "1": "363"
                },
                {
                  "0": "VNY",
                  "1": "359"
                },
                {
                  "0": "ABE",
                  "1": "358"
                },
                {
                  "0": "TYS",
                  "1": "343"
                },
                {
                  "0": "EFD",
                  "1": "338"
                },
                {
                  "0": "HIK",
                  "1": "334"
                },
                {
                  "0": "BUR",
                  "1": "328"
                },
                {
                  "0": "BTV",
                  "1": "325"
                },
                {
                  "0": "COS",
                  "1": "324"
                },
                {
                  "0": "ADW",
                  "1": "323"
                },
                {
                  "0": "MYR",
                  "1": "319"
                },
                {
                  "0": "FWA",
                  "1": "316"
                },
                {
                  "0": "PAE",
                  "1": "311"
                },
                {
                  "0": "GFK",
                  "1": "301"
                },
                {
                  "0": "IFP",
                  "1": "300"
                },
                {
                  "0": "MLB",
                  "1": "292"
                },
                {
                  "0": "DAB",
                  "1": "290"
                },
                {
                  "0": "BLI",
                  "1": "257"
                },
                {
                  "0": "IAG",
                  "1": "245"
                },
                {
                  "0": "OME",
                  "1": "241"
                },
                {
                  "0": "LEX",
                  "1": "239"
                },
                {
                  "0": "LIT",
                  "1": "236"
                },
                {
                  "0": "MHT",
                  "1": "232"
                },
                {
                  "0": "AFW",
                  "1": "231"
                },
                {
                  "0": "NIP",
                  "1": "229"
                },
                {
                  "0": "PWM",
                  "1": "225"
                },
                {
                  "0": "DSM",
                  "1": "219"
                },
                {
                  "0": "AGS",
                  "1": "216"
                },
                {
                  "0": "ABQ",
                  "1": "215"
                },
                {
                  "0": "FXE",
                  "1": "214"
                },
                {
                  "0": "JON",
                  "1": "212"
                },
                {
                  "0": "DLH",
                  "1": "210"
                },
                {
                  "0": "ILM",
                  "1": "210"
                },
                {
                  "0": "FOK",
                  "1": "207"
                },
                {
                  "0": "POB",
                  "1": "198"
                },
                {
                  "0": "ICT",
                  "1": "192"
                },
                {
                  "0": "RST",
                  "1": "190"
                },
                {
                  "0": "BOI",
                  "1": "176"
                },
                {
                  "0": "ROR",
                  "1": "167"
                },
                {
                  "0": "MSN",
                  "1": "164"
                },
                {
                  "0": "FRD",
                  "1": "163"
                },
                {
                  "0": "NKT",
                  "1": "161"
                },
                {
                  "0": "ABI",
                  "1": "159"
                },
                {
                  "0": "GRK",
                  "1": "158"
                },
                {
                  "0": "SCF",
                  "1": "147"
                },
                {
                  "0": "MWH",
                  "1": "144"
                },
                {
                  "0": "LIH",
                  "1": "140"
                },
                {
                  "0": "FNT",
                  "1": "139"
                },
                {
                  "0": "SUS",
                  "1": "137"
                },
                {
                  "0": "LGB",
                  "1": "136"
                },
                {
                  "0": "CPR",
                  "1": "136"
                },
                {
                  "0": "GRB",
                  "1": "129"
                },
                {
                  "0": "LAN",
                  "1": "129"
                },
                {
                  "0": "CLM",
                  "1": "127"
                },
                {
                  "0": "PHN",
                  "1": "126"
                },
                {
                  "0": "SDM",
                  "1": "122"
                },
                {
                  "0": "PIA",
                  "1": "122"
                },
                {
                  "0": "MOT",
                  "1": "122"
                },
                {
                  "0": "PWK",
                  "1": "121"
                },
                {
                  "0": "BIL",
                  "1": "120"
                },
                {
                  "0": "ISP",
                  "1": "119"
                },
                {
                  "0": "NUQ",
                  "1": "117"
                },
                {
                  "0": "CHA",
                  "1": "117"
                },
                {
                  "0": "MBS",
                  "1": "115"
                },
                {
                  "0": "BIF",
                  "1": "110"
                },
                {
                  "0": "PDK",
                  "1": "110"
                },
                {
                  "0": "MMU",
                  "1": "110"
                },
                {
                  "0": "CHI",
                  "1": "110"
                },
                {
                  "0": "CSG",
                  "1": "109"
                },
                {
                  "0": "ORL",
                  "1": "108"
                },
                {
                  "0": "LFT",
                  "1": "106"
                },
                {
                  "0": "DQN",
                  "1": "104"
                },
                {
                  "0": "HOP",
                  "1": "103"
                },
                {
                  "0": "EIL",
                  "1": "103"
                },
                {
                  "0": "RCE",
                  "1": "99"
                },
                {
                  "0": "TTN",
                  "1": "96"
                },
                {
                  "0": "EGE",
                  "1": "96"
                },
                {
                  "0": "BCT",
                  "1": "96"
                },
                {
                  "0": "CAK",
                  "1": "95"
                },
                {
                  "0": "APF",
                  "1": "95"
                },
                {
                  "0": "MPB",
                  "1": "93"
                },
                {
                  "0": "MAZ",
                  "1": "92"
                },
                {
                  "0": "SVN",
                  "1": "91"
                },
                {
                  "0": "ERI",
                  "1": "91"
                },
                {
                  "0": "BKL",
                  "1": "90"
                },
                {
                  "0": "ACT",
                  "1": "89"
                },
                {
                  "0": "FBS",
                  "1": "88"
                },
                {
                  "0": "FTW",
                  "1": "88"
                },
                {
                  "0": "DET",
                  "1": "86"
                },
                {
                  "0": "AVP",
                  "1": "86"
                },
                {
                  "0": "GPT",
                  "1": "86"
                },
                {
                  "0": "XXX",
                  "1": "86"
                },
                {
                  "0": "VCV",
                  "1": "86"
                },
                {
                  "0": "CLL",
                  "1": "85"
                },
                {
                  "0": "MQY",
                  "1": "85"
                },
                {
                  "0": "NRR",
                  "1": "85"
                },
                {
                  "0": "APA",
                  "1": "84"
                },
                {
                  "0": "TRI",
                  "1": "84"
                },
                {
                  "0": "SBN",
                  "1": "83"
                },
                {
                  "0": "MLI",
                  "1": "82"
                },
                {
                  "0": "LFI",
                  "1": "79"
                },
                {
                  "0": "CYS",
                  "1": "77"
                },
                {
                  "0": "EYW",
                  "1": "77"
                },
                {
                  "0": "CPS",
                  "1": "76"
                },
                {
                  "0": "LCH",
                  "1": "75"
                },
                {
                  "0": "BPT",
                  "1": "75"
                },
                {
                  "0": "LSV",
                  "1": "75"
                },
                {
                  "0": "BIS",
                  "1": "73"
                },
                {
                  "0": "MRY",
                  "1": "71"
                },
                {
                  "0": "NQX",
                  "1": "70"
                },
                {
                  "0": "MGM",
                  "1": "70"
                },
                {
                  "0": "GJT",
                  "1": "70"
                },
                {
                  "0": "SBA",
                  "1": "70"
                },
                {
                  "0": "JNU",
                  "1": "69"
                },
                {
                  "0": "TCM",
                  "1": "69"
                },
                {
                  "0": "INT",
                  "1": "68"
                },
                {
                  "0": "CID",
                  "1": "66"
                },
                {
                  "0": "PSE",
                  "1": "64"
                },
                {
                  "0": "DRT",
                  "1": "62"
                },
                {
                  "0": "FPR",
                  "1": "61"
                },
                {
                  "0": "SPS",
                  "1": "61"
                },
                {
                  "0": "BTR",
                  "1": "60"
                },
                {
                  "0": "TLH",
                  "1": "60"
                },
                {
                  "0": "AMA",
                  "1": "60"
                },
                {
                  "0": "ACK",
                  "1": "59"
                },
                {
                  "0": "CEF",
                  "1": "58"
                },
                {
                  "0": "JAN",
                  "1": "57"
                },
                {
                  "0": "LBB",
                  "1": "57"
                },
                {
                  "0": "SIG",
                  "1": "56"
                },
                {
                  "0": "TMB",
                  "1": "55"
                },
                {
                  "0": "FCA",
                  "1": "54"
                },
                {
                  "0": "SSC",
                  "1": "54"
                },
                {
                  "0": "MAF",
                  "1": "54"
                },
                {
                  "0": "OTH",
                  "1": "54"
                },
                {
                  "0": "SKF",
                  "1": "53"
                },
                {
                  "0": "SBD",
                  "1": "53"
                },
                {
                  "0": "ROP",
                  "1": "53"
                },
                {
                  "0": "TIK",
                  "1": "52"
                },
                {
                  "0": "APC",
                  "1": "51"
                },
                {
                  "0": "RIV",
                  "1": "51"
                },
                {
                  "0": "SUN",
                  "1": "51"
                },
                {
                  "0": "BZN",
                  "1": "50"
                },
                {
                  "0": "BLV",
                  "1": "50"
                },
                {
                  "0": "TIX",
                  "1": "49"
                },
                {
                  "0": "MSO",
                  "1": "48"
                },
                {
                  "0": "ILG",
                  "1": "48"
                },
                {
                  "0": "DPA",
                  "1": "48"
                },
                {
                  "0": "ISO",
                  "1": "47"
                },
                {
                  "0": "HST",
                  "1": "46"
                },
                {
                  "0": "EKO",
                  "1": "45"
                },
                {
                  "0": "KTN",
                  "1": "45"
                },
                {
                  "0": "MKC",
                  "1": "45"
                },
                {
                  "0": "TX3",
                  "1": "44"
                },
                {
                  "0": "LSE",
                  "1": "43"
                },
                {
                  "0": "BTL",
                  "1": "43"
                },
                {
                  "0": "CRW",
                  "1": "43"
                },
                {
                  "0": "BFM",
                  "1": "42"
                },
                {
                  "0": "INL",
                  "1": "42"
                },
                {
                  "0": "MOB",
                  "1": "42"
                },
                {
                  "0": "RME",
                  "1": "42"
                },
                {
                  "0": "EVV",
                  "1": "41"
                },
                {
                  "0": "LNK",
                  "1": "41"
                },
                {
                  "0": "NJK",
                  "1": "41"
                },
                {
                  "0": "LSF",
                  "1": "41"
                },
                {
                  "0": "JAC",
                  "1": "40"
                },
                {
                  "0": "RAP",
                  "1": "40"
                },
                {
                  "0": "DQK",
                  "1": "39"
                },
                {
                  "0": "ASE",
                  "1": "39"
                },
                {
                  "0": "ROA",
                  "1": "39"
                },
                {
                  "0": "NYL",
                  "1": "39"
                },
                {
                  "0": "OLS",
                  "1": "39"
                },
                {
                  "0": "HIF",
                  "1": "38"
                },
                {
                  "0": "HYA",
                  "1": "38"
                },
                {
                  "0": "YKM",
                  "1": "38"
                },
                {
                  "0": "WFB",
                  "1": "37"
                },
                {
                  "0": "LUK",
                  "1": "37"
                },
                {
                  "0": "ORH",
                  "1": "37"
                },
                {
                  "0": "YUM",
                  "1": "37"
                },
                {
                  "0": "FOE",
                  "1": "36"
                },
                {
                  "0": "WSX",
                  "1": "36"
                },
                {
                  "0": "LEB",
                  "1": "35"
                },
                {
                  "0": "VPS",
                  "1": "35"
                },
                {
                  "0": "BFL",
                  "1": "35"
                },
                {
                  "0": "MCF",
                  "1": "34"
                },
                {
                  "0": "SUA",
                  "1": "34"
                },
                {
                  "0": "VOK",
                  "1": "34"
                },
                {
                  "0": "FQQ",
                  "1": "33"
                },
                {
                  "0": "ENV",
                  "1": "33"
                },
                {
                  "0": "SCC",
                  "1": "33"
                },
                {
                  "0": "PHF",
                  "1": "33"
                },
                {
                  "0": "FTY",
                  "1": "32"
                },
                {
                  "0": "BJC",
                  "1": "32"
                },
                {
                  "0": "FFO",
                  "1": "32"
                },
                {
                  "0": "EAA",
                  "1": "32"
                },
                {
                  "0": "CDB",
                  "1": "32"
                },
                {
                  "0": "PUB",
                  "1": "32"
                },
                {
                  "0": "DTT",
                  "1": "32"
                },
                {
                  "0": "CMI",
                  "1": "31"
                },
                {
                  "0": "WRB",
                  "1": "31"
                },
                {
                  "0": "MUO",
                  "1": "31"
                },
                {
                  "0": "RSJ",
                  "1": "31"
                },
                {
                  "0": "IAB",
                  "1": "30"
                },
                {
                  "0": "MHR",
                  "1": "30"
                },
                {
                  "0": "BRW",
                  "1": "30"
                },
                {
                  "0": "NZC",
                  "1": "30"
                },
                {
                  "0": "ESN",
                  "1": "29"
                },
                {
                  "0": "DQF",
                  "1": "28"
                },
                {
                  "0": "MDY",
                  "1": "28"
                },
                {
                  "0": "DMA",
                  "1": "27"
                },
                {
                  "0": "GSB",
                  "1": "27"
                },
                {
                  "0": "HVN",
                  "1": "27"
                },
                {
                  "0": "PNS",
                  "1": "26"
                },
                {
                  "0": "MCN",
                  "1": "26"
                },
                {
                  "0": "NHZ",
                  "1": "26"
                },
                {
                  "0": "LPS",
                  "1": "26"
                },
                {
                  "0": "JZT",
                  "1": "26"
                },
                {
                  "0": "AZO",
                  "1": "25"
                },
                {
                  "0": "NZY",
                  "1": "25"
                },
                {
                  "0": "IDA",
                  "1": "25"
                },
                {
                  "0": "MFR",
                  "1": "25"
                },
                {
                  "0": "SGF",
                  "1": "24"
                },
                {
                  "0": "NC1",
                  "1": "23"
                },
                {
                  "0": "AWK",
                  "1": "23"
                },
                {
                  "0": "USA",
                  "1": "23"
                },
                {
                  "0": "NYC",
                  "1": "22"
                },
                {
                  "0": "SCE",
                  "1": "22"
                },
                {
                  "0": "CLU",
                  "1": "22"
                },
                {
                  "0": "SPI",
                  "1": "22"
                },
                {
                  "0": "TCL",
                  "1": "22"
                },
                {
                  "0": "LBF",
                  "1": "22"
                },
                {
                  "0": "EUG",
                  "1": "22"
                },
                {
                  "0": "CLD",
                  "1": "21"
                },
                {
                  "0": "MVY",
                  "1": "21"
                },
                {
                  "0": "COF",
                  "1": "21"
                },
                {
                  "0": "STP",
                  "1": "20"
                },
                {
                  "0": "CHO",
                  "1": "20"
                },
                {
                  "0": "OSC",
                  "1": "20"
                },
                {
                  "0": "TWF",
                  "1": "20"
                },
                {
                  "0": "HON",
                  "1": "20"
                },
                {
                  "0": "UXP",
                  "1": "19"
                },
                {
                  "0": "UGN",
                  "1": "19"
                },
                {
                  "0": "N1C",
                  "1": "19"
                },
                {
                  "0": "NUW",
                  "1": "18"
                },
                {
                  "0": "MSV",
                  "1": "18"
                },
                {
                  "0": "UST",
                  "1": "18"
                },
                {
                  "0": "TYR",
                  "1": "18"
                },
                {
                  "0": "HUF",
                  "1": "18"
                },
                {
                  "0": "QMA",
                  "1": "18"
                },
                {
                  "0": "NGM",
                  "1": "18"
                },
                {
                  "0": "VRB",
                  "1": "18"
                },
                {
                  "0": "LWB",
                  "1": "18"
                },
                {
                  "0": "NRB",
                  "1": "18"
                },
                {
                  "0": "BVY",
                  "1": "17"
                },
                {
                  "0": "LAF",
                  "1": "17"
                },
                {
                  "0": "JRV",
                  "1": "17"
                },
                {
                  "0": "TVC",
                  "1": "17"
                },
                {
                  "0": "ROG",
                  "1": "17"
                },
                {
                  "0": "NKX",
                  "1": "17"
                },
                {
                  "0": "IMT",
                  "1": "17"
                },
                {
                  "0": "GYY",
                  "1": "17"
                },
                {
                  "0": "YNG",
                  "1": "17"
                },
                {
                  "0": "SGR",
                  "1": "17"
                },
                {
                  "0": "SYA",
                  "1": "17"
                },
                {
                  "0": "ALO",
                  "1": "17"
                },
                {
                  "0": "BAD",
                  "1": "17"
                },
                {
                  "0": "ATW",
                  "1": "17"
                },
                {
                  "0": "XNA",
                  "1": "16"
                },
                {
                  "0": "TIW",
                  "1": "16"
                },
                {
                  "0": "AVL",
                  "1": "16"
                },
                {
                  "0": "GGG",
                  "1": "16"
                },
                {
                  "0": "SJT",
                  "1": "15"
                },
                {
                  "0": "GON",
                  "1": "15"
                },
                {
                  "0": "CVS",
                  "1": "15"
                },
                {
                  "0": "CMX",
                  "1": "15"
                },
                {
                  "0": "BDR",
                  "1": "14"
                },
                {
                  "0": "FSM",
                  "1": "14"
                },
                {
                  "0": "FL3",
                  "1": "14"
                },
                {
                  "0": "HTS",
                  "1": "14"
                },
                {
                  "0": "LYU",
                  "1": "14"
                },
                {
                  "0": "GNV",
                  "1": "14"
                },
                {
                  "0": "SMO",
                  "1": "14"
                },
                {
                  "0": "BRG",
                  "1": "14"
                },
                {
                  "0": "MLU",
                  "1": "14"
                },
                {
                  "0": "HUS",
                  "1": "13"
                },
                {
                  "0": "SPB",
                  "1": "13"
                },
                {
                  "0": "PAM",
                  "1": "13"
                },
                {
                  "0": "BGM",
                  "1": "13"
                },
                {
                  "0": "ELM",
                  "1": "13"
                },
                {
                  "0": "BMI",
                  "1": "13"
                },
                {
                  "0": "HSL",
                  "1": "12"
                },
                {
                  "0": "STS",
                  "1": "12"
                },
                {
                  "0": "HLN",
                  "1": "12"
                },
                {
                  "0": "BET",
                  "1": "12"
                },
                {
                  "0": "AKN",
                  "1": "12"
                },
                {
                  "0": "SLN",
                  "1": "12"
                },
                {
                  "0": "FCS",
                  "1": "12"
                },
                {
                  "0": "COE",
                  "1": "12"
                },
                {
                  "0": "EAU",
                  "1": "12"
                },
                {
                  "0": "CWA",
                  "1": "12"
                },
                {
                  "0": "PWT",
                  "1": "12"
                },
                {
                  "0": "ESD",
                  "1": "12"
                },
                {
                  "0": "PGA",
                  "1": "12"
                },
                {
                  "0": "JVL",
                  "1": "12"
                },
                {
                  "0": "RIL",
                  "1": "12"
                },
                {
                  "0": "LRF",
                  "1": "12"
                },
                {
                  "0": "NTU",
                  "1": "12"
                },
                {
                  "0": "XMR",
                  "1": "12"
                },
                {
                  "0": "BQK",
                  "1": "11"
                },
                {
                  "0": "AIK",
                  "1": "11"
                },
                {
                  "0": "PNE",
                  "1": "11"
                },
                {
                  "0": "ADK",
                  "1": "11"
                },
                {
                  "0": "PSK",
                  "1": "11"
                },
                {
                  "0": "HIO",
                  "1": "11"
                },
                {
                  "0": "PSC",
                  "1": "11"
                },
                {
                  "0": "ENA",
                  "1": "11"
                },
                {
                  "0": "FNL",
                  "1": "11"
                },
                {
                  "0": "LBE",
                  "1": "11"
                },
                {
                  "0": "RDD",
                  "1": "10"
                },
                {
                  "0": "SAA",
                  "1": "10"
                },
                {
                  "0": "OTZ",
                  "1": "10"
                },
                {
                  "0": "RNT",
                  "1": "10"
                },
                {
                  "0": "MTH",
                  "1": "10"
                },
                {
                  "0": "COU",
                  "1": "10"
                },
                {
                  "0": "DTO",
                  "1": "10"
                },
                {
                  "0": "N2C",
                  "1": "10"
                },
                {
                  "0": "VQS",
                  "1": "10"
                },
                {
                  "0": "NGF",
                  "1": "10"
                },
                {
                  "0": "ISN",
                  "1": "10"
                },
                {
                  "0": "PVU",
                  "1": "10"
                },
                {
                  "0": "BSM",
                  "1": "10"
                },
                {
                  "0": "MKG",
                  "1": "10"
                },
                {
                  "0": "SBM",
                  "1": "10"
                },
                {
                  "0": "MCC",
                  "1": "9"
                },
                {
                  "0": "SMX",
                  "1": "9"
                },
                {
                  "0": "BAF",
                  "1": "9"
                },
                {
                  "0": "GAM",
                  "1": "9"
                },
                {
                  "0": "MCE",
                  "1": "9"
                },
                {
                  "0": "LAW",
                  "1": "9"
                },
                {
                  "0": "MQT",
                  "1": "9"
                },
                {
                  "0": "SZL",
                  "1": "9"
                },
                {
                  "0": "AST",
                  "1": "9"
                },
                {
                  "0": "RDM",
                  "1": "9"
                },
                {
                  "0": "OXC",
                  "1": "9"
                },
                {
                  "0": "MFD",
                  "1": "9"
                },
                {
                  "0": "SSI",
                  "1": "9"
                },
                {
                  "0": "MTJ",
                  "1": "9"
                },
                {
                  "0": "GLD",
                  "1": "9"
                },
                {
                  "0": "BEH",
                  "1": "9"
                },
                {
                  "0": "BFF",
                  "1": "8"
                },
                {
                  "0": "PSF",
                  "1": "8"
                },
                {
                  "0": "ODW",
                  "1": "8"
                },
                {
                  "0": "EWB",
                  "1": "8"
                },
                {
                  "0": "FWH",
                  "1": "8"
                },
                {
                  "0": "SCK",
                  "1": "8"
                },
                {
                  "0": "HMN",
                  "1": "8"
                },
                {
                  "0": "OAJ",
                  "1": "8"
                },
                {
                  "0": "SOP",
                  "1": "8"
                },
                {
                  "0": "HUA",
                  "1": "8"
                },
                {
                  "0": "PIH",
                  "1": "8"
                },
                {
                  "0": "SLK",
                  "1": "8"
                },
                {
                  "0": "SCH",
                  "1": "8"
                },
                {
                  "0": "JQF",
                  "1": "8"
                },
                {
                  "0": "LAR",
                  "1": "8"
                },
                {
                  "0": "LNA",
                  "1": "8"
                },
                {
                  "0": "CIU",
                  "1": "8"
                },
                {
                  "0": "OGD",
                  "1": "8"
                },
                {
                  "0": "TN8",
                  "1": "8"
                },
                {
                  "0": "HDN",
                  "1": "8"
                },
                {
                  "0": "FAY",
                  "1": "8"
                },
                {
                  "0": "PUL",
                  "1": "8"
                },
                {
                  "0": "NBG",
                  "1": "8"
                },
                {
                  "0": "A31",
                  "1": "8"
                },
                {
                  "0": "UTM",
                  "1": "8"
                },
                {
                  "0": "OFF",
                  "1": "7"
                },
                {
                  "0": "ARA",
                  "1": "7"
                },
                {
                  "0": "SUX",
                  "1": "7"
                },
                {
                  "0": "DYS",
                  "1": "7"
                },
                {
                  "0": "ART",
                  "1": "7"
                },
                {
                  "0": "BLM",
                  "1": "7"
                },
                {
                  "0": "OTS",
                  "1": "7"
                },
                {
                  "0": "HTO",
                  "1": "7"
                },
                {
                  "0": "MHK",
                  "1": "7"
                },
                {
                  "0": "IPL",
                  "1": "7"
                },
                {
                  "0": "MBL",
                  "1": "7"
                },
                {
                  "0": "VAD",
                  "1": "7"
                },
                {
                  "0": "LWS",
                  "1": "7"
                },
                {
                  "0": "SLE",
                  "1": "7"
                },
                {
                  "0": "CXO",
                  "1": "7"
                },
                {
                  "0": "DWH",
                  "1": "7"
                },
                {
                  "0": "WRG",
                  "1": "7"
                },
                {
                  "0": "CON",
                  "1": "6"
                },
                {
                  "0": "VCT",
                  "1": "6"
                },
                {
                  "0": "TWD",
                  "1": "6"
                },
                {
                  "0": "CNY",
                  "1": "6"
                },
                {
                  "0": "OCA",
                  "1": "6"
                },
                {
                  "0": "ZXU",
                  "1": "6"
                },
                {
                  "0": "SVA",
                  "1": "6"
                },
                {
                  "0": "MXF",
                  "1": "6"
                },
                {
                  "0": "NEW",
                  "1": "6"
                },
                {
                  "0": "OLM",
                  "1": "6"
                },
                {
                  "0": "WGO",
                  "1": "6"
                },
                {
                  "0": "ECP",
                  "1": "6"
                },
                {
                  "0": "BWG",
                  "1": "6"
                },
                {
                  "0": "VLD",
                  "1": "6"
                },
                {
                  "0": "XXO",
                  "1": "6"
                },
                {
                  "0": "CTB",
                  "1": "6"
                },
                {
                  "0": "HYG",
                  "1": "6"
                },
                {
                  "0": "EDW",
                  "1": "6"
                },
                {
                  "0": "CGI",
                  "1": "6"
                },
                {
                  "0": "RCA",
                  "1": "6"
                },
                {
                  "0": "GLH",
                  "1": "6"
                },
                {
                  "0": "ROW",
                  "1": "6"
                },
                {
                  "0": "WQM",
                  "1": "6"
                },
                {
                  "0": "AUG",
                  "1": "6"
                },
                {
                  "0": "FLG",
                  "1": "6"
                },
                {
                  "0": "MTN",
                  "1": "6"
                },
                {
                  "0": "NTD",
                  "1": "6"
                },
                {
                  "0": "MNZ",
                  "1": "6"
                },
                {
                  "0": "NCO",
                  "1": "6"
                },
                {
                  "0": "MGE",
                  "1": "6"
                },
                {
                  "0": "BTM",
                  "1": "6"
                },
                {
                  "0": "DNN",
                  "1": "5"
                },
                {
                  "0": "MYL",
                  "1": "5"
                },
                {
                  "0": "HGR",
                  "1": "5"
                },
                {
                  "0": "ECA",
                  "1": "5"
                },
                {
                  "0": "GDC",
                  "1": "5"
                },
                {
                  "0": "ASN",
                  "1": "5"
                },
                {
                  "0": "RKD",
                  "1": "5"
                },
                {
                  "0": "LMT",
                  "1": "5"
                },
                {
                  "0": "PGV",
                  "1": "5"
                },
                {
                  "0": "PLN",
                  "1": "5"
                },
                {
                  "0": "SGH",
                  "1": "5"
                },
                {
                  "0": "FMY",
                  "1": "5"
                },
                {
                  "0": "HKS",
                  "1": "5"
                },
                {
                  "0": "UCA",
                  "1": "5"
                },
                {
                  "0": "VQQ",
                  "1": "5"
                },
                {
                  "0": "RQZ",
                  "1": "5"
                },
                {
                  "0": "MDD",
                  "1": "5"
                },
                {
                  "0": "CHD",
                  "1": "5"
                },
                {
                  "0": "AID",
                  "1": "5"
                },
                {
                  "0": "TRM",
                  "1": "5"
                },
                {
                  "0": "DNE",
                  "1": "5"
                },
                {
                  "0": "ANB",
                  "1": "5"
                },
                {
                  "0": "SSB",
                  "1": "5"
                },
                {
                  "0": "SIT",
                  "1": "5"
                },
                {
                  "0": "EAT",
                  "1": "5"
                },
                {
                  "0": "PGD",
                  "1": "5"
                },
                {
                  "0": "DHN",
                  "1": "4"
                },
                {
                  "0": "CDL",
                  "1": "4"
                },
                {
                  "0": "IN6",
                  "1": "4"
                },
                {
                  "0": "TDF",
                  "1": "4"
                },
                {
                  "0": "BDG",
                  "1": "4"
                },
                {
                  "0": "NBU",
                  "1": "4"
                },
                {
                  "0": "APG",
                  "1": "4"
                },
                {
                  "0": "SGU",
                  "1": "4"
                },
                {
                  "0": "MIQ",
                  "1": "4"
                },
                {
                  "0": "HSH",
                  "1": "4"
                },
                {
                  "0": "WA4",
                  "1": "4"
                },
                {
                  "0": "HOM",
                  "1": "4"
                },
                {
                  "0": "DEC",
                  "1": "4"
                },
                {
                  "0": "GCC",
                  "1": "4"
                },
                {
                  "0": "ITH",
                  "1": "4"
                },
                {
                  "0": "HLM",
                  "1": "4"
                },
                {
                  "0": "RUT",
                  "1": "4"
                },
                {
                  "0": "GRI",
                  "1": "4"
                },
                {
                  "0": "SAF",
                  "1": "4"
                },
                {
                  "0": "GAL",
                  "1": "4"
                },
                {
                  "0": "PQI",
                  "1": "4"
                },
                {
                  "0": "NXX",
                  "1": "4"
                },
                {
                  "0": "PAH",
                  "1": "4"
                },
                {
                  "0": "BMG",
                  "1": "4"
                },
                {
                  "0": "CKB",
                  "1": "4"
                },
                {
                  "0": "ABY",
                  "1": "4"
                },
                {
                  "0": "MMT",
                  "1": "4"
                },
                {
                  "0": "MPS",
                  "1": "4"
                },
                {
                  "0": "JZI",
                  "1": "4"
                },
                {
                  "0": "EHT",
                  "1": "4"
                },
                {
                  "0": "HHH",
                  "1": "4"
                },
                {
                  "0": "DOF",
                  "1": "4"
                },
                {
                  "0": "LGC",
                  "1": "4"
                },
                {
                  "0": "LYH",
                  "1": "4"
                },
                {
                  "0": "DBN",
                  "1": "4"
                },
                {
                  "0": "C01",
                  "1": "4"
                },
                {
                  "0": "RHI",
                  "1": "4"
                },
                {
                  "0": "MZJ",
                  "1": "4"
                },
                {
                  "0": "HKY",
                  "1": "4"
                },
                {
                  "0": "KLW",
                  "1": "4"
                },
                {
                  "0": "PKB",
                  "1": "3"
                },
                {
                  "0": "ASH",
                  "1": "3"
                },
                {
                  "0": "SHD",
                  "1": "3"
                },
                {
                  "0": "OSH",
                  "1": "3"
                },
                {
                  "0": "BHB",
                  "1": "3"
                },
                {
                  "0": "RAC",
                  "1": "3"
                },
                {
                  "0": "FYU",
                  "1": "3"
                },
                {
                  "0": "AVW",
                  "1": "3"
                },
                {
                  "0": "PGL",
                  "1": "3"
                },
                {
                  "0": "LIZ",
                  "1": "3"
                },
                {
                  "0": "RWI",
                  "1": "3"
                },
                {
                  "0": "IDP",
                  "1": "3"
                },
                {
                  "0": "DRG",
                  "1": "3"
                },
                {
                  "0": "FLO",
                  "1": "3"
                },
                {
                  "0": "CDC",
                  "1": "3"
                },
                {
                  "0": "THV",
                  "1": "3"
                },
                {
                  "0": "APN",
                  "1": "3"
                },
                {
                  "0": "AL5",
                  "1": "3"
                },
                {
                  "0": "CIN",
                  "1": "3"
                },
                {
                  "0": "EKI",
                  "1": "3"
                },
                {
                  "0": "TNP",
                  "1": "3"
                },
                {
                  "0": "BVD",
                  "1": "3"
                },
                {
                  "0": "BYH",
                  "1": "3"
                },
                {
                  "0": "GTR",
                  "1": "3"
                },
                {
                  "0": "DHB",
                  "1": "3"
                },
                {
                  "0": "SHN",
                  "1": "3"
                },
                {
                  "0": "NQA",
                  "1": "3"
                },
                {
                  "0": "BRD",
                  "1": "3"
                },
                {
                  "0": "MHV",
                  "1": "3"
                },
                {
                  "0": "ABL",
                  "1": "3"
                },
                {
                  "0": "MEO",
                  "1": "3"
                },
                {
                  "0": "PRC",
                  "1": "3"
                },
                {
                  "0": "DXR",
                  "1": "3"
                },
                {
                  "0": "II3",
                  "1": "3"
                },
                {
                  "0": "TIQ",
                  "1": "3"
                },
                {
                  "0": "DQY",
                  "1": "3"
                },
                {
                  "0": "DCU",
                  "1": "3"
                },
                {
                  "0": "MKL",
                  "1": "3"
                },
                {
                  "0": "NAD",
                  "1": "3"
                },
                {
                  "0": "RDG",
                  "1": "3"
                },
                {
                  "0": "KMC",
                  "1": "3"
                },
                {
                  "0": "LNY",
                  "1": "3"
                },
                {
                  "0": "ISM",
                  "1": "3"
                },
                {
                  "0": "BFT",
                  "1": "3"
                },
                {
                  "0": "ITO",
                  "1": "3"
                },
                {
                  "0": "BFK",
                  "1": "3"
                },
                {
                  "0": "AIN",
                  "1": "3"
                },
                {
                  "0": "CNW",
                  "1": "3"
                },
                {
                  "0": "DUG",
                  "1": "3"
                },
                {
                  "0": "OGS",
                  "1": "3"
                },
                {
                  "0": "CTH",
                  "1": "3"
                },
                {
                  "0": "SUO",
                  "1": "3"
                },
                {
                  "0": "HCR",
                  "1": "3"
                },
                {
                  "0": "VWK",
                  "1": "3"
                },
                {
                  "0": "GRD",
                  "1": "3"
                },
                {
                  "0": "QQY",
                  "1": "3"
                },
                {
                  "0": "ORT",
                  "1": "3"
                },
                {
                  "0": "YAK",
                  "1": "3"
                },
                {
                  "0": "LVK",
                  "1": "3"
                },
                {
                  "0": "NGP",
                  "1": "3"
                },
                {
                  "0": "FVO",
                  "1": "3"
                },
                {
                  "0": "JRF",
                  "1": "3"
                },
                {
                  "0": "SFZ",
                  "1": "3"
                },
                {
                  "0": "GCN",
                  "1": "3"
                },
                {
                  "0": "VIS",
                  "1": "3"
                },
                {
                  "0": "DAN",
                  "1": "3"
                },
                {
                  "0": "RNG",
                  "1": "3"
                },
                {
                  "0": "RDR",
                  "1": "3"
                },
                {
                  "0": "LCI",
                  "1": "3"
                },
                {
                  "0": "OKK",
                  "1": "3"
                },
                {
                  "0": "TUP",
                  "1": "3"
                },
                {
                  "0": "LTS",
                  "1": "3"
                },
                {
                  "0": "CHP",
                  "1": "3"
                },
                {
                  "0": "PBG",
                  "1": "3"
                },
                {
                  "0": "TVL",
                  "1": "3"
                },
                {
                  "0": "SAC",
                  "1": "2"
                },
                {
                  "0": "KPN",
                  "1": "2"
                },
                {
                  "0": "PAK",
                  "1": "2"
                },
                {
                  "0": "PA5",
                  "1": "2"
                },
                {
                  "0": "GNU",
                  "1": "2"
                },
                {
                  "0": "ESC",
                  "1": "2"
                },
                {
                  "0": "FHU",
                  "1": "2"
                },
                {
                  "0": "LWM",
                  "1": "2"
                },
                {
                  "0": "MML",
                  "1": "2"
                },
                {
                  "0": "CPX",
                  "1": "2"
                },
                {
                  "0": "LAL",
                  "1": "2"
                },
                {
                  "0": "ORI",
                  "1": "2"
                },
                {
                  "0": "FQD",
                  "1": "2"
                },
                {
                  "0": "FBK",
                  "1": "2"
                },
                {
                  "0": "TKF",
                  "1": "2"
                },
                {
                  "0": "ANN",
                  "1": "2"
                },
                {
                  "0": "WAL",
                  "1": "2"
                },
                {
                  "0": "ILI",
                  "1": "2"
                },
                {
                  "0": "CNM",
                  "1": "2"
                },
                {
                  "0": "FLT",
                  "1": "2"
                },
                {
                  "0": "DLG",
                  "1": "2"
                },
                {
                  "0": "NHK",
                  "1": "2"
                },
                {
                  "0": "MN7",
                  "1": "2"
                },
                {
                  "0": "MUE",
                  "1": "2"
                },
                {
                  "0": "MSL",
                  "1": "2"
                },
                {
                  "0": "MVL",
                  "1": "2"
                },
                {
                  "0": "MRC",
                  "1": "2"
                },
                {
                  "0": "GYR",
                  "1": "2"
                },
                {
                  "0": "XXW",
                  "1": "2"
                },
                {
                  "0": "MRI",
                  "1": "2"
                },
                {
                  "0": "TVI",
                  "1": "2"
                },
                {
                  "0": "PLB",
                  "1": "2"
                },
                {
                  "0": "LOT",
                  "1": "2"
                },
                {
                  "0": "LAA",
                  "1": "2"
                },
                {
                  "0": "EWK",
                  "1": "2"
                },
                {
                  "0": "GLR",
                  "1": "2"
                },
                {
                  "0": "FMH",
                  "1": "2"
                },
                {
                  "0": "SKA",
                  "1": "2"
                },
                {
                  "0": "NZW",
                  "1": "2"
                },
                {
                  "0": "BHC",
                  "1": "2"
                },
                {
                  "0": "PSN",
                  "1": "2"
                },
                {
                  "0": "MRB",
                  "1": "2"
                },
                {
                  "0": "EMK",
                  "1": "2"
                },
                {
                  "0": "PIB",
                  "1": "2"
                },
                {
                  "0": "ADQ",
                  "1": "2"
                },
                {
                  "0": "ABR",
                  "1": "2"
                },
                {
                  "0": "AGC",
                  "1": "2"
                },
                {
                  "0": "1B1",
                  "1": "2"
                },
                {
                  "0": "CDW",
                  "1": "2"
                },
                {
                  "0": "ZXX",
                  "1": "2"
                },
                {
                  "0": "MUL",
                  "1": "2"
                },
                {
                  "0": "MSC",
                  "1": "2"
                },
                {
                  "0": "PGM",
                  "1": "2"
                },
                {
                  "0": "JEF",
                  "1": "2"
                },
                {
                  "0": "ATK",
                  "1": "2"
                },
                {
                  "0": "GED",
                  "1": "2"
                },
                {
                  "0": "LWT",
                  "1": "2"
                },
                {
                  "0": "KBK",
                  "1": "2"
                },
                {
                  "0": "JLN",
                  "1": "2"
                },
                {
                  "0": "DBQ",
                  "1": "2"
                },
                {
                  "0": "DTR",
                  "1": "2"
                },
                {
                  "0": "ENW",
                  "1": "2"
                },
                {
                  "0": "PRB",
                  "1": "2"
                },
                {
                  "0": "NY3",
                  "1": "2"
                },
                {
                  "0": "MWO",
                  "1": "2"
                },
                {
                  "0": "CDH",
                  "1": "2"
                },
                {
                  "0": "MOD",
                  "1": "2"
                },
                {
                  "0": "DRE",
                  "1": "2"
                },
                {
                  "0": "KTB",
                  "1": "2"
                },
                {
                  "0": "IA4",
                  "1": "2"
                },
                {
                  "0": "QAK",
                  "1": "2"
                },
                {
                  "0": "LHB",
                  "1": "2"
                },
                {
                  "0": "LZU",
                  "1": "2"
                },
                {
                  "0": "BKF",
                  "1": "2"
                },
                {
                  "0": "LRU",
                  "1": "2"
                },
                {
                  "0": "GFL",
                  "1": "2"
                },
                {
                  "0": "GUC",
                  "1": "2"
                },
                {
                  "0": "GBR",
                  "1": "2"
                },
                {
                  "0": "SXP",
                  "1": "2"
                },
                {
                  "0": "MIB",
                  "1": "2"
                },
                {
                  "0": "AND",
                  "1": "2"
                },
                {
                  "0": "PSG",
                  "1": "2"
                },
                {
                  "0": "SBY",
                  "1": "2"
                },
                {
                  "0": "JZQ",
                  "1": "2"
                },
                {
                  "0": "WAR",
                  "1": "2"
                },
                {
                  "0": "PMB",
                  "1": "2"
                },
                {
                  "0": "CNO",
                  "1": "2"
                },
                {
                  "0": "QAO",
                  "1": "2"
                },
                {
                  "0": "ELD",
                  "1": "2"
                },
                {
                  "0": "FL7",
                  "1": "2"
                },
                {
                  "0": "OMK",
                  "1": "2"
                },
                {
                  "0": "FOD",
                  "1": "2"
                },
                {
                  "0": "SC1",
                  "1": "2"
                },
                {
                  "0": "GVW",
                  "1": "2"
                },
                {
                  "0": "CLR",
                  "1": "2"
                },
                {
                  "0": "STC",
                  "1": "2"
                },
                {
                  "0": "ARV",
                  "1": "2"
                },
                {
                  "0": "EKY",
                  "1": "1"
                },
                {
                  "0": "T3X",
                  "1": "1"
                },
                {
                  "0": "TSG",
                  "1": "1"
                },
                {
                  "0": "BID",
                  "1": "1"
                },
                {
                  "0": "GA7",
                  "1": "1"
                },
                {
                  "0": "LPR",
                  "1": "1"
                },
                {
                  "0": "IWD",
                  "1": "1"
                },
                {
                  "0": "MWA",
                  "1": "1"
                },
                {
                  "0": "WA6",
                  "1": "1"
                },
                {
                  "0": "TLR",
                  "1": "1"
                },
                {
                  "0": "WVL",
                  "1": "1"
                },
                {
                  "0": "POF",
                  "1": "1"
                },
                {
                  "0": "OWD",
                  "1": "1"
                },
                {
                  "0": "SRV",
                  "1": "1"
                },
                {
                  "0": "DRF",
                  "1": "1"
                },
                {
                  "0": "GUS",
                  "1": "1"
                },
                {
                  "0": "SFM",
                  "1": "1"
                },
                {
                  "0": "BGT",
                  "1": "1"
                },
                {
                  "0": "HNS",
                  "1": "1"
                },
                {
                  "0": "SHR",
                  "1": "1"
                },
                {
                  "0": "SBO",
                  "1": "1"
                },
                {
                  "0": "MIE",
                  "1": "1"
                },
                {
                  "0": "SES",
                  "1": "1"
                },
                {
                  "0": "DQP",
                  "1": "1"
                },
                {
                  "0": "HIB",
                  "1": "1"
                },
                {
                  "0": "JCC",
                  "1": "1"
                },
                {
                  "0": "WAS",
                  "1": "1"
                },
                {
                  "0": "GA5",
                  "1": "1"
                },
                {
                  "0": "DSI",
                  "1": "1"
                },
                {
                  "0": "TX5",
                  "1": "1"
                },
                {
                  "0": "IL2",
                  "1": "1"
                },
                {
                  "0": "ATO",
                  "1": "1"
                },
                {
                  "0": "BKX",
                  "1": "1"
                },
                {
                  "0": "NME",
                  "1": "1"
                },
                {
                  "0": "ISW",
                  "1": "1"
                },
                {
                  "0": "EGV",
                  "1": "1"
                },
                {
                  "0": "MXE",
                  "1": "1"
                },
                {
                  "0": "MEI",
                  "1": "1"
                },
                {
                  "0": "DQU",
                  "1": "1"
                },
                {
                  "0": "TEX",
                  "1": "1"
                },
                {
                  "0": "ARB",
                  "1": "1"
                },
                {
                  "0": "PNX",
                  "1": "1"
                },
                {
                  "0": "LKK",
                  "1": "1"
                },
                {
                  "0": "SVH",
                  "1": "1"
                },
                {
                  "0": "WA5",
                  "1": "1"
                },
                {
                  "0": "SWO",
                  "1": "1"
                },
                {
                  "0": "BIH",
                  "1": "1"
                },
                {
                  "0": "PTA",
                  "1": "1"
                },
                {
                  "0": "CKV",
                  "1": "1"
                },
                {
                  "0": "WLK",
                  "1": "1"
                },
                {
                  "0": "MVW",
                  "1": "1"
                },
                {
                  "0": "3TX",
                  "1": "1"
                },
                {
                  "0": "AUZ",
                  "1": "1"
                },
                {
                  "0": "HLG",
                  "1": "1"
                },
                {
                  "0": "JCI",
                  "1": "1"
                },
                {
                  "0": "DVT",
                  "1": "1"
                },
                {
                  "0": "KDK",
                  "1": "1"
                },
                {
                  "0": "IPT",
                  "1": "1"
                },
                {
                  "0": "LOZ",
                  "1": "1"
                },
                {
                  "0": "BSW",
                  "1": "1"
                },
                {
                  "0": "T8X",
                  "1": "1"
                },
                {
                  "0": "CSV",
                  "1": "1"
                },
                {
                  "0": "ALN",
                  "1": "1"
                },
                {
                  "0": "APH",
                  "1": "1"
                },
                {
                  "0": "KY5",
                  "1": "1"
                },
                {
                  "0": "OXR",
                  "1": "1"
                },
                {
                  "0": "MVN",
                  "1": "1"
                },
                {
                  "0": "JOR",
                  "1": "1"
                },
                {
                  "0": "PUW",
                  "1": "1"
                },
                {
                  "0": "MLK",
                  "1": "1"
                },
                {
                  "0": "BJI",
                  "1": "1"
                },
                {
                  "0": "FYV",
                  "1": "1"
                },
                {
                  "0": "TYE",
                  "1": "1"
                },
                {
                  "0": "LDJ",
                  "1": "1"
                },
                {
                  "0": "FDY",
                  "1": "1"
                },
                {
                  "0": "EGX",
                  "1": "1"
                },
                {
                  "0": "ANV",
                  "1": "1"
                },
                {
                  "0": "SEE",
                  "1": "1"
                },
                {
                  "0": "ATY",
                  "1": "1"
                },
                {
                  "0": "GCK",
                  "1": "1"
                },
                {
                  "0": "CIK",
                  "1": "1"
                },
                {
                  "0": "AKB",
                  "1": "1"
                },
                {
                  "0": "WYS",
                  "1": "1"
                },
                {
                  "0": "NNL",
                  "1": "1"
                },
                {
                  "0": "RNH",
                  "1": "1"
                },
                {
                  "0": "OOK",
                  "1": "1"
                },
                {
                  "0": "BBC",
                  "1": "1"
                },
                {
                  "0": "OLF",
                  "1": "1"
                },
                {
                  "0": "AIZ",
                  "1": "1"
                },
                {
                  "0": "AOO",
                  "1": "1"
                },
                {
                  "0": "OH4",
                  "1": "1"
                },
                {
                  "0": "FL4",
                  "1": "1"
                },
                {
                  "0": "SBP",
                  "1": "1"
                },
                {
                  "0": "VA5",
                  "1": "1"
                },
                {
                  "0": "GMU",
                  "1": "1"
                },
                {
                  "0": "HKB",
                  "1": "1"
                },
                {
                  "0": "PIZ",
                  "1": "1"
                },
                {
                  "0": "XXZ",
                  "1": "1"
                },
                {
                  "0": "AXN",
                  "1": "1"
                },
                {
                  "0": "FCM",
                  "1": "1"
                },
                {
                  "0": "CHU",
                  "1": "1"
                },
                {
                  "0": "CVA",
                  "1": "1"
                },
                {
                  "0": "BIX",
                  "1": "1"
                },
                {
                  "0": "EAR",
                  "1": "1"
                },
                {
                  "0": "MMI",
                  "1": "1"
                },
                {
                  "0": "II1",
                  "1": "1"
                },
                {
                  "0": "KWT",
                  "1": "1"
                },
                {
                  "0": "SSM",
                  "1": "1"
                },
                {
                  "0": "HFD",
                  "1": "1"
                },
                {
                  "0": "CT1",
                  "1": "1"
                },
                {
                  "0": "KSM",
                  "1": "1"
                },
                {
                  "0": "MOR",
                  "1": "1"
                },
                {
                  "0": "TSP",
                  "1": "1"
                },
                {
                  "0": "PAQ",
                  "1": "1"
                },
                {
                  "0": "NC8",
                  "1": "1"
                },
                {
                  "0": "MGY",
                  "1": "1"
                },
                {
                  "0": "HVC",
                  "1": "1"
                },
                {
                  "0": "OTM",
                  "1": "1"
                },
                {
                  "0": "EEN",
                  "1": "1"
                },
                {
                  "0": "EOK",
                  "1": "1"
                },
                {
                  "0": "LFK",
                  "1": "1"
                },
                {
                  "0": "OSU",
                  "1": "1"
                },
                {
                  "0": "TN2",
                  "1": "1"
                },
                {
                  "0": "LNS",
                  "1": "1"
                },
                {
                  "0": "MKT",
                  "1": "1"
                },
                {
                  "0": "MJX",
                  "1": "1"
                },
                {
                  "0": "NCQ",
                  "1": "1"
                },
                {
                  "0": "SEG",
                  "1": "1"
                },
                {
                  "0": "SKW",
                  "1": "1"
                },
                {
                  "0": "WA3",
                  "1": "1"
                },
                {
                  "0": "GWO",
                  "1": "1"
                },
                {
                  "0": "MTC",
                  "1": "1"
                },
                {
                  "0": "HQM",
                  "1": "1"
                },
                {
                  "0": "RBH",
                  "1": "1"
                },
                {
                  "0": "TDZ",
                  "1": "1"
                },
                {
                  "0": "CYF",
                  "1": "1"
                },
                {
                  "0": "BYW",
                  "1": "1"
                },
                {
                  "0": "PIM",
                  "1": "1"
                },
                {
                  "0": "JDX",
                  "1": "1"
                },
                {
                  "0": "EFK",
                  "1": "1"
                },
                {
                  "0": "MTO",
                  "1": "1"
                },
                {
                  "0": "BDE",
                  "1": "1"
                },
                {
                  "0": "RBD",
                  "1": "1"
                },
                {
                  "0": "LUF",
                  "1": "1"
                },
                {
                  "0": "MOP",
                  "1": "1"
                },
                {
                  "0": "AHN",
                  "1": "1"
                },
                {
                  "0": "AMN",
                  "1": "1"
                },
                {
                  "0": "PA3",
                  "1": "1"
                },
                {
                  "0": "RSN",
                  "1": "1"
                },
                {
                  "0": "SJN",
                  "1": "1"
                },
                {
                  "0": "ANP",
                  "1": "1"
                },
                {
                  "0": "TKI",
                  "1": "1"
                },
                {
                  "0": "PPV",
                  "1": "1"
                },
                {
                  "0": "PFN",
                  "1": "1"
                },
                {
                  "0": "MPV",
                  "1": "1"
                },
                {
                  "0": "MER",
                  "1": "1"
                },
                {
                  "0": "MPR",
                  "1": "1"
                },
                {
                  "0": "MWL",
                  "1": "1"
                },
                {
                  "0": "EMT",
                  "1": "1"
                },
                {
                  "0": "PDT",
                  "1": "1"
                },
                {
                  "0": "S27",
                  "1": "1"
                },
                {
                  "0": "NUL",
                  "1": "1"
                },
                {
                  "0": "DUC",
                  "1": "1"
                },
                {
                  "0": "HAR",
                  "1": "1"
                },
                {
                  "0": "XXD",
                  "1": "1"
                },
                {
                  "0": "MCK",
                  "1": "1"
                },
                {
                  "0": "VWH",
                  "1": "1"
                },
                {
                  "0": "OR4",
                  "1": "1"
                },
                {
                  "0": "CFT",
                  "1": "1"
                },
                {
                  "0": "AUK",
                  "1": "1"
                },
                {
                  "0": "MVC",
                  "1": "1"
                },
                {
                  "0": "VGT",
                  "1": "1"
                },
                {
                  "0": "MGR",
                  "1": "1"
                },
                {
                  "0": "HWD",
                  "1": "1"
                },
                {
                  "0": "UBF",
                  "1": "1"
                },
                {
                  "0": "POU",
                  "1": "1"
                },
                {
                  "0": "SEF",
                  "1": "1"
                },
                {
                  "0": "HYS",
                  "1": "1"
                },
                {
                  "0": "GUF",
                  "1": "1"
                },
                {
                  "0": "MI2",
                  "1": "1"
                },
                {
                  "0": "CLS",
                  "1": "1"
                },
                {
                  "0": "PPD",
                  "1": "1"
                },
                {
                  "0": "MCL",
                  "1": "1"
                },
                {
                  "0": "ADM",
                  "1": "1"
                },
                {
                  "0": "TNT",
                  "1": "1"
                },
                {
                  "0": "VBG",
                  "1": "1"
                },
                {
                  "0": "RAL",
                  "1": "1"
                },
                {
                  "0": "CWF",
                  "1": "1"
                },
                {
                  "0": "LEE",
                  "1": "1"
                },
                {
                  "0": "AKP",
                  "1": "1"
                },
                {
                  "0": "NFL",
                  "1": "1"
                },
                {
                  "0": "SQV",
                  "1": "1"
                },
                {
                  "0": "ELY",
                  "1": "1"
                },
                {
                  "0": "XXV",
                  "1": "1"
                },
                {
                  "0": "JHW",
                  "1": "1"
                },
                {
                  "0": "LGU",
                  "1": "1"
                },
                {
                  "0": "NUI",
                  "1": "1"
                },
                {
                  "0": "KPB",
                  "1": "1"
                },
                {
                  "0": "DVL",
                  "1": "1"
                },
                {
                  "0": "TKJ",
                  "1": "1"
                },
                {
                  "0": "CLP",
                  "1": "1"
                },
                {
                  "0": "END",
                  "1": "1"
                },
                {
                  "0": "LKP",
                  "1": "1"
                },
                {
                  "0": "MBY",
                  "1": "1"
                },
                {
                  "0": "KCQ",
                  "1": "1"
                },
                {
                  "0": "FAQ",
                  "1": "1"
                },
                {
                  "0": "QQT",
                  "1": "1"
                },
                {
                  "0": "MSS",
                  "1": "1"
                },
                {
                  "0": "NPA",
                  "1": "1"
                },
                {
                  "0": "FHB",
                  "1": "1"
                }
              ],
              "schema": [
                {
                  "key": "0",
                  "name": "from_iata",
                  "type": "string"
                },
                {
                  "key": "1",
                  "name": "count",
                  "type": "bigint"
                }
              ]
            },
            "isSummary": false,
            "language": "scala"
          },
          "persist_state": {
            "view": {
              "type": "details",
              "tableOptions": {},
              "chartOptions": {
                "chartType": "bar",
                "aggregationType": "sum",
                "categoryFieldKeys": [
                  "0"
                ],
                "seriesFieldKeys": [
                  "1"
                ],
                "isStacked": false
              }
            }
          }
        },
        "288b6623-755d-4bfd-85db-785890df5519": {
          "type": "Synapse.DataFrame",
          "sync_state": {
            "table": {
              "rows": [
                {
                  "0": "YYZ",
                  "1": "50044"
                },
                {
                  "0": "CUN",
                  "1": "32168"
                },
                {
                  "0": "MEX",
                  "1": "26781"
                },
                {
                  "0": "NRT",
                  "1": "21275"
                },
                {
                  "0": "YVR",
                  "1": "20941"
                },
                {
                  "0": "YUL",
                  "1": "19486"
                },
                {
                  "0": "FRA",
                  "1": "17446"
                },
                {
                  "0": "LHR",
                  "1": "16054"
                },
                {
                  "0": "NAS",
                  "1": "15005"
                },
                {
                  "0": "AMS",
                  "1": "14794"
                },
                {
                  "0": "YYC",
                  "1": "14413"
                },
                {
                  "0": "GDL",
                  "1": "14141"
                },
                {
                  "0": "CDG",
                  "1": "13803"
                },
                {
                  "0": "MBJ",
                  "1": "12284"
                },
                {
                  "0": "PVR",
                  "1": "11431"
                },
                {
                  "0": "LGW",
                  "1": "9919"
                },
                {
                  "0": "PUJ",
                  "1": "9604"
                },
                {
                  "0": "SDQ",
                  "1": "9428"
                },
                {
                  "0": "BOG",
                  "1": "9338"
                },
                {
                  "0": "GUA",
                  "1": "9221"
                },
                {
                  "0": "SJD",
                  "1": "9220"
                },
                {
                  "0": "ICN",
                  "1": "9100"
                },
                {
                  "0": "AUA",
                  "1": "9040"
                },
                {
                  "0": "MTY",
                  "1": "8800"
                },
                {
                  "0": "SJO",
                  "1": "8597"
                },
                {
                  "0": "HKG",
                  "1": "8123"
                },
                {
                  "0": "PTY",
                  "1": "8037"
                },
                {
                  "0": "SAL",
                  "1": "7902"
                },
                {
                  "0": "CCS",
                  "1": "7635"
                },
                {
                  "0": "YOW",
                  "1": "7607"
                },
                {
                  "0": "SNN",
                  "1": "7102"
                },
                {
                  "0": "BRU",
                  "1": "7085"
                },
                {
                  "0": "LIM",
                  "1": "6680"
                },
                {
                  "0": "TPE",
                  "1": "6596"
                },
                {
                  "0": "KIX",
                  "1": "6529"
                },
                {
                  "0": "YEG",
                  "1": "6495"
                },
                {
                  "0": "SXM",
                  "1": "6491"
                },
                {
                  "0": "GRU",
                  "1": "6275"
                },
                {
                  "0": "GCM",
                  "1": "6222"
                },
                {
                  "0": "MAN",
                  "1": "6129"
                },
                {
                  "0": "PVG",
                  "1": "6043"
                },
                {
                  "0": "YWG",
                  "1": "5895"
                },
                {
                  "0": "YQX",
                  "1": "5833"
                },
                {
                  "0": "ZRH",
                  "1": "5603"
                },
                {
                  "0": "FPO",
                  "1": "5504"
                },
                {
                  "0": "MAD",
                  "1": "5460"
                },
                {
                  "0": "SAP",
                  "1": "5425"
                },
                {
                  "0": "POS",
                  "1": "5374"
                },
                {
                  "0": "YHM",
                  "1": "5273"
                },
                {
                  "0": "BDA",
                  "1": "5197"
                },
                {
                  "0": "YMX",
                  "1": "5076"
                },
                {
                  "0": "KEF",
                  "1": "4888"
                },
                {
                  "0": "KIN",
                  "1": "4519"
                },
                {
                  "0": "BGI",
                  "1": "4465"
                },
                {
                  "0": "MUC",
                  "1": "4429"
                },
                {
                  "0": "EZE",
                  "1": "4406"
                },
                {
                  "0": "PAP",
                  "1": "4358"
                },
                {
                  "0": "FCO",
                  "1": "4333"
                },
                {
                  "0": "BJX",
                  "1": "4286"
                },
                {
                  "0": "PLS",
                  "1": "4277"
                },
                {
                  "0": "GYE",
                  "1": "4253"
                },
                {
                  "0": "MXP",
                  "1": "4124"
                },
                {
                  "0": "SYD",
                  "1": "4081"
                },
                {
                  "0": "ANU",
                  "1": "4075"
                },
                {
                  "0": "YHZ",
                  "1": "4074"
                },
                {
                  "0": "SCL",
                  "1": "4037"
                },
                {
                  "0": "DUB",
                  "1": "4015"
                },
                {
                  "0": "LUX",
                  "1": "3995"
                },
                {
                  "0": "CZM",
                  "1": "3941"
                },
                {
                  "0": "UIO",
                  "1": "3940"
                },
                {
                  "0": "SEL",
                  "1": "3825"
                },
                {
                  "0": "STN",
                  "1": "3820"
                },
                {
                  "0": "MZT",
                  "1": "3693"
                },
                {
                  "0": "PEK",
                  "1": "3683"
                },
                {
                  "0": "ACA",
                  "1": "3665"
                },
                {
                  "0": "SKB",
                  "1": "3573"
                },
                {
                  "0": "NGO",
                  "1": "3572"
                },
                {
                  "0": "MAO",
                  "1": "3549"
                },
                {
                  "0": "GIG",
                  "1": "3539"
                },
                {
                  "0": "VCP",
                  "1": "3519"
                },
                {
                  "0": "POP",
                  "1": "3374"
                },
                {
                  "0": "PIK",
                  "1": "3246"
                },
                {
                  "0": "ZIH",
                  "1": "3214"
                },
                {
                  "0": "MDE",
                  "1": "3196"
                },
                {
                  "0": "BZE",
                  "1": "3176"
                },
                {
                  "0": "MGA",
                  "1": "3148"
                },
                {
                  "0": "SLW",
                  "1": "3106"
                },
                {
                  "0": "CUR",
                  "1": "2894"
                },
                {
                  "0": "HAV",
                  "1": "2873"
                },
                {
                  "0": "DUS",
                  "1": "2810"
                },
                {
                  "0": "LIR",
                  "1": "2786"
                },
                {
                  "0": "HMO",
                  "1": "2679"
                },
                {
                  "0": "AKL",
                  "1": "2620"
                },
                {
                  "0": "TLV",
                  "1": "2583"
                },
                {
                  "0": "ORY",
                  "1": "2577"
                },
                {
                  "0": "CGN",
                  "1": "2576"
                },
                {
                  "0": "CPH",
                  "1": "2537"
                },
                {
                  "0": "MID",
                  "1": "2493"
                },
                {
                  "0": "STI",
                  "1": "2460"
                },
                {
                  "0": "CLO",
                  "1": "2320"
                },
                {
                  "0": "TLC",
                  "1": "2305"
                },
                {
                  "0": "UVF",
                  "1": "2288"
                },
                {
                  "0": "MNL",
                  "1": "2242"
                },
                {
                  "0": "CTS",
                  "1": "2135"
                },
                {
                  "0": "YQB",
                  "1": "2089"
                },
                {
                  "0": "ARN",
                  "1": "2046"
                },
                {
                  "0": "YXU",
                  "1": "2028"
                },
                {
                  "0": "PPT",
                  "1": "2014"
                },
                {
                  "0": "NAN",
                  "1": "2004"
                },
                {
                  "0": "CUU",
                  "1": "1973"
                },
                {
                  "0": "SVO",
                  "1": "1969"
                },
                {
                  "0": "GLA",
                  "1": "1967"
                },
                {
                  "0": "QRO",
                  "1": "1955"
                },
                {
                  "0": "MHH",
                  "1": "1948"
                },
                {
                  "0": "LIS",
                  "1": "1887"
                },
                {
                  "0": "BCN",
                  "1": "1856"
                },
                {
                  "0": "LGG",
                  "1": "1844"
                },
                {
                  "0": "YYJ",
                  "1": "1822"
                },
                {
                  "0": "BAQ",
                  "1": "1800"
                },
                {
                  "0": "HND",
                  "1": "1767"
                },
                {
                  "0": "DXB",
                  "1": "1754"
                },
                {
                  "0": "MLM",
                  "1": "1745"
                },
                {
                  "0": "PTP",
                  "1": "1660"
                },
                {
                  "0": "MAJ",
                  "1": "1620"
                },
                {
                  "0": "GND",
                  "1": "1613"
                },
                {
                  "0": "GEO",
                  "1": "1596"
                },
                {
                  "0": "IST",
                  "1": "1592"
                },
                {
                  "0": "MAR",
                  "1": "1591"
                },
                {
                  "0": "GVA",
                  "1": "1581"
                },
                {
                  "0": "EMA",
                  "1": "1568"
                },
                {
                  "0": "TGU",
                  "1": "1538"
                },
                {
                  "0": "YQG",
                  "1": "1496"
                },
                {
                  "0": "HHN",
                  "1": "1455"
                },
                {
                  "0": "EIS",
                  "1": "1354"
                },
                {
                  "0": "YYR",
                  "1": "1346"
                },
                {
                  "0": "ATH",
                  "1": "1332"
                },
                {
                  "0": "LTN",
                  "1": "1314"
                },
                {
                  "0": "RMS",
                  "1": "1312"
                },
                {
                  "0": "FDF",
                  "1": "1300"
                },
                {
                  "0": "ZCL",
                  "1": "1292"
                },
                {
                  "0": "VLN",
                  "1": "1284"
                },
                {
                  "0": "WAW",
                  "1": "1248"
                },
                {
                  "0": "NBW",
                  "1": "1242"
                },
                {
                  "0": "FUK",
                  "1": "1240"
                },
                {
                  "0": "ZLO",
                  "1": "1229"
                },
                {
                  "0": "VIE",
                  "1": "1219"
                },
                {
                  "0": "RTB",
                  "1": "1189"
                },
                {
                  "0": "BHX",
                  "1": "1188"
                },
                {
                  "0": "CTG",
                  "1": "1182"
                },
                {
                  "0": "YYT",
                  "1": "1177"
                },
                {
                  "0": "YQR",
                  "1": "1177"
                },
                {
                  "0": "AGU",
                  "1": "1134"
                },
                {
                  "0": "SLP",
                  "1": "1104"
                },
                {
                  "0": "LRM",
                  "1": "1102"
                },
                {
                  "0": "LBG",
                  "1": "1091"
                },
                {
                  "0": "LEJ",
                  "1": "1069"
                },
                {
                  "0": "TER",
                  "1": "1061"
                },
                {
                  "0": "YXE",
                  "1": "1056"
                },
                {
                  "0": "OSL",
                  "1": "1036"
                },
                {
                  "0": "CNF",
                  "1": "1001"
                },
                {
                  "0": "HEL",
                  "1": "999"
                },
                {
                  "0": "VVI",
                  "1": "992"
                },
                {
                  "0": "HUX",
                  "1": "987"
                },
                {
                  "0": "MVD",
                  "1": "986"
                },
                {
                  "0": "GGT",
                  "1": "978"
                },
                {
                  "0": "DOH",
                  "1": "973"
                },
                {
                  "0": "ASU",
                  "1": "959"
                },
                {
                  "0": "BON",
                  "1": "955"
                },
                {
                  "0": "NCE",
                  "1": "954"
                },
                {
                  "0": "OST",
                  "1": "937"
                },
                {
                  "0": "PBC",
                  "1": "920"
                },
                {
                  "0": "MEL",
                  "1": "916"
                },
                {
                  "0": "BSB",
                  "1": "898"
                },
                {
                  "0": "OKO",
                  "1": "843"
                },
                {
                  "0": "BNE",
                  "1": "839"
                },
                {
                  "0": "TCB",
                  "1": "831"
                },
                {
                  "0": "TRC",
                  "1": "830"
                },
                {
                  "0": "PBM",
                  "1": "828"
                },
                {
                  "0": "STR",
                  "1": "817"
                },
                {
                  "0": "JED",
                  "1": "793"
                },
                {
                  "0": "TXL",
                  "1": "768"
                },
                {
                  "0": "YTZ",
                  "1": "759"
                },
                {
                  "0": "DKR",
                  "1": "758"
                },
                {
                  "0": "AGT",
                  "1": "748"
                },
                {
                  "0": "SDJ",
                  "1": "743"
                },
                {
                  "0": "SLU",
                  "1": "742"
                },
                {
                  "0": "ELH",
                  "1": "739"
                },
                {
                  "0": "APW",
                  "1": "738"
                },
                {
                  "0": "YKF",
                  "1": "733"
                },
                {
                  "0": "FAB",
                  "1": "731"
                },
                {
                  "0": "HOG",
                  "1": "720"
                },
                {
                  "0": "PNI",
                  "1": "717"
                },
                {
                  "0": "BFS",
                  "1": "716"
                },
                {
                  "0": "OSN",
                  "1": "716"
                },
                {
                  "0": "AMM",
                  "1": "710"
                },
                {
                  "0": "YLW",
                  "1": "708"
                },
                {
                  "0": "DOM",
                  "1": "697"
                },
                {
                  "0": "OSA",
                  "1": "696"
                },
                {
                  "0": "DGO",
                  "1": "693"
                },
                {
                  "0": "CAN",
                  "1": "688"
                },
                {
                  "0": "DNA",
                  "1": "664"
                },
                {
                  "0": "DEL",
                  "1": "663"
                },
                {
                  "0": "TKK",
                  "1": "663"
                },
                {
                  "0": "CWB",
                  "1": "657"
                },
                {
                  "0": "YHU",
                  "1": "655"
                },
                {
                  "0": "SSA",
                  "1": "647"
                },
                {
                  "0": "REC",
                  "1": "641"
                },
                {
                  "0": "ROR",
                  "1": "638"
                },
                {
                  "0": "AXA",
                  "1": "636"
                },
                {
                  "0": "VER",
                  "1": "621"
                },
                {
                  "0": "PUS",
                  "1": "614"
                },
                {
                  "0": "SID",
                  "1": "608"
                },
                {
                  "0": "VCE",
                  "1": "605"
                },
                {
                  "0": "YAP",
                  "1": "605"
                },
                {
                  "0": "TIJ",
                  "1": "599"
                },
                {
                  "0": "CMW",
                  "1": "595"
                },
                {
                  "0": "BLA",
                  "1": "588"
                },
                {
                  "0": "EDI",
                  "1": "588"
                },
                {
                  "0": "CAI",
                  "1": "572"
                },
                {
                  "0": "YWH",
                  "1": "570"
                },
                {
                  "0": "RUH",
                  "1": "569"
                },
                {
                  "0": "SHA",
                  "1": "565"
                },
                {
                  "0": "PDL",
                  "1": "563"
                },
                {
                  "0": "LPB",
                  "1": "563"
                },
                {
                  "0": "ISL",
                  "1": "559"
                },
                {
                  "0": "AUH",
                  "1": "558"
                },
                {
                  "0": "LOS",
                  "1": "556"
                },
                {
                  "0": "LTO",
                  "1": "552"
                },
                {
                  "0": "PRG",
                  "1": "550"
                },
                {
                  "0": "NCL",
                  "1": "546"
                },
                {
                  "0": "POA",
                  "1": "540"
                },
                {
                  "0": "BUD",
                  "1": "537"
                },
                {
                  "0": "ACC",
                  "1": "525"
                },
                {
                  "0": "JNB",
                  "1": "523"
                },
                {
                  "0": "KHV",
                  "1": "512"
                },
                {
                  "0": "PMV",
                  "1": "509"
                },
                {
                  "0": "BIM",
                  "1": "503"
                },
                {
                  "0": "SVD",
                  "1": "502"
                },
                {
                  "0": "CXI",
                  "1": "488"
                },
                {
                  "0": "GYM",
                  "1": "487"
                },
                {
                  "0": "LAP",
                  "1": "481"
                },
                {
                  "0": "HAM",
                  "1": "473"
                },
                {
                  "0": "VKO",
                  "1": "473"
                },
                {
                  "0": "TAM",
                  "1": "469"
                },
                {
                  "0": "CMN",
                  "1": "466"
                },
                {
                  "0": "CWL",
                  "1": "457"
                },
                {
                  "0": "SZX",
                  "1": "456"
                },
                {
                  "0": "GOT",
                  "1": "448"
                },
                {
                  "0": "SIN",
                  "1": "444"
                },
                {
                  "0": "SNU",
                  "1": "443"
                },
                {
                  "0": "YQM",
                  "1": "443"
                },
                {
                  "0": "IQQ",
                  "1": "428"
                },
                {
                  "0": "GHB",
                  "1": "428"
                },
                {
                  "0": "KWI",
                  "1": "421"
                },
                {
                  "0": "HIJ",
                  "1": "417"
                },
                {
                  "0": "KBP",
                  "1": "414"
                },
                {
                  "0": "RAR",
                  "1": "414"
                },
                {
                  "0": "BOM",
                  "1": "399"
                },
                {
                  "0": "GDT",
                  "1": "396"
                },
                {
                  "0": "KIJ",
                  "1": "389"
                },
                {
                  "0": "BAH",
                  "1": "389"
                },
                {
                  "0": "BEL",
                  "1": "381"
                },
                {
                  "0": "CJS",
                  "1": "378"
                },
                {
                  "0": "CUL",
                  "1": "378"
                },
                {
                  "0": "CFG",
                  "1": "374"
                },
                {
                  "0": "SCU",
                  "1": "373"
                },
                {
                  "0": "BSL",
                  "1": "368"
                },
                {
                  "0": "KWA",
                  "1": "359"
                },
                {
                  "0": "VIX",
                  "1": "350"
                },
                {
                  "0": "KRK",
                  "1": "350"
                },
                {
                  "0": "FOR",
                  "1": "340"
                },
                {
                  "0": "YXY",
                  "1": "337"
                },
                {
                  "0": "VSA",
                  "1": "334"
                },
                {
                  "0": "CNS",
                  "1": "334"
                },
                {
                  "0": "TAB",
                  "1": "333"
                },
                {
                  "0": "SBH",
                  "1": "330"
                },
                {
                  "0": "CAY",
                  "1": "322"
                },
                {
                  "0": "DME",
                  "1": "310"
                },
                {
                  "0": "OKJ",
                  "1": "309"
                },
                {
                  "0": "NEV",
                  "1": "308"
                },
                {
                  "0": "OPO",
                  "1": "299"
                },
                {
                  "0": "AGP",
                  "1": "299"
                },
                {
                  "0": "YJT",
                  "1": "295"
                },
                {
                  "0": "MST",
                  "1": "294"
                },
                {
                  "0": "SMA",
                  "1": "292"
                },
                {
                  "0": "DPS",
                  "1": "288"
                },
                {
                  "0": "OAX",
                  "1": "285"
                },
                {
                  "0": "ZSA",
                  "1": "284"
                },
                {
                  "0": "PKC",
                  "1": "284"
                },
                {
                  "0": "ZXA",
                  "1": "282"
                },
                {
                  "0": "IQT",
                  "1": "279"
                },
                {
                  "0": "ADD",
                  "1": "268"
                },
                {
                  "0": "RIX",
                  "1": "256"
                },
                {
                  "0": "ZNA",
                  "1": "256"
                },
                {
                  "0": "OKA",
                  "1": "246"
                },
                {
                  "0": "CME",
                  "1": "244"
                },
                {
                  "0": "CGO",
                  "1": "239"
                },
                {
                  "0": "LAD",
                  "1": "237"
                },
                {
                  "0": "TAR",
                  "1": "237"
                },
                {
                  "0": "NKG",
                  "1": "236"
                },
                {
                  "0": "CYB",
                  "1": "236"
                },
                {
                  "0": "YQT",
                  "1": "231"
                },
                {
                  "0": "LSP",
                  "1": "225"
                },
                {
                  "0": "MDZ",
                  "1": "224"
                },
                {
                  "0": "OTP",
                  "1": "223"
                },
                {
                  "0": "ASD",
                  "1": "223"
                },
                {
                  "0": "BZZ",
                  "1": "220"
                },
                {
                  "0": "TLS",
                  "1": "219"
                },
                {
                  "0": "DYR",
                  "1": "218"
                },
                {
                  "0": "HOW",
                  "1": "216"
                },
                {
                  "0": "CXH",
                  "1": "215"
                },
                {
                  "0": "YBL",
                  "1": "210"
                },
                {
                  "0": "VIJ",
                  "1": "209"
                },
                {
                  "0": "IWA",
                  "1": "207"
                },
                {
                  "0": "YPQ",
                  "1": "206"
                },
                {
                  "0": "XSC",
                  "1": "204"
                },
                {
                  "0": "FGI",
                  "1": "202"
                },
                {
                  "0": "CFB",
                  "1": "197"
                },
                {
                  "0": "MFM",
                  "1": "195"
                },
                {
                  "0": "YFB",
                  "1": "195"
                },
                {
                  "0": "MHZ",
                  "1": "194"
                },
                {
                  "0": "YCD",
                  "1": "194"
                },
                {
                  "0": "LYS",
                  "1": "193"
                },
                {
                  "0": "KOJ",
                  "1": "189"
                },
                {
                  "0": "PSA",
                  "1": "188"
                },
                {
                  "0": "TBU",
                  "1": "186"
                },
                {
                  "0": "TRN",
                  "1": "184"
                },
                {
                  "0": "THU",
                  "1": "182"
                },
                {
                  "0": "BRS",
                  "1": "181"
                },
                {
                  "0": "RAI",
                  "1": "179"
                },
                {
                  "0": "GYD",
                  "1": "179"
                },
                {
                  "0": "PEI",
                  "1": "179"
                },
                {
                  "0": "GDX",
                  "1": "175"
                },
                {
                  "0": "MXL",
                  "1": "173"
                },
                {
                  "0": "FBU",
                  "1": "168"
                },
                {
                  "0": "BKK",
                  "1": "163"
                },
                {
                  "0": "CPT",
                  "1": "162"
                },
                {
                  "0": "KHH",
                  "1": "158"
                },
                {
                  "0": "CTU",
                  "1": "156"
                },
                {
                  "0": "LCY",
                  "1": "154"
                },
                {
                  "0": "NAP",
                  "1": "148"
                },
                {
                  "0": "HGH",
                  "1": "146"
                },
                {
                  "0": "UAB",
                  "1": "145"
                },
                {
                  "0": "TSR",
                  "1": "144"
                },
                {
                  "0": "LCE",
                  "1": "139"
                },
                {
                  "0": "PVS",
                  "1": "137"
                },
                {
                  "0": "SCQ",
                  "1": "137"
                },
                {
                  "0": "CIA",
                  "1": "135"
                },
                {
                  "0": "COR",
                  "1": "135"
                },
                {
                  "0": "CJU",
                  "1": "134"
                },
                {
                  "0": "KSA",
                  "1": "133"
                },
                {
                  "0": "LIN",
                  "1": "133"
                },
                {
                  "0": "SXF",
                  "1": "132"
                },
                {
                  "0": "XCR",
                  "1": "132"
                },
                {
                  "0": "YYG",
                  "1": "131"
                },
                {
                  "0": "TSN",
                  "1": "130"
                },
                {
                  "0": "NSY",
                  "1": "129"
                },
                {
                  "0": "NSB",
                  "1": "129"
                },
                {
                  "0": "AXM",
                  "1": "126"
                },
                {
                  "0": "NKM",
                  "1": "124"
                },
                {
                  "0": "ENQ",
                  "1": "124"
                },
                {
                  "0": "MLH",
                  "1": "120"
                },
                {
                  "0": "CIW",
                  "1": "119"
                },
                {
                  "0": "BGA",
                  "1": "119"
                },
                {
                  "0": "NHT",
                  "1": "118"
                },
                {
                  "0": "MEC",
                  "1": "118"
                },
                {
                  "0": "SVG",
                  "1": "116"
                },
                {
                  "0": "TOJ",
                  "1": "115"
                },
                {
                  "0": "BQH",
                  "1": "114"
                },
                {
                  "0": "KMQ",
                  "1": "113"
                },
                {
                  "0": "FKB",
                  "1": "112"
                },
                {
                  "0": "YSJ",
                  "1": "112"
                },
                {
                  "0": "KHI",
                  "1": "112"
                },
                {
                  "0": "VRA",
                  "1": "111"
                },
                {
                  "0": "YHH",
                  "1": "110"
                },
                {
                  "0": "FRF",
                  "1": "108"
                },
                {
                  "0": "LED",
                  "1": "108"
                },
                {
                  "0": "MSJ",
                  "1": "106"
                },
                {
                  "0": "CSL",
                  "1": "106"
                },
                {
                  "0": "TFS",
                  "1": "105"
                },
                {
                  "0": "FVT",
                  "1": "104"
                },
                {
                  "0": "HAJ",
                  "1": "104"
                },
                {
                  "0": "BIK",
                  "1": "103"
                },
                {
                  "0": "BMA",
                  "1": "102"
                },
                {
                  "0": "CAP",
                  "1": "100"
                },
                {
                  "0": "YFC",
                  "1": "99"
                },
                {
                  "0": "ADZ",
                  "1": "98"
                },
                {
                  "0": "YAZ",
                  "1": "98"
                },
                {
                  "0": "YZT",
                  "1": "96"
                },
                {
                  "0": "LDE",
                  "1": "95"
                },
                {
                  "0": "GEN",
                  "1": "95"
                },
                {
                  "0": "TAK",
                  "1": "94"
                },
                {
                  "0": "SAW",
                  "1": "93"
                },
                {
                  "0": "AZS",
                  "1": "93"
                },
                {
                  "0": "VVO",
                  "1": "93"
                },
                {
                  "0": "WUH",
                  "1": "92"
                },
                {
                  "0": "LHE",
                  "1": "92"
                },
                {
                  "0": "NUE",
                  "1": "91"
                },
                {
                  "0": "SOF",
                  "1": "91"
                },
                {
                  "0": "TAO",
                  "1": "90"
                },
                {
                  "0": "YOC",
                  "1": "90"
                },
                {
                  "0": "YKA",
                  "1": "90"
                },
                {
                  "0": "YBW",
                  "1": "90"
                },
                {
                  "0": "CRK",
                  "1": "89"
                },
                {
                  "0": "UPN",
                  "1": "89"
                },
                {
                  "0": "TUC",
                  "1": "87"
                },
                {
                  "0": "VLC",
                  "1": "87"
                },
                {
                  "0": "RTA",
                  "1": "85"
                },
                {
                  "0": "GOA",
                  "1": "85"
                },
                {
                  "0": "NCA",
                  "1": "85"
                },
                {
                  "0": "YDA",
                  "1": "85"
                },
                {
                  "0": "CSX",
                  "1": "85"
                },
                {
                  "0": "BLL",
                  "1": "84"
                },
                {
                  "0": "YXX",
                  "1": "84"
                },
                {
                  "0": "SAQ",
                  "1": "82"
                },
                {
                  "0": "MSE",
                  "1": "81"
                },
                {
                  "0": "BJL",
                  "1": "80"
                },
                {
                  "0": "YSC",
                  "1": "80"
                },
                {
                  "0": "YQA",
                  "1": "79"
                },
                {
                  "0": "MRS",
                  "1": "78"
                },
                {
                  "0": "LPA",
                  "1": "78"
                },
                {
                  "0": "DSA",
                  "1": "78"
                },
                {
                  "0": "PMO",
                  "1": "78"
                },
                {
                  "0": "NTR",
                  "1": "77"
                },
                {
                  "0": "NTE",
                  "1": "77"
                },
                {
                  "0": "CKG",
                  "1": "76"
                },
                {
                  "0": "DCF",
                  "1": "76"
                },
                {
                  "0": "BOD",
                  "1": "76"
                },
                {
                  "0": "YZF",
                  "1": "75"
                },
                {
                  "0": "MYJ",
                  "1": "75"
                },
                {
                  "0": "NON",
                  "1": "74"
                },
                {
                  "0": "BRM",
                  "1": "73"
                },
                {
                  "0": "TOY",
                  "1": "72"
                },
                {
                  "0": "TBI",
                  "1": "72"
                },
                {
                  "0": "SFJ",
                  "1": "71"
                },
                {
                  "0": "YOD",
                  "1": "71"
                },
                {
                  "0": "IGU",
                  "1": "71"
                },
                {
                  "0": "BEG",
                  "1": "71"
                },
                {
                  "0": "CXY",
                  "1": "70"
                },
                {
                  "0": "DSS",
                  "1": "69"
                },
                {
                  "0": "CIX",
                  "1": "68"
                },
                {
                  "0": "POM",
                  "1": "68"
                },
                {
                  "0": "LMM",
                  "1": "67"
                },
                {
                  "0": "BS3",
                  "1": "66"
                },
                {
                  "0": "YIG",
                  "1": "66"
                },
                {
                  "0": "LOV",
                  "1": "65"
                },
                {
                  "0": "LCA",
                  "1": "65"
                },
                {
                  "0": "YTM",
                  "1": "63"
                },
                {
                  "0": "NOU",
                  "1": "63"
                },
                {
                  "0": "AOJ",
                  "1": "63"
                },
                {
                  "0": "ZAZ",
                  "1": "62"
                },
                {
                  "0": "BVA",
                  "1": "62"
                },
                {
                  "0": "ANF",
                  "1": "62"
                },
                {
                  "0": "ERT",
                  "1": "61"
                },
                {
                  "0": "GHC",
                  "1": "61"
                },
                {
                  "0": "MDC",
                  "1": "61"
                },
                {
                  "0": "MLA",
                  "1": "61"
                },
                {
                  "0": "CGK",
                  "1": "59"
                },
                {
                  "0": "CEB",
                  "1": "58"
                },
                {
                  "0": "BGO",
                  "1": "58"
                },
                {
                  "0": "BLQ",
                  "1": "58"
                },
                {
                  "0": "SFS",
                  "1": "57"
                },
                {
                  "0": "CHC",
                  "1": "56"
                },
                {
                  "0": "CHR",
                  "1": "55"
                },
                {
                  "0": "HAN",
                  "1": "55"
                },
                {
                  "0": "AXT",
                  "1": "55"
                },
                {
                  "0": "CBB",
                  "1": "55"
                },
                {
                  "0": "YTP",
                  "1": "55"
                },
                {
                  "0": "YMP",
                  "1": "55"
                },
                {
                  "0": "KUV",
                  "1": "54"
                },
                {
                  "0": "SHJ",
                  "1": "53"
                },
                {
                  "0": "YKZ",
                  "1": "53"
                },
                {
                  "0": "RZE",
                  "1": "53"
                },
                {
                  "0": "VIT",
                  "1": "52"
                },
                {
                  "0": "LBA",
                  "1": "52"
                },
                {
                  "0": "YPW",
                  "1": "52"
                },
                {
                  "0": "MED",
                  "1": "52"
                },
                {
                  "0": "ORK",
                  "1": "51"
                },
                {
                  "0": "HKD",
                  "1": "51"
                },
                {
                  "0": "YCF",
                  "1": "50"
                },
                {
                  "0": "YGG",
                  "1": "49"
                },
                {
                  "0": "RTM",
                  "1": "49"
                },
                {
                  "0": "YDS",
                  "1": "49"
                },
                {
                  "0": "MME",
                  "1": "48"
                },
                {
                  "0": "XMN",
                  "1": "48"
                },
                {
                  "0": "LPL",
                  "1": "47"
                },
                {
                  "0": "BBU",
                  "1": "47"
                },
                {
                  "0": "TGZ",
                  "1": "46"
                },
                {
                  "0": "YSN",
                  "1": "46"
                },
                {
                  "0": "KKJ",
                  "1": "46"
                },
                {
                  "0": "ANR",
                  "1": "46"
                },
                {
                  "0": "EIN",
                  "1": "45"
                },
                {
                  "0": "CCZ",
                  "1": "45"
                },
                {
                  "0": "SRZ",
                  "1": "45"
                },
                {
                  "0": "PMI",
                  "1": "45"
                },
                {
                  "0": "FAO",
                  "1": "44"
                },
                {
                  "0": "YAM",
                  "1": "44"
                },
                {
                  "0": "OLB",
                  "1": "44"
                },
                {
                  "0": "YTG",
                  "1": "44"
                },
                {
                  "0": "PID",
                  "1": "43"
                },
                {
                  "0": "YMM",
                  "1": "43"
                },
                {
                  "0": "SVQ",
                  "1": "43"
                },
                {
                  "0": "MMX",
                  "1": "42"
                },
                {
                  "0": "FOC",
                  "1": "42"
                },
                {
                  "0": "INU",
                  "1": "42"
                },
                {
                  "0": "KMJ",
                  "1": "42"
                },
                {
                  "0": "GMP",
                  "1": "42"
                },
                {
                  "0": "TNA",
                  "1": "41"
                },
                {
                  "0": "NOP",
                  "1": "41"
                },
                {
                  "0": "BC5",
                  "1": "41"
                },
                {
                  "0": "KUL",
                  "1": "41"
                },
                {
                  "0": "LIL",
                  "1": "41"
                },
                {
                  "0": "YEV",
                  "1": "40"
                },
                {
                  "0": "NOC",
                  "1": "40"
                },
                {
                  "0": "PIO",
                  "1": "40"
                },
                {
                  "0": "BOH",
                  "1": "40"
                },
                {
                  "0": "YXS",
                  "1": "40"
                },
                {
                  "0": "BAK",
                  "1": "39"
                },
                {
                  "0": "YQY",
                  "1": "39"
                },
                {
                  "0": "DOL",
                  "1": "39"
                },
                {
                  "0": "NAT",
                  "1": "38"
                },
                {
                  "0": "YTR",
                  "1": "38"
                },
                {
                  "0": "CCP",
                  "1": "38"
                },
                {
                  "0": "YCM",
                  "1": "38"
                },
                {
                  "0": "HRB",
                  "1": "37"
                },
                {
                  "0": "YQK",
                  "1": "37"
                },
                {
                  "0": "FRS",
                  "1": "37"
                },
                {
                  "0": "SSG",
                  "1": "37"
                },
                {
                  "0": "MXS",
                  "1": "36"
                },
                {
                  "0": "CPQ",
                  "1": "36"
                },
                {
                  "0": "ALP",
                  "1": "35"
                },
                {
                  "0": "RAK",
                  "1": "35"
                },
                {
                  "0": "YLS",
                  "1": "35"
                },
                {
                  "0": "OBO",
                  "1": "35"
                },
                {
                  "0": "GRZ",
                  "1": "34"
                },
                {
                  "0": "MZO",
                  "1": "34"
                },
                {
                  "0": "CND",
                  "1": "34"
                },
                {
                  "0": "BQA",
                  "1": "33"
                },
                {
                  "0": "YHS",
                  "1": "32"
                },
                {
                  "0": "BRN",
                  "1": "32"
                },
                {
                  "0": "AMD",
                  "1": "32"
                },
                {
                  "0": "LYX",
                  "1": "31"
                },
                {
                  "0": "TLN",
                  "1": "31"
                },
                {
                  "0": "YYB",
                  "1": "30"
                },
                {
                  "0": "SPM",
                  "1": "30"
                },
                {
                  "0": "BHD",
                  "1": "30"
                },
                {
                  "0": "YPT",
                  "1": "30"
                },
                {
                  "0": "MAA",
                  "1": "30"
                },
                {
                  "0": "BVB",
                  "1": "30"
                },
                {
                  "0": "KMI",
                  "1": "30"
                },
                {
                  "0": "UTP",
                  "1": "30"
                },
                {
                  "0": "CEN",
                  "1": "29"
                },
                {
                  "0": "SUJ",
                  "1": "29"
                },
                {
                  "0": "XMR",
                  "1": "29"
                },
                {
                  "0": "EXT",
                  "1": "29"
                },
                {
                  "0": "YNK",
                  "1": "29"
                },
                {
                  "0": "ZAG",
                  "1": "29"
                },
                {
                  "0": "ABV",
                  "1": "29"
                },
                {
                  "0": "CA2",
                  "1": "28"
                },
                {
                  "0": "NGS",
                  "1": "28"
                },
                {
                  "0": "OIT",
                  "1": "28"
                },
                {
                  "0": "ROB",
                  "1": "28"
                },
                {
                  "0": "YQL",
                  "1": "28"
                },
                {
                  "0": "YRQ",
                  "1": "28"
                },
                {
                  "0": "UUS",
                  "1": "27"
                },
                {
                  "0": "DCS",
                  "1": "27"
                },
                {
                  "0": "RSD",
                  "1": "27"
                },
                {
                  "0": "HIR",
                  "1": "26"
                },
                {
                  "0": "DRW",
                  "1": "26"
                },
                {
                  "0": "YCL",
                  "1": "26"
                },
                {
                  "0": "TPQ",
                  "1": "26"
                },
                {
                  "0": "SHE",
                  "1": "26"
                },
                {
                  "0": "FKS",
                  "1": "26"
                },
                {
                  "0": "LKZ",
                  "1": "26"
                },
                {
                  "0": "IBZ",
                  "1": "25"
                },
                {
                  "0": "MEB",
                  "1": "25"
                },
                {
                  "0": "NBO",
                  "1": "25"
                },
                {
                  "0": "DAC",
                  "1": "25"
                },
                {
                  "0": "FLR",
                  "1": "25"
                },
                {
                  "0": "VAV",
                  "1": "25"
                },
                {
                  "0": "INN",
                  "1": "24"
                },
                {
                  "0": "MMM",
                  "1": "24"
                },
                {
                  "0": "XPL",
                  "1": "24"
                },
                {
                  "0": "ALG",
                  "1": "24"
                },
                {
                  "0": "SGN",
                  "1": "24"
                },
                {
                  "0": "PAD",
                  "1": "24"
                },
                {
                  "0": "SZG",
                  "1": "24"
                },
                {
                  "0": "TAS",
                  "1": "24"
                },
                {
                  "0": "JER",
                  "1": "24"
                },
                {
                  "0": "DWC",
                  "1": "24"
                },
                {
                  "0": "XIY",
                  "1": "23"
                },
                {
                  "0": "ESB",
                  "1": "23"
                },
                {
                  "0": "CMB",
                  "1": "23"
                },
                {
                  "0": "MRX",
                  "1": "22"
                },
                {
                  "0": "IWO",
                  "1": "22"
                },
                {
                  "0": "SWB",
                  "1": "22"
                },
                {
                  "0": "YXC",
                  "1": "21"
                },
                {
                  "0": "STM",
                  "1": "21"
                },
                {
                  "0": "SGD",
                  "1": "21"
                },
                {
                  "0": "WUX",
                  "1": "21"
                },
                {
                  "0": "YPD",
                  "1": "21"
                },
                {
                  "0": "IEV",
                  "1": "21"
                },
                {
                  "0": "BC7",
                  "1": "21"
                },
                {
                  "0": "PNH",
                  "1": "21"
                },
                {
                  "0": "SLZ",
                  "1": "21"
                },
                {
                  "0": "SRB",
                  "1": "20"
                },
                {
                  "0": "FRU",
                  "1": "20"
                },
                {
                  "0": "AVB",
                  "1": "20"
                },
                {
                  "0": "ROS",
                  "1": "19"
                },
                {
                  "0": "YCJ",
                  "1": "19"
                },
                {
                  "0": "KJK",
                  "1": "19"
                },
                {
                  "0": "YSB",
                  "1": "19"
                },
                {
                  "0": "KCZ",
                  "1": "19"
                },
                {
                  "0": "TRD",
                  "1": "19"
                },
                {
                  "0": "SSN",
                  "1": "19"
                },
                {
                  "0": "WKR",
                  "1": "19"
                },
                {
                  "0": "ABZ",
                  "1": "19"
                },
                {
                  "0": "PEN",
                  "1": "19"
                },
                {
                  "0": "YPR",
                  "1": "19"
                },
                {
                  "0": "TUN",
                  "1": "19"
                },
                {
                  "0": "FSZ",
                  "1": "18"
                },
                {
                  "0": "VRN",
                  "1": "18"
                },
                {
                  "0": "TNN",
                  "1": "18"
                },
                {
                  "0": "GSE",
                  "1": "18"
                },
                {
                  "0": "ADL",
                  "1": "18"
                },
                {
                  "0": "IUE",
                  "1": "18"
                },
                {
                  "0": "YGK",
                  "1": "18"
                },
                {
                  "0": "YGN",
                  "1": "18"
                },
                {
                  "0": "BS1",
                  "1": "18"
                },
                {
                  "0": "DBV",
                  "1": "18"
                },
                {
                  "0": "MMY",
                  "1": "18"
                },
                {
                  "0": "SEN",
                  "1": "18"
                },
                {
                  "0": "TZN",
                  "1": "18"
                },
                {
                  "0": "MMP",
                  "1": "18"
                },
                {
                  "0": "TFN",
                  "1": "18"
                },
                {
                  "0": "TBS",
                  "1": "18"
                },
                {
                  "0": "TAE",
                  "1": "18"
                },
                {
                  "0": "BES",
                  "1": "17"
                },
                {
                  "0": "BIO",
                  "1": "17"
                },
                {
                  "0": "OZP",
                  "1": "17"
                },
                {
                  "0": "TSF",
                  "1": "17"
                },
                {
                  "0": "EVN",
                  "1": "17"
                },
                {
                  "0": "TPP",
                  "1": "17"
                },
                {
                  "0": "BEY",
                  "1": "17"
                },
                {
                  "0": "NGB",
                  "1": "17"
                },
                {
                  "0": "WTD",
                  "1": "17"
                },
                {
                  "0": "LCG",
                  "1": "17"
                },
                {
                  "0": "RES",
                  "1": "17"
                },
                {
                  "0": "YGE",
                  "1": "17"
                },
                {
                  "0": "BTS",
                  "1": "17"
                },
                {
                  "0": "BOJ",
                  "1": "17"
                },
                {
                  "0": "OXF",
                  "1": "17"
                },
                {
                  "0": "BGY",
                  "1": "16"
                },
                {
                  "0": "YZV",
                  "1": "16"
                },
                {
                  "0": "QPG",
                  "1": "16"
                },
                {
                  "0": "TSA",
                  "1": "16"
                },
                {
                  "0": "YWS",
                  "1": "16"
                },
                {
                  "0": "DHA",
                  "1": "16"
                },
                {
                  "0": "TIP",
                  "1": "16"
                },
                {
                  "0": "PHC",
                  "1": "16"
                },
                {
                  "0": "YBG",
                  "1": "16"
                },
                {
                  "0": "BLG",
                  "1": "16"
                },
                {
                  "0": "PER",
                  "1": "16"
                },
                {
                  "0": "NBC",
                  "1": "16"
                },
                {
                  "0": "LUG",
                  "1": "16"
                },
                {
                  "0": "YQU",
                  "1": "16"
                },
                {
                  "0": "JMK",
                  "1": "15"
                },
                {
                  "0": "ADJ",
                  "1": "15"
                },
                {
                  "0": "LBX",
                  "1": "15"
                },
                {
                  "0": "KLU",
                  "1": "15"
                },
                {
                  "0": "HFE",
                  "1": "15"
                },
                {
                  "0": "SPU",
                  "1": "15"
                },
                {
                  "0": "TYM",
                  "1": "15"
                },
                {
                  "0": "YCK",
                  "1": "15"
                },
                {
                  "0": "NEU",
                  "1": "15"
                },
                {
                  "0": "HNA",
                  "1": "15"
                },
                {
                  "0": "TKU",
                  "1": "15"
                },
                {
                  "0": "YTS",
                  "1": "15"
                },
                {
                  "0": "GTB",
                  "1": "15"
                },
                {
                  "0": "MUN",
                  "1": "15"
                },
                {
                  "0": "ULY",
                  "1": "15"
                },
                {
                  "0": "KDH",
                  "1": "15"
                },
                {
                  "0": "BC9",
                  "1": "15"
                },
                {
                  "0": "YNL",
                  "1": "15"
                },
                {
                  "0": "SDL",
                  "1": "15"
                },
                {
                  "0": "ON1",
                  "1": "15"
                },
                {
                  "0": "LYE",
                  "1": "15"
                },
                {
                  "0": "RKV",
                  "1": "15"
                },
                {
                  "0": "ALA",
                  "1": "14"
                },
                {
                  "0": "FLN",
                  "1": "14"
                },
                {
                  "0": "EUX",
                  "1": "14"
                },
                {
                  "0": "ZBM",
                  "1": "14"
                },
                {
                  "0": "BRX",
                  "1": "14"
                },
                {
                  "0": "EVE",
                  "1": "14"
                },
                {
                  "0": "CKY",
                  "1": "14"
                },
                {
                  "0": "CJJ",
                  "1": "14"
                },
                {
                  "0": "EYP",
                  "1": "14"
                },
                {
                  "0": "YPS",
                  "1": "14"
                },
                {
                  "0": "SFH",
                  "1": "14"
                },
                {
                  "0": "PPE",
                  "1": "14"
                },
                {
                  "0": "BC3",
                  "1": "14"
                },
                {
                  "0": "SKG",
                  "1": "14"
                },
                {
                  "0": "OBF",
                  "1": "14"
                },
                {
                  "0": "EVX",
                  "1": "13"
                },
                {
                  "0": "YR1",
                  "1": "13"
                },
                {
                  "0": "AKJ",
                  "1": "13"
                },
                {
                  "0": "NLD",
                  "1": "13"
                },
                {
                  "0": "CTA",
                  "1": "13"
                },
                {
                  "0": "NKC",
                  "1": "13"
                },
                {
                  "0": "BIV",
                  "1": "13"
                },
                {
                  "0": "TSV",
                  "1": "13"
                },
                {
                  "0": "CBR",
                  "1": "13"
                },
                {
                  "0": "ITM",
                  "1": "13"
                },
                {
                  "0": "BRQ",
                  "1": "13"
                },
                {
                  "0": "YYF",
                  "1": "13"
                },
                {
                  "0": "ORB",
                  "1": "13"
                },
                {
                  "0": "IZO",
                  "1": "13"
                },
                {
                  "0": "CGR",
                  "1": "13"
                },
                {
                  "0": "AGA",
                  "1": "12"
                },
                {
                  "0": "YYQ",
                  "1": "12"
                },
                {
                  "0": "KIV",
                  "1": "12"
                },
                {
                  "0": "YQJ",
                  "1": "12"
                },
                {
                  "0": "TYN",
                  "1": "12"
                },
                {
                  "0": "AVV",
                  "1": "12"
                },
                {
                  "0": "KTW",
                  "1": "12"
                },
                {
                  "0": "GB1",
                  "1": "12"
                },
                {
                  "0": "MAS",
                  "1": "12"
                },
                {
                  "0": "YMU",
                  "1": "12"
                },
                {
                  "0": "HBI",
                  "1": "12"
                },
                {
                  "0": "IWK",
                  "1": "12"
                },
                {
                  "0": "JP1",
                  "1": "12"
                },
                {
                  "0": "OAI",
                  "1": "12"
                },
                {
                  "0": "CVT",
                  "1": "11"
                },
                {
                  "0": "TCQ",
                  "1": "11"
                },
                {
                  "0": "DON",
                  "1": "11"
                },
                {
                  "0": "LLA",
                  "1": "11"
                },
                {
                  "0": "YQQ",
                  "1": "11"
                },
                {
                  "0": "AER",
                  "1": "11"
                },
                {
                  "0": "ORN",
                  "1": "11"
                },
                {
                  "0": "KUH",
                  "1": "11"
                },
                {
                  "0": "CRQ",
                  "1": "11"
                },
                {
                  "0": "BWE",
                  "1": "11"
                },
                {
                  "0": "AVN",
                  "1": "11"
                },
                {
                  "0": "SNR",
                  "1": "11"
                },
                {
                  "0": "SJW",
                  "1": "11"
                },
                {
                  "0": "YUB",
                  "1": "11"
                },
                {
                  "0": "YCG",
                  "1": "11"
                },
                {
                  "0": "INV",
                  "1": "11"
                },
                {
                  "0": "TMP",
                  "1": "11"
                },
                {
                  "0": "RBA",
                  "1": "11"
                },
                {
                  "0": "MQS",
                  "1": "11"
                },
                {
                  "0": "PMC",
                  "1": "10"
                },
                {
                  "0": "BAI",
                  "1": "10"
                },
                {
                  "0": "NIM",
                  "1": "10"
                },
                {
                  "0": "TNG",
                  "1": "10"
                },
                {
                  "0": "UNI",
                  "1": "10"
                },
                {
                  "0": "CGB",
                  "1": "10"
                },
                {
                  "0": "GAO",
                  "1": "10"
                },
                {
                  "0": "YHD",
                  "1": "10"
                },
                {
                  "0": "UXH",
                  "1": "10"
                },
                {
                  "0": "AEP",
                  "1": "10"
                },
                {
                  "0": "DLC",
                  "1": "10"
                },
                {
                  "0": "ZXD",
                  "1": "10"
                },
                {
                  "0": "YOO",
                  "1": "10"
                },
                {
                  "0": "PZO",
                  "1": "10"
                },
                {
                  "0": "SJK",
                  "1": "10"
                },
                {
                  "0": "HUY",
                  "1": "10"
                },
                {
                  "0": "KHN",
                  "1": "10"
                },
                {
                  "0": "ARI",
                  "1": "10"
                },
                {
                  "0": "NYO",
                  "1": "10"
                },
                {
                  "0": "CN9",
                  "1": "10"
                },
                {
                  "0": "TIA",
                  "1": "10"
                },
                {
                  "0": "CEQ",
                  "1": "10"
                },
                {
                  "0": "ALC",
                  "1": "10"
                },
                {
                  "0": "BKO",
                  "1": "10"
                },
                {
                  "0": "SMV",
                  "1": "10"
                },
                {
                  "0": "YDF",
                  "1": "10"
                },
                {
                  "0": "SXB",
                  "1": "9"
                },
                {
                  "0": "MLO",
                  "1": "9"
                },
                {
                  "0": "IGA",
                  "1": "9"
                },
                {
                  "0": "ASI",
                  "1": "9"
                },
                {
                  "0": "CN2",
                  "1": "9"
                },
                {
                  "0": "MCZ",
                  "1": "9"
                },
                {
                  "0": "PDS",
                  "1": "9"
                },
                {
                  "0": "CRC",
                  "1": "9"
                },
                {
                  "0": "YAF",
                  "1": "9"
                },
                {
                  "0": "SVZ",
                  "1": "9"
                },
                {
                  "0": "DMM",
                  "1": "9"
                },
                {
                  "0": "DHF",
                  "1": "9"
                },
                {
                  "0": "SHB",
                  "1": "9"
                },
                {
                  "0": "INC",
                  "1": "9"
                },
                {
                  "0": "NWI",
                  "1": "9"
                },
                {
                  "0": "CBG",
                  "1": "9"
                },
                {
                  "0": "ERF",
                  "1": "9"
                },
                {
                  "0": "LBV",
                  "1": "9"
                },
                {
                  "0": "CVJ",
                  "1": "9"
                },
                {
                  "0": "UBJ",
                  "1": "9"
                },
                {
                  "0": "PRN",
                  "1": "9"
                },
                {
                  "0": "KJA",
                  "1": "9"
                },
                {
                  "0": "BIQ",
                  "1": "8"
                },
                {
                  "0": "SLM",
                  "1": "8"
                },
                {
                  "0": "SYO",
                  "1": "8"
                },
                {
                  "0": "CPE",
                  "1": "8"
                },
                {
                  "0": "TTJ",
                  "1": "8"
                },
                {
                  "0": "CSS",
                  "1": "8"
                },
                {
                  "0": "ANE",
                  "1": "8"
                },
                {
                  "0": "ADB",
                  "1": "8"
                },
                {
                  "0": "PUQ",
                  "1": "8"
                },
                {
                  "0": "ADA",
                  "1": "8"
                },
                {
                  "0": "YVP",
                  "1": "8"
                },
                {
                  "0": "BC6",
                  "1": "8"
                },
                {
                  "0": "VDA",
                  "1": "8"
                },
                {
                  "0": "GTK",
                  "1": "8"
                },
                {
                  "0": "OUA",
                  "1": "8"
                },
                {
                  "0": "FDH",
                  "1": "8"
                },
                {
                  "0": "CAT",
                  "1": "8"
                },
                {
                  "0": "LJU",
                  "1": "8"
                },
                {
                  "0": "AAL",
                  "1": "8"
                },
                {
                  "0": "XWD",
                  "1": "8"
                },
                {
                  "0": "YUY",
                  "1": "8"
                },
                {
                  "0": "YSU",
                  "1": "8"
                },
                {
                  "0": "LYN",
                  "1": "8"
                },
                {
                  "0": "SIR",
                  "1": "8"
                },
                {
                  "0": "DJB",
                  "1": "8"
                },
                {
                  "0": "DAV",
                  "1": "8"
                },
                {
                  "0": "DIV",
                  "1": "8"
                },
                {
                  "0": "DAD",
                  "1": "7"
                },
                {
                  "0": "OSR",
                  "1": "7"
                },
                {
                  "0": "LFW",
                  "1": "7"
                },
                {
                  "0": "CA5",
                  "1": "7"
                },
                {
                  "0": "CVF",
                  "1": "7"
                },
                {
                  "0": "HLP",
                  "1": "7"
                },
                {
                  "0": "FMO",
                  "1": "7"
                },
                {
                  "0": "MPL",
                  "1": "7"
                },
                {
                  "0": "GYN",
                  "1": "7"
                },
                {
                  "0": "GAU",
                  "1": "7"
                },
                {
                  "0": "EXU",
                  "1": "7"
                },
                {
                  "0": "HDY",
                  "1": "7"
                },
                {
                  "0": "FSC",
                  "1": "7"
                },
                {
                  "0": "AQP",
                  "1": "7"
                },
                {
                  "0": "YVB",
                  "1": "7"
                },
                {
                  "0": "YXD",
                  "1": "7"
                },
                {
                  "0": "CCC",
                  "1": "7"
                },
                {
                  "0": "REX",
                  "1": "7"
                },
                {
                  "0": "MKJ",
                  "1": "7"
                },
                {
                  "0": "TLL",
                  "1": "7"
                },
                {
                  "0": "TUF",
                  "1": "7"
                },
                {
                  "0": "CMF",
                  "1": "7"
                },
                {
                  "0": "SOU",
                  "1": "7"
                },
                {
                  "0": "FNA",
                  "1": "7"
                },
                {
                  "0": "LIB",
                  "1": "7"
                },
                {
                  "0": "MMC",
                  "1": "7"
                },
                {
                  "0": "YNT",
                  "1": "7"
                },
                {
                  "0": "CN4",
                  "1": "7"
                },
                {
                  "0": "ZTS",
                  "1": "7"
                },
                {
                  "0": "YUX",
                  "1": "7"
                },
                {
                  "0": "FFD",
                  "1": "7"
                },
                {
                  "0": "CMA",
                  "1": "7"
                },
                {
                  "0": "YYU",
                  "1": "7"
                },
                {
                  "0": "THE",
                  "1": "7"
                },
                {
                  "0": "OVD",
                  "1": "7"
                },
                {
                  "0": "YQZ",
                  "1": "7"
                },
                {
                  "0": "YAT",
                  "1": "7"
                },
                {
                  "0": "BWN",
                  "1": "7"
                },
                {
                  "0": "NKW",
                  "1": "7"
                },
                {
                  "0": "KIR",
                  "1": "7"
                },
                {
                  "0": "BRI",
                  "1": "7"
                },
                {
                  "0": "ABJ",
                  "1": "7"
                },
                {
                  "0": "YMF",
                  "1": "6"
                },
                {
                  "0": "TYO",
                  "1": "6"
                },
                {
                  "0": "YML",
                  "1": "6"
                },
                {
                  "0": "LWO",
                  "1": "6"
                },
                {
                  "0": "TSE",
                  "1": "6"
                },
                {
                  "0": "CN6",
                  "1": "6"
                },
                {
                  "0": "MMB",
                  "1": "6"
                },
                {
                  "0": "TIF",
                  "1": "6"
                },
                {
                  "0": "CHM",
                  "1": "6"
                },
                {
                  "0": "CAG",
                  "1": "6"
                },
                {
                  "0": "KMX",
                  "1": "6"
                },
                {
                  "0": "DMK",
                  "1": "6"
                },
                {
                  "0": "SMR",
                  "1": "6"
                },
                {
                  "0": "DRS",
                  "1": "6"
                },
                {
                  "0": "GRS",
                  "1": "6"
                },
                {
                  "0": "MZR",
                  "1": "6"
                },
                {
                  "0": "STD",
                  "1": "6"
                },
                {
                  "0": "GIB",
                  "1": "6"
                },
                {
                  "0": "YGJ",
                  "1": "6"
                },
                {
                  "0": "KLX",
                  "1": "6"
                },
                {
                  "0": "FNC",
                  "1": "6"
                },
                {
                  "0": "GUR",
                  "1": "6"
                },
                {
                  "0": "YXT",
                  "1": "6"
                },
                {
                  "0": "BRE",
                  "1": "6"
                },
                {
                  "0": "YEM",
                  "1": "6"
                },
                {
                  "0": "ZEL",
                  "1": "6"
                },
                {
                  "0": "YQI",
                  "1": "6"
                },
                {
                  "0": "YCH",
                  "1": "6"
                },
                {
                  "0": "MHO",
                  "1": "6"
                },
                {
                  "0": "HEX",
                  "1": "6"
                },
                {
                  "0": "BOB",
                  "1": "6"
                },
                {
                  "0": "FVJ",
                  "1": "6"
                },
                {
                  "0": "SDA",
                  "1": "6"
                },
                {
                  "0": "MGF",
                  "1": "6"
                },
                {
                  "0": "MYG",
                  "1": "5"
                },
                {
                  "0": "MPN",
                  "1": "5"
                },
                {
                  "0": "GCI",
                  "1": "5"
                },
                {
                  "0": "SML",
                  "1": "5"
                },
                {
                  "0": "MOW",
                  "1": "5"
                },
                {
                  "0": "POZ",
                  "1": "5"
                },
                {
                  "0": "SWL",
                  "1": "5"
                },
                {
                  "0": "LMO",
                  "1": "5"
                },
                {
                  "0": "EBB",
                  "1": "5"
                },
                {
                  "0": "KBL",
                  "1": "5"
                },
                {
                  "0": "KUN",
                  "1": "5"
                },
                {
                  "0": "YXZ",
                  "1": "5"
                },
                {
                  "0": "TRU",
                  "1": "5"
                },
                {
                  "0": "CTM",
                  "1": "5"
                },
                {
                  "0": "B4C",
                  "1": "5"
                },
                {
                  "0": "YVC",
                  "1": "5"
                },
                {
                  "0": "UAK",
                  "1": "5"
                },
                {
                  "0": "BJV",
                  "1": "5"
                },
                {
                  "0": "GWT",
                  "1": "5"
                },
                {
                  "0": "MYC",
                  "1": "5"
                },
                {
                  "0": "GPI",
                  "1": "5"
                },
                {
                  "0": "GRO",
                  "1": "5"
                },
                {
                  "0": "MSQ",
                  "1": "5"
                },
                {
                  "0": "QSR",
                  "1": "5"
                },
                {
                  "0": "TUM",
                  "1": "5"
                },
                {
                  "0": "YKS",
                  "1": "5"
                },
                {
                  "0": "MJB",
                  "1": "5"
                },
                {
                  "0": "JIB",
                  "1": "5"
                },
                {
                  "0": "RJK",
                  "1": "5"
                },
                {
                  "0": "BDI",
                  "1": "5"
                },
                {
                  "0": "BDS",
                  "1": "5"
                },
                {
                  "0": "TRS",
                  "1": "5"
                },
                {
                  "0": "LNZ",
                  "1": "5"
                },
                {
                  "0": "TKS",
                  "1": "5"
                },
                {
                  "0": "NRK",
                  "1": "5"
                },
                {
                  "0": "NMC",
                  "1": "5"
                },
                {
                  "0": "SFG",
                  "1": "5"
                },
                {
                  "0": "HRT",
                  "1": "5"
                },
                {
                  "0": "LAO",
                  "1": "5"
                },
                {
                  "0": "AEY",
                  "1": "5"
                },
                {
                  "0": "DIJ",
                  "1": "5"
                },
                {
                  "0": "WRO",
                  "1": "5"
                },
                {
                  "0": "NAK",
                  "1": "5"
                },
                {
                  "0": "PHI",
                  "1": "5"
                },
                {
                  "0": "USH",
                  "1": "5"
                },
                {
                  "0": "YZR",
                  "1": "5"
                },
                {
                  "0": "SZW",
                  "1": "5"
                },
                {
                  "0": "DVO",
                  "1": "5"
                },
                {
                  "0": "MCP",
                  "1": "5"
                },
                {
                  "0": "WDH",
                  "1": "5"
                },
                {
                  "0": "EFL",
                  "1": "5"
                },
                {
                  "0": "AF1",
                  "1": "5"
                },
                {
                  "0": "MTZ",
                  "1": "5"
                },
                {
                  "0": "MCT",
                  "1": "5"
                },
                {
                  "0": "XRY",
                  "1": "4"
                },
                {
                  "0": "ETZ",
                  "1": "4"
                },
                {
                  "0": "YMW",
                  "1": "4"
                },
                {
                  "0": "VLI",
                  "1": "4"
                },
                {
                  "0": "COO",
                  "1": "4"
                },
                {
                  "0": "GNB",
                  "1": "4"
                },
                {
                  "0": "CRL",
                  "1": "4"
                },
                {
                  "0": "JO2",
                  "1": "4"
                },
                {
                  "0": "YJO",
                  "1": "4"
                },
                {
                  "0": "CEK",
                  "1": "4"
                },
                {
                  "0": "AAO",
                  "1": "4"
                },
                {
                  "0": "GOJ",
                  "1": "4"
                },
                {
                  "0": "DLA",
                  "1": "4"
                },
                {
                  "0": "SPK",
                  "1": "4"
                },
                {
                  "0": "KRP",
                  "1": "4"
                },
                {
                  "0": "PVH",
                  "1": "4"
                },
                {
                  "0": "MCU",
                  "1": "4"
                },
                {
                  "0": "MAM",
                  "1": "4"
                },
                {
                  "0": "LUN",
                  "1": "4"
                },
                {
                  "0": "MAI",
                  "1": "4"
                },
                {
                  "0": "CRD",
                  "1": "4"
                },
                {
                  "0": "BOQ",
                  "1": "4"
                },
                {
                  "0": "FEZ",
                  "1": "4"
                },
                {
                  "0": "ANX",
                  "1": "4"
                },
                {
                  "0": "VNO",
                  "1": "4"
                },
                {
                  "0": "LTV",
                  "1": "4"
                },
                {
                  "0": "RLG",
                  "1": "4"
                },
                {
                  "0": "ORP",
                  "1": "4"
                },
                {
                  "0": "CGQ",
                  "1": "4"
                },
                {
                  "0": "MEN",
                  "1": "4"
                },
                {
                  "0": "ZAM",
                  "1": "4"
                },
                {
                  "0": "LOM",
                  "1": "4"
                },
                {
                  "0": "TIV",
                  "1": "4"
                },
                {
                  "0": "YHR",
                  "1": "4"
                },
                {
                  "0": "IOM",
                  "1": "4"
                },
                {
                  "0": "BOO",
                  "1": "4"
                },
                {
                  "0": "MMJ",
                  "1": "4"
                },
                {
                  "0": "AJU",
                  "1": "4"
                },
                {
                  "0": "YQD",
                  "1": "4"
                },
                {
                  "0": "JPA",
                  "1": "4"
                },
                {
                  "0": "YGB",
                  "1": "4"
                },
                {
                  "0": "PJG",
                  "1": "4"
                },
                {
                  "0": "YND",
                  "1": "4"
                },
                {
                  "0": "CHQ",
                  "1": "4"
                },
                {
                  "0": "JCK",
                  "1": "4"
                }
              ],
              "schema": [
                {
                  "key": "0",
                  "name": "to_iata",
                  "type": "string"
                },
                {
                  "key": "1",
                  "name": "count",
                  "type": "bigint"
                }
              ]
            },
            "isSummary": false,
            "language": "scala"
          },
          "persist_state": {
            "view": {
              "type": "details",
              "tableOptions": {},
              "chartOptions": {
                "chartType": "bar",
                "aggregationType": "sum",
                "categoryFieldKeys": [
                  "0"
                ],
                "seriesFieldKeys": [
                  "1"
                ],
                "isStacked": false
              }
            }
          }
        },
        "77c7ca6e-30c0-4e57-87ca-40ac27631feb": {
          "type": "Synapse.DataFrame",
          "sync_state": {
            "table": {
              "rows": [
                {
                  "0": "Canada",
                  "1": "166010"
                },
                {
                  "0": "Mexico",
                  "1": "151268"
                },
                {
                  "0": "United Kingdom",
                  "1": "49757"
                },
                {
                  "0": "Japan",
                  "1": "41522"
                },
                {
                  "0": "Germany",
                  "1": "33744"
                },
                {
                  "0": "Bahamas",
                  "1": "26800"
                },
                {
                  "0": "Dominican Republic",
                  "1": "26084"
                },
                {
                  "0": "Brazil",
                  "1": "22879"
                },
                {
                  "0": "France",
                  "1": "20136"
                },
                {
                  "0": "Colombia",
                  "1": "18401"
                },
                {
                  "0": "Jamaica",
                  "1": "16806"
                },
                {
                  "0": "Netherlands",
                  "1": "15183"
                },
                {
                  "0": "South Korea",
                  "1": "14543"
                },
                {
                  "0": "China",
                  "1": "13039"
                },
                {
                  "0": "Venezuela",
                  "1": "11982"
                },
                {
                  "0": "Costa Rica",
                  "1": "11385"
                },
                {
                  "0": "Ireland",
                  "1": "11219"
                },
                {
                  "0": "Italy",
                  "1": "10650"
                },
                {
                  "0": "Netherlands Antilles",
                  "1": "10354"
                },
                {
                  "0": "Belgium",
                  "1": "9916"
                },
                {
                  "0": "Guatemala",
                  "1": "9259"
                },
                {
                  "0": "Aruba",
                  "1": "9040"
                },
                {
                  "0": "Spain",
                  "1": "8491"
                },
                {
                  "0": "Ecuador",
                  "1": "8318"
                },
                {
                  "0": "Honduras",
                  "1": "8291"
                },
                {
                  "0": "Panama",
                  "1": "8267"
                },
                {
                  "0": "Hong Kong",
                  "1": "8123"
                },
                {
                  "0": "El Salvador",
                  "1": "7902"
                },
                {
                  "0": "Switzerland",
                  "1": "7621"
                },
                {
                  "0": "Peru",
                  "1": "7124"
                },
                {
                  "0": "Taiwan",
                  "1": "6789"
                },
                {
                  "0": "Cayman Islands",
                  "1": "6458"
                },
                {
                  "0": "Australia",
                  "1": "6335"
                },
                {
                  "0": "Trinidad and Tobago",
                  "1": "5707"
                },
                {
                  "0": "Cuba",
                  "1": "5545"
                },
                {
                  "0": "NA",
                  "1": "5437"
                },
                {
                  "0": "Bermuda",
                  "1": "5197"
                },
                {
                  "0": "Turks and Caicos Islands",
                  "1": "4964"
                },
                {
                  "0": "Argentina",
                  "1": "4922"
                },
                {
                  "0": "Iceland",
                  "1": "4912"
                },
                {
                  "0": "Russia",
                  "1": "4613"
                },
                {
                  "0": "Chile",
                  "1": "4597"
                },
                {
                  "0": "Barbados",
                  "1": "4465"
                },
                {
                  "0": "Haiti",
                  "1": "4458"
                },
                {
                  "0": "Portugal",
                  "1": "4155"
                },
                {
                  "0": "Antigua and Barbuda",
                  "1": "4076"
                },
                {
                  "0": "Luxembourg",
                  "1": "3995"
                },
                {
                  "0": "Saint Kitts and Nevis",
                  "1": "3881"
                },
                {
                  "0": "Belize",
                  "1": "3176"
                },
                {
                  "0": "Nicaragua",
                  "1": "3152"
                },
                {
                  "0": "Saint Lucia",
                  "1": "3030"
                },
                {
                  "0": "Sweden",
                  "1": "2720"
                },
                {
                  "0": "New Zealand",
                  "1": "2685"
                },
                {
                  "0": "Denmark",
                  "1": "2666"
                },
                {
                  "0": "Israel",
                  "1": "2592"
                },
                {
                  "0": "Philippines",
                  "1": "2485"
                },
                {
                  "0": "United Arab Emirates",
                  "1": "2392"
                },
                {
                  "0": "Micronesia",
                  "1": "2118"
                },
                {
                  "0": "Fiji",
                  "1": "2092"
                },
                {
                  "0": "French Polynesia",
                  "1": "2022"
                },
                {
                  "0": "Marshall Islands",
                  "1": "1985"
                },
                {
                  "0": "Turkey",
                  "1": "1880"
                },
                {
                  "0": "Paraguay",
                  "1": "1707"
                },
                {
                  "0": "Poland",
                  "1": "1677"
                },
                {
                  "0": "Guadeloupe",
                  "1": "1674"
                },
                {
                  "0": "Bolivia",
                  "1": "1658"
                },
                {
                  "0": "Grenada",
                  "1": "1613"
                },
                {
                  "0": "Guyana",
                  "1": "1600"
                },
                {
                  "0": "British Virgin Islands",
                  "1": "1563"
                },
                {
                  "0": "Norway",
                  "1": "1528"
                },
                {
                  "0": "Saudi Arabia",
                  "1": "1448"
                },
                {
                  "0": "Greece",
                  "1": "1402"
                },
                {
                  "0": "Austria",
                  "1": "1321"
                },
                {
                  "0": "Martinique",
                  "1": "1300"
                },
                {
                  "0": "India",
                  "1": "1142"
                },
                {
                  "0": "Finland",
                  "1": "1029"
                },
                {
                  "0": "Uruguay",
                  "1": "988"
                },
                {
                  "0": "Samoa",
                  "1": "976"
                },
                {
                  "0": "Qatar",
                  "1": "975"
                },
                {
                  "0": "Suriname",
                  "1": "831"
                },
                {
                  "0": "Dominica",
                  "1": "773"
                },
                {
                  "0": "Senegal",
                  "1": "758"
                },
                {
                  "0": "Jordan",
                  "1": "728"
                },
                {
                  "0": "South Africa",
                  "1": "693"
                },
                {
                  "0": "Saint Vincent and the Grenadines",
                  "1": "643"
                },
                {
                  "0": "Palau",
                  "1": "638"
                },
                {
                  "0": "Anguilla",
                  "1": "636"
                },
                {
                  "0": "Cape Verde",
                  "1": "608"
                },
                {
                  "0": "Nigeria",
                  "1": "604"
                },
                {
                  "0": "Egypt",
                  "1": "578"
                },
                {
                  "0": "Czech Republic",
                  "1": "571"
                },
                {
                  "0": "Kiribati",
                  "1": "566"
                },
                {
                  "0": "Hungary",
                  "1": "539"
                },
                {
                  "0": "Morocco",
                  "1": "538"
                },
                {
                  "0": "Indonesia",
                  "1": "536"
                },
                {
                  "0": "Ghana",
                  "1": "525"
                },
                {
                  "0": "Romania",
                  "1": "477"
                },
                {
                  "0": "Singapore",
                  "1": "462"
                },
                {
                  "0": "Ukraine",
                  "1": "449"
                },
                {
                  "0": "Kuwait",
                  "1": "421"
                },
                {
                  "0": "Cook Islands",
                  "1": "414"
                },
                {
                  "0": "Bahrain",
                  "1": "389"
                },
                {
                  "0": "French Guiana",
                  "1": "322"
                },
                {
                  "0": "Ethiopia",
                  "1": "271"
                },
                {
                  "0": "Greenland",
                  "1": "259"
                },
                {
                  "0": "Latvia",
                  "1": "256"
                },
                {
                  "0": "Angola",
                  "1": "239"
                },
                {
                  "0": "Azerbaijan",
                  "1": "218"
                },
                {
                  "0": "Thailand",
                  "1": "216"
                },
                {
                  "0": "Pakistan",
                  "1": "212"
                },
                {
                  "0": "Tonga",
                  "1": "211"
                },
                {
                  "0": "Macau",
                  "1": "195"
                },
                {
                  "0": "United States",
                  "1": "111"
                },
                {
                  "0": "Bulgaria",
                  "1": "110"
                },
                {
                  "0": "Papua New Guinea",
                  "1": "94"
                },
                {
                  "0": "Vietnam",
                  "1": "86"
                },
                {
                  "0": "Malaysia",
                  "1": "86"
                },
                {
                  "0": "Gambia",
                  "1": "80"
                },
                {
                  "0": "Serbia",
                  "1": "80"
                },
                {
                  "0": "Croatia",
                  "1": "70"
                },
                {
                  "0": "Cyprus",
                  "1": "66"
                },
                {
                  "0": "New Caledonia",
                  "1": "63"
                },
                {
                  "0": "Malta",
                  "1": "61"
                },
                {
                  "0": "Algeria",
                  "1": "45"
                },
                {
                  "0": "Nauru",
                  "1": "42"
                },
                {
                  "0": "Equatorial Guinea",
                  "1": "37"
                },
                {
                  "0": "Syria",
                  "1": "35"
                },
                {
                  "0": "Iran",
                  "1": "32"
                },
                {
                  "0": "Kenya",
                  "1": "30"
                },
                {
                  "0": "Liberia",
                  "1": "28"
                },
                {
                  "0": "Bangladesh",
                  "1": "28"
                },
                {
                  "0": "Afghanistan",
                  "1": "27"
                },
                {
                  "0": "Solomon Islands",
                  "1": "26"
                },
                {
                  "0": "Uzbekistan",
                  "1": "25"
                },
                {
                  "0": "Jersey",
                  "1": "24"
                },
                {
                  "0": "Tunisia",
                  "1": "24"
                },
                {
                  "0": "Kazakhstan",
                  "1": "24"
                },
                {
                  "0": "Cambodia",
                  "1": "23"
                },
                {
                  "0": "Sri Lanka",
                  "1": "23"
                },
                {
                  "0": "Slovakia",
                  "1": "21"
                },
                {
                  "0": "Libya",
                  "1": "21"
                },
                {
                  "0": "Kyrgyzstan",
                  "1": "20"
                },
                {
                  "0": "Georgia",
                  "1": "19"
                },
                {
                  "0": "Niue",
                  "1": "18"
                },
                {
                  "0": "Armenia",
                  "1": "17"
                },
                {
                  "0": "Lebanon",
                  "1": "17"
                },
                {
                  "0": "Guinea",
                  "1": "16"
                },
                {
                  "0": "Mauritania",
                  "1": "13"
                },
                {
                  "0": "Moldova",
                  "1": "12"
                },
                {
                  "0": "Niger",
                  "1": "10"
                },
                {
                  "0": "Mali",
                  "1": "10"
                },
                {
                  "0": "Lithuania",
                  "1": "10"
                },
                {
                  "0": "Gabon",
                  "1": "10"
                },
                {
                  "0": "Albania",
                  "1": "10"
                },
                {
                  "0": "Slovenia",
                  "1": "8"
                },
                {
                  "0": "Burkina Faso",
                  "1": "8"
                },
                {
                  "0": "Iraq",
                  "1": "8"
                },
                {
                  "0": "Sierra Leone",
                  "1": "8"
                },
                {
                  "0": "Cote d'Ivoire",
                  "1": "8"
                },
                {
                  "0": "Madagascar",
                  "1": "8"
                },
                {
                  "0": "Seychelles",
                  "1": "7"
                },
                {
                  "0": "Estonia",
                  "1": "7"
                },
                {
                  "0": "Brunei",
                  "1": "7"
                },
                {
                  "0": "Togo",
                  "1": "7"
                },
                {
                  "0": "Oman",
                  "1": "7"
                },
                {
                  "0": "Gibraltar",
                  "1": "6"
                },
                {
                  "0": "Zambia",
                  "1": "6"
                },
                {
                  "0": "Cameroon",
                  "1": "6"
                },
                {
                  "0": "Namibia",
                  "1": "6"
                },
                {
                  "0": "Somalia",
                  "1": "5"
                },
                {
                  "0": "Belarus",
                  "1": "5"
                },
                {
                  "0": "Djibouti",
                  "1": "5"
                },
                {
                  "0": "Guernsey",
                  "1": "5"
                },
                {
                  "0": "Montenegro",
                  "1": "5"
                },
                {
                  "0": "Falkland Islands",
                  "1": "5"
                },
                {
                  "0": "Uganda",
                  "1": "5"
                },
                {
                  "0": "Congo (Kinshasa)",
                  "1": "5"
                },
                {
                  "0": "Burma",
                  "1": "4"
                },
                {
                  "0": "Vanuatu",
                  "1": "4"
                },
                {
                  "0": "Rwanda",
                  "1": "4"
                },
                {
                  "0": "Botswana",
                  "1": "4"
                },
                {
                  "0": "Isle of Man",
                  "1": "4"
                },
                {
                  "0": "Mongolia",
                  "1": "4"
                },
                {
                  "0": "Benin",
                  "1": "4"
                },
                {
                  "0": "Nepal",
                  "1": "3"
                },
                {
                  "0": "Yemen",
                  "1": "3"
                },
                {
                  "0": "Central African Republic",
                  "1": "3"
                },
                {
                  "0": "Macedonia",
                  "1": "3"
                },
                {
                  "0": "Zimbabwe",
                  "1": "3"
                },
                {
                  "0": "Bosnia and Herzegovina",
                  "1": "3"
                },
                {
                  "0": "Tajikistan",
                  "1": "2"
                },
                {
                  "0": "Korea",
                  "1": "2"
                },
                {
                  "0": "Turkmenistan",
                  "1": "2"
                },
                {
                  "0": "Congo (Brazzaville)",
                  "1": "2"
                },
                {
                  "0": "Cocos (Keeling) Islands",
                  "1": "1"
                },
                {
                  "0": "Maldives",
                  "1": "1"
                },
                {
                  "0": "Lesotho",
                  "1": "1"
                },
                {
                  "0": "Tanzania",
                  "1": "1"
                },
                {
                  "0": "Chad",
                  "1": "1"
                },
                {
                  "0": "Montserrat",
                  "1": "1"
                },
                {
                  "0": "Malawi",
                  "1": "1"
                },
                {
                  "0": "Mauritius",
                  "1": "1"
                },
                {
                  "0": "Burundi",
                  "1": "1"
                },
                {
                  "0": "Mozambique",
                  "1": "1"
                },
                {
                  "0": "Swaziland",
                  "1": "1"
                }
              ],
              "schema": [
                {
                  "key": "0",
                  "name": "to_airport_country",
                  "type": "string"
                },
                {
                  "key": "1",
                  "name": "count",
                  "type": "bigint"
                }
              ]
            },
            "isSummary": false,
            "language": "scala"
          },
          "persist_state": {
            "view": {
              "type": "details",
              "tableOptions": {},
              "chartOptions": {
                "chartType": "bar",
                "aggregationType": "sum",
                "categoryFieldKeys": [
                  "0"
                ],
                "seriesFieldKeys": [
                  "1"
                ],
                "isStacked": false
              }
            }
          }
        },
        "14c96076-fd28-4177-b2d6-b017b6c8ec02": {
          "type": "Synapse.DataFrame",
          "sync_state": {
            "table": {
              "rows": [
                {
                  "0": "MIA:BOG",
                  "1": "5076"
                },
                {
                  "0": "MIA:CCS",
                  "1": "4341"
                },
                {
                  "0": "MIA:SJO",
                  "1": "3664"
                },
                {
                  "0": "MIA:LIM",
                  "1": "3645"
                },
                {
                  "0": "MIA:GUA",
                  "1": "3621"
                },
                {
                  "0": "LAX:MEX",
                  "1": "3611"
                },
                {
                  "0": "MIA:PTY",
                  "1": "3605"
                },
                {
                  "0": "LAX:NRT",
                  "1": "3177"
                },
                {
                  "0": "MIA:MEX",
                  "1": "3083"
                },
                {
                  "0": "MIA:SDQ",
                  "1": "2974"
                },
                {
                  "0": "MIA:MAO",
                  "1": "2898"
                },
                {
                  "0": "ANC:NRT",
                  "1": "2823"
                },
                {
                  "0": "LAX:GDL",
                  "1": "2761"
                },
                {
                  "0": "MIA:GYE",
                  "1": "2716"
                },
                {
                  "0": "MIA:UIO",
                  "1": "2651"
                },
                {
                  "0": "MIA:SCL",
                  "1": "2638"
                },
                {
                  "0": "MIA:SAP",
                  "1": "2627"
                },
                {
                  "0": "JFK:BRU",
                  "1": "2614"
                },
                {
                  "0": "MIA:EZE",
                  "1": "2613"
                },
                {
                  "0": "ANC:HKG",
                  "1": "2604"
                },
                {
                  "0": "MIA:CUN",
                  "1": "2559"
                },
                {
                  "0": "MIA:MDE",
                  "1": "2522"
                },
                {
                  "0": "ORD:YYZ",
                  "1": "2457"
                },
                {
                  "0": "MIA:VCP",
                  "1": "2447"
                },
                {
                  "0": "MIA:PAP",
                  "1": "2364"
                },
                {
                  "0": "JFK:LHR",
                  "1": "2277"
                },
                {
                  "0": "IAH:MEX",
                  "1": "2266"
                },
                {
                  "0": "MIA:NAS",
                  "1": "2216"
                },
                {
                  "0": "MIA:SAL",
                  "1": "2194"
                },
                {
                  "0": "MIA:CLO",
                  "1": "2134"
                },
                {
                  "0": "MIA:POS",
                  "1": "2129"
                },
                {
                  "0": "JFK:AMS",
                  "1": "2115"
                },
                {
                  "0": "JFK:FRA",
                  "1": "2091"
                },
                {
                  "0": "ANC:ICN",
                  "1": "2086"
                },
                {
                  "0": "MIA:KIN",
                  "1": "2074"
                },
                {
                  "0": "ANC:PVG",
                  "1": "1999"
                },
                {
                  "0": "HNL:SYD",
                  "1": "1994"
                },
                {
                  "0": "SJU:SDQ",
                  "1": "1991"
                },
                {
                  "0": "JFK:SNN",
                  "1": "1959"
                },
                {
                  "0": "HNL:NRT",
                  "1": "1949"
                },
                {
                  "0": "ORD:MEX",
                  "1": "1946"
                },
                {
                  "0": "LAX:YVR",
                  "1": "1901"
                },
                {
                  "0": "ANC:TPE",
                  "1": "1878"
                },
                {
                  "0": "MIA:MGA",
                  "1": "1876"
                },
                {
                  "0": "SFO:NRT",
                  "1": "1809"
                },
                {
                  "0": "MIA:GIG",
                  "1": "1809"
                },
                {
                  "0": "EWR:YYZ",
                  "1": "1778"
                },
                {
                  "0": "MIA:GCM",
                  "1": "1778"
                },
                {
                  "0": "LAX:LHR",
                  "1": "1763"
                },
                {
                  "0": "SJU:SXM",
                  "1": "1739"
                },
                {
                  "0": "JFK:MEX",
                  "1": "1720"
                },
                {
                  "0": "MIA:HAV",
                  "1": "1696"
                },
                {
                  "0": "ORD:FRA",
                  "1": "1679"
                },
                {
                  "0": "ANC:KIX",
                  "1": "1640"
                },
                {
                  "0": "MIA:GRU",
                  "1": "1630"
                },
                {
                  "0": "MCO:YYZ",
                  "1": "1621"
                },
                {
                  "0": "JFK:CDG",
                  "1": "1610"
                },
                {
                  "0": "MIA:CUR",
                  "1": "1592"
                },
                {
                  "0": "ORD:AMS",
                  "1": "1575"
                },
                {
                  "0": "MIA:AUA",
                  "1": "1573"
                },
                {
                  "0": "ORD:NRT",
                  "1": "1547"
                },
                {
                  "0": "SEA:YVR",
                  "1": "1543"
                },
                {
                  "0": "MIA:MID",
                  "1": "1539"
                },
                {
                  "0": "MIA:BAQ",
                  "1": "1504"
                },
                {
                  "0": "DTW:YYZ",
                  "1": "1494"
                },
                {
                  "0": "MIA:MAR",
                  "1": "1479"
                },
                {
                  "0": "JFK:YYZ",
                  "1": "1474"
                },
                {
                  "0": "DFW:CUN",
                  "1": "1464"
                },
                {
                  "0": "LAX:PVR",
                  "1": "1441"
                },
                {
                  "0": "ORD:YUL",
                  "1": "1440"
                },
                {
                  "0": "ORD:CUN",
                  "1": "1440"
                },
                {
                  "0": "MIA:BGI",
                  "1": "1437"
                },
                {
                  "0": "JFK:NRT",
                  "1": "1437"
                },
                {
                  "0": "FLL:YYZ",
                  "1": "1431"
                },
                {
                  "0": "JFK:MXP",
                  "1": "1412"
                },
                {
                  "0": "LAX:SJD",
                  "1": "1409"
                },
                {
                  "0": "JFK:CUN",
                  "1": "1391"
                },
                {
                  "0": "SFO:YVR",
                  "1": "1387"
                },
                {
                  "0": "JFK:MAD",
                  "1": "1377"
                },
                {
                  "0": "MIA:MBJ",
                  "1": "1348"
                },
                {
                  "0": "LGA:YYZ",
                  "1": "1335"
                },
                {
                  "0": "LAX:TPE",
                  "1": "1323"
                },
                {
                  "0": "ATL:YYZ",
                  "1": "1315"
                },
                {
                  "0": "PHL:YYZ",
                  "1": "1311"
                },
                {
                  "0": "LAX:PPT",
                  "1": "1311"
                },
                {
                  "0": "BOS:YYZ",
                  "1": "1306"
                },
                {
                  "0": "SJU:ANU",
                  "1": "1305"
                },
                {
                  "0": "LAS:YYZ",
                  "1": "1303"
                },
                {
                  "0": "LAS:YVR",
                  "1": "1300"
                },
                {
                  "0": "JFK:GRU",
                  "1": "1299"
                },
                {
                  "0": "LAX:GUA",
                  "1": "1290"
                },
                {
                  "0": "ORD:LHR",
                  "1": "1289"
                },
                {
                  "0": "GUM:NRT",
                  "1": "1286"
                },
                {
                  "0": "FLL:NAS",
                  "1": "1280"
                },
                {
                  "0": "HNL:NAN",
                  "1": "1266"
                },
                {
                  "0": "LAX:PVG",
                  "1": "1254"
                },
                {
                  "0": "MIA:YYZ",
                  "1": "1246"
                },
                {
                  "0": "MIA:PUJ",
                  "1": "1234"
                },
                {
                  "0": "MCO:LGW",
                  "1": "1229"
                },
                {
                  "0": "LAX:SYD",
                  "1": "1210"
                },
                {
                  "0": "DFW:MEX",
                  "1": "1208"
                },
                {
                  "0": "MIA:AMS",
                  "1": "1204"
                },
                {
                  "0": "EWR:YUL",
                  "1": "1194"
                },
                {
                  "0": "HNL:AKL",
                  "1": "1187"
                },
                {
                  "0": "DTW:CUN",
                  "1": "1171"
                },
                {
                  "0": "EWR:LHR",
                  "1": "1166"
                },
                {
                  "0": "JFK:FCO",
                  "1": "1159"
                },
                {
                  "0": "MIA:VLN",
                  "1": "1158"
                },
                {
                  "0": "HNL:YVR",
                  "1": "1154"
                },
                {
                  "0": "LGA:YUL",
                  "1": "1149"
                },
                {
                  "0": "LAX:ICN",
                  "1": "1143"
                },
                {
                  "0": "IAH:MTY",
                  "1": "1131"
                },
                {
                  "0": "LAX:YYZ",
                  "1": "1126"
                },
                {
                  "0": "LAX:CUN",
                  "1": "1122"
                },
                {
                  "0": "BOS:LHR",
                  "1": "1096"
                },
                {
                  "0": "ORD:PVR",
                  "1": "1090"
                },
                {
                  "0": "FLL:YUL",
                  "1": "1087"
                },
                {
                  "0": "BOS:CUN",
                  "1": "1086"
                },
                {
                  "0": "ATL:AMS",
                  "1": "1079"
                },
                {
                  "0": "SJU:EIS",
                  "1": "1078"
                },
                {
                  "0": "JFK:SDQ",
                  "1": "1076"
                },
                {
                  "0": "MSP:YWG",
                  "1": "1072"
                },
                {
                  "0": "SJU:SKB",
                  "1": "1071"
                },
                {
                  "0": "ATL:FRA",
                  "1": "1064"
                },
                {
                  "0": "LAX:YYC",
                  "1": "1059"
                },
                {
                  "0": "IAH:CUN",
                  "1": "1058"
                },
                {
                  "0": "ORD:CDG",
                  "1": "1055"
                },
                {
                  "0": "SFO:LHR",
                  "1": "1046"
                },
                {
                  "0": "IAD:LHR",
                  "1": "1044"
                },
                {
                  "0": "MIA:FPO",
                  "1": "1043"
                },
                {
                  "0": "MSP:YYZ",
                  "1": "1042"
                },
                {
                  "0": "ATL:CUN",
                  "1": "1039"
                },
                {
                  "0": "DEN:CUN",
                  "1": "1033"
                },
                {
                  "0": "SFO:ICN",
                  "1": "1033"
                },
                {
                  "0": "MCO:NAS",
                  "1": "1026"
                },
                {
                  "0": "JFK:MBJ",
                  "1": "1025"
                },
                {
                  "0": "MIA:POP",
                  "1": "1022"
                },
                {
                  "0": "EWR:CDG",
                  "1": "1020"
                },
                {
                  "0": "SFO:TPE",
                  "1": "1013"
                },
                {
                  "0": "IAH:YYZ",
                  "1": "1011"
                },
                {
                  "0": "SAT:MEX",
                  "1": "1008"
                },
                {
                  "0": "SFO:HKG",
                  "1": "1008"
                },
                {
                  "0": "LAX:SAL",
                  "1": "1005"
                },
                {
                  "0": "LAX:HKG",
                  "1": "994"
                },
                {
                  "0": "MIA:LHR",
                  "1": "986"
                },
                {
                  "0": "MIA:PLS",
                  "1": "985"
                },
                {
                  "0": "ORD:YYC",
                  "1": "983"
                },
                {
                  "0": "CLE:YYZ",
                  "1": "978"
                },
                {
                  "0": "ANC:SEL",
                  "1": "977"
                },
                {
                  "0": "ORD:SNN",
                  "1": "977"
                },
                {
                  "0": "JFK:TLV",
                  "1": "973"
                },
                {
                  "0": "ANC:CTS",
                  "1": "966"
                },
                {
                  "0": "HNL:KIX",
                  "1": "962"
                },
                {
                  "0": "IAD:YYZ",
                  "1": "960"
                },
                {
                  "0": "ORD:MBJ",
                  "1": "957"
                },
                {
                  "0": "SEA:NRT",
                  "1": "953"
                },
                {
                  "0": "JFK:POS",
                  "1": "953"
                },
                {
                  "0": "EWR:FRA",
                  "1": "953"
                },
                {
                  "0": "MCO:MEX",
                  "1": "949"
                },
                {
                  "0": "MIA:BZE",
                  "1": "948"
                },
                {
                  "0": "SJU:PUJ",
                  "1": "946"
                },
                {
                  "0": "LAX:AKL",
                  "1": "940"
                },
                {
                  "0": "CLT:YYZ",
                  "1": "934"
                },
                {
                  "0": "EWR:CUN",
                  "1": "934"
                },
                {
                  "0": "MIA:ASU",
                  "1": "932"
                },
                {
                  "0": "GUM:KIX",
                  "1": "932"
                },
                {
                  "0": "MIA:VVI",
                  "1": "925"
                },
                {
                  "0": "ATL:MEX",
                  "1": "925"
                },
                {
                  "0": "PDX:YVR",
                  "1": "921"
                },
                {
                  "0": "MIA:MAD",
                  "1": "920"
                },
                {
                  "0": "DFW:FRA",
                  "1": "912"
                },
                {
                  "0": "MIA:MVD",
                  "1": "911"
                },
                {
                  "0": "LAS:YYC",
                  "1": "909"
                },
                {
                  "0": "JFK:KIN",
                  "1": "900"
                },
                {
                  "0": "PIT:YYZ",
                  "1": "898"
                },
                {
                  "0": "BOS:AUA",
                  "1": "897"
                },
                {
                  "0": "MCO:YUL",
                  "1": "892"
                },
                {
                  "0": "PHL:YUL",
                  "1": "891"
                },
                {
                  "0": "DEN:YYC",
                  "1": "890"
                },
                {
                  "0": "IAH:GDL",
                  "1": "889"
                },
                {
                  "0": "PHL:CUN",
                  "1": "886"
                },
                {
                  "0": "JFK:ZRH",
                  "1": "885"
                },
                {
                  "0": "MIA:SXM",
                  "1": "884"
                },
                {
                  "0": "STL:CUN",
                  "1": "882"
                },
                {
                  "0": "JFK:CCS",
                  "1": "880"
                },
                {
                  "0": "LAX:MZT",
                  "1": "878"
                },
                {
                  "0": "LRD:SLW",
                  "1": "875"
                },
                {
                  "0": "CVG:CUN",
                  "1": "871"
                },
                {
                  "0": "JFK:MAN",
                  "1": "867"
                },
                {
                  "0": "IAD:FRA",
                  "1": "862"
                },
                {
                  "0": "DTW:YUL",
                  "1": "852"
                },
                {
                  "0": "SFB:LGW",
                  "1": "851"
                },
                {
                  "0": "DFW:YYZ",
                  "1": "849"
                },
                {
                  "0": "SFO:PVR",
                  "1": "848"
                },
                {
                  "0": "JFK:YQX",
                  "1": "837"
                },
                {
                  "0": "LAX:LIM",
                  "1": "837"
                },
                {
                  "0": "EWR:AMS",
                  "1": "828"
                },
                {
                  "0": "MIA:CNF",
                  "1": "823"
                },
                {
                  "0": "SJU:POS",
                  "1": "822"
                },
                {
                  "0": "DFW:GDL",
                  "1": "821"
                },
                {
                  "0": "LAS:MEX",
                  "1": "820"
                },
                {
                  "0": "SJU:BGI",
                  "1": "818"
                },
                {
                  "0": "TPA:YYZ",
                  "1": "818"
                },
                {
                  "0": "IAH:AMS",
                  "1": "814"
                },
                {
                  "0": "GUM:MNL",
                  "1": "814"
                },
                {
                  "0": "JFK:BGI",
                  "1": "812"
                },
                {
                  "0": "LAX:CDG",
                  "1": "808"
                },
                {
                  "0": "IAD:CDG",
                  "1": "808"
                },
                {
                  "0": "SJU:PTP",
                  "1": "805"
                },
                {
                  "0": "BWI:CUN",
                  "1": "803"
                },
                {
                  "0": "MSY:CUN",
                  "1": "802"
                },
                {
                  "0": "BOS:CDG",
                  "1": "800"
                },
                {
                  "0": "SEA:YYC",
                  "1": "798"
                },
                {
                  "0": "MSP:CUN",
                  "1": "792"
                },
                {
                  "0": "LAX:FRA",
                  "1": "791"
                },
                {
                  "0": "LAX:BJX",
                  "1": "791"
                },
                {
                  "0": "SFB:MAN",
                  "1": "789"
                },
                {
                  "0": "SFO:YYC",
                  "1": "788"
                },
                {
                  "0": "SAT:MTY",
                  "1": "787"
                },
                {
                  "0": "SJU:CCS",
                  "1": "784"
                },
                {
                  "0": "IAH:SAL",
                  "1": "779"
                },
                {
                  "0": "MCO:MAN",
                  "1": "778"
                },
                {
                  "0": "ORD:YOW",
                  "1": "777"
                },
                {
                  "0": "MIA:YUL",
                  "1": "776"
                },
                {
                  "0": "JFK:PUJ",
                  "1": "776"
                },
                {
                  "0": "LAS:MTY",
                  "1": "773"
                },
                {
                  "0": "JFK:YUL",
                  "1": "770"
                },
                {
                  "0": "PHL:CDG",
                  "1": "769"
                },
                {
                  "0": "IND:YYZ",
                  "1": "769"
                },
                {
                  "0": "CLE:CUN",
                  "1": "763"
                },
                {
                  "0": "SPN:NRT",
                  "1": "762"
                },
                {
                  "0": "HNL:MAJ",
                  "1": "762"
                },
                {
                  "0": "RSW:YYZ",
                  "1": "762"
                },
                {
                  "0": "SFO:MEX",
                  "1": "762"
                },
                {
                  "0": "DEN:YYZ",
                  "1": "761"
                },
                {
                  "0": "BOS:BDA",
                  "1": "760"
                },
                {
                  "0": "BUF:YYZ",
                  "1": "756"
                },
                {
                  "0": "DFW:PVR",
                  "1": "751"
                },
                {
                  "0": "LAX:GRU",
                  "1": "751"
                },
                {
                  "0": "MIA:PBM",
                  "1": "749"
                },
                {
                  "0": "DEN:PVR",
                  "1": "748"
                },
                {
                  "0": "MIA:AGT",
                  "1": "743"
                },
                {
                  "0": "BQN:SDQ",
                  "1": "738"
                },
                {
                  "0": "BOS:YUL",
                  "1": "734"
                },
                {
                  "0": "MIA:CDG",
                  "1": "728"
                },
                {
                  "0": "FLL:FPO",
                  "1": "725"
                },
                {
                  "0": "JFK:DUB",
                  "1": "721"
                },
                {
                  "0": "MIA:SKB",
                  "1": "719"
                },
                {
                  "0": "SAN:SJD",
                  "1": "718"
                },
                {
                  "0": "JFK:ATH",
                  "1": "718"
                },
                {
                  "0": "GUM:NGO",
                  "1": "718"
                },
                {
                  "0": "JFK:LGG",
                  "1": "717"
                },
                {
                  "0": "SFO:SJD",
                  "1": "717"
                },
                {
                  "0": "JFK:AUA",
                  "1": "714"
                },
                {
                  "0": "MIA:ANU",
                  "1": "714"
                },
                {
                  "0": "ORD:BRU",
                  "1": "710"
                },
                {
                  "0": "EWR:BDA",
                  "1": "709"
                },
                {
                  "0": "JFK:BDA",
                  "1": "709"
                },
                {
                  "0": "LAX:KIX",
                  "1": "708"
                },
                {
                  "0": "DTW:FRA",
                  "1": "707"
                },
                {
                  "0": "SFO:CDG",
                  "1": "707"
                },
                {
                  "0": "IAD:AMS",
                  "1": "706"
                },
                {
                  "0": "PIE:YYZ",
                  "1": "706"
                },
                {
                  "0": "YIP:YHM",
                  "1": "702"
                },
                {
                  "0": "HNL:NGO",
                  "1": "699"
                },
                {
                  "0": "MKE:YYZ",
                  "1": "697"
                },
                {
                  "0": "OGG:YVR",
                  "1": "694"
                },
                {
                  "0": "JFK:EZE",
                  "1": "693"
                },
                {
                  "0": "ATL:NAS",
                  "1": "692"
                },
                {
                  "0": "JFK:GEO",
                  "1": "688"
                },
                {
                  "0": "BOS:SNN",
                  "1": "688"
                },
                {
                  "0": "PHX:YYC",
                  "1": "688"
                },
                {
                  "0": "IAH:PVR",
                  "1": "682"
                },
                {
                  "0": "MCO:MBJ",
                  "1": "681"
                },
                {
                  "0": "IAD:YUL",
                  "1": "679"
                },
                {
                  "0": "JFK:KEF",
                  "1": "677"
                },
                {
                  "0": "JFK:SXM",
                  "1": "676"
                },
                {
                  "0": "DEN:SJD",
                  "1": "674"
                },
                {
                  "0": "JFK:ORY",
                  "1": "674"
                },
                {
                  "0": "MSP:YYC",
                  "1": "673"
                },
                {
                  "0": "IAH:BZE",
                  "1": "672"
                },
                {
                  "0": "MIA:GDL",
                  "1": "671"
                },
                {
                  "0": "JFK:SVO",
                  "1": "671"
                },
                {
                  "0": "LAX:AMS",
                  "1": "671"
                },
                {
                  "0": "PHX:YVR",
                  "1": "671"
                },
                {
                  "0": "SAT:GDL",
                  "1": "670"
                },
                {
                  "0": "ATL:MBJ",
                  "1": "668"
                },
                {
                  "0": "MIA:TGU",
                  "1": "666"
                },
                {
                  "0": "DEN:YVR",
                  "1": "666"
                },
                {
                  "0": "DFW:CZM",
                  "1": "666"
                },
                {
                  "0": "IAH:YYC",
                  "1": "665"
                },
                {
                  "0": "LAS:YEG",
                  "1": "665"
                },
                {
                  "0": "ORD:YVR",
                  "1": "664"
                },
                {
                  "0": "HSV:LUX",
                  "1": "664"
                },
                {
                  "0": "PIT:CUN",
                  "1": "658"
                },
                {
                  "0": "FLL:MBJ",
                  "1": "658"
                },
                {
                  "0": "SFO:YYZ",
                  "1": "658"
                },
                {
                  "0": "MIA:GEO",
                  "1": "658"
                },
                {
                  "0": "EWR:LIS",
                  "1": "655"
                },
                {
                  "0": "SFO:FRA",
                  "1": "651"
                },
                {
                  "0": "ORD:PVG",
                  "1": "649"
                },
                {
                  "0": "ATL:YUL",
                  "1": "646"
                },
                {
                  "0": "MIA:CWB",
                  "1": "646"
                },
                {
                  "0": "LAX:PTY",
                  "1": "642"
                },
                {
                  "0": "MIA:FRA",
                  "1": "638"
                },
                {
                  "0": "ELP:CUU",
                  "1": "636"
                },
                {
                  "0": "FLL:KIN",
                  "1": "636"
                },
                {
                  "0": "EWR:NAS",
                  "1": "633"
                },
                {
                  "0": "ANC:YYZ",
                  "1": "632"
                },
                {
                  "0": "SEA:TPE",
                  "1": "630"
                },
                {
                  "0": "JFK:PLS",
                  "1": "628"
                },
                {
                  "0": "IAH:GUA",
                  "1": "627"
                },
                {
                  "0": "BFI:YVR",
                  "1": "625"
                },
                {
                  "0": "EWR:YHZ",
                  "1": "624"
                },
                {
                  "0": "JFK:LUX",
                  "1": "624"
                },
                {
                  "0": "JFK:LGW",
                  "1": "624"
                },
                {
                  "0": "JFK:IST",
                  "1": "623"
                },
                {
                  "0": "ORD:DUB",
                  "1": "619"
                },
                {
                  "0": "ORD:GDL",
                  "1": "616"
                },
                {
                  "0": "CVG:YYZ",
                  "1": "614"
                },
                {
                  "0": "JFK:GIG",
                  "1": "613"
                },
                {
                  "0": "ORD:ICN",
                  "1": "612"
                },
                {
                  "0": "PHL:NAS",
                  "1": "611"
                },
                {
                  "0": "JFK:BCN",
                  "1": "609"
                },
                {
                  "0": "PHL:LHR",
                  "1": "608"
                },
                {
                  "0": "IAH:SAP",
                  "1": "608"
                },
                {
                  "0": "BOS:FRA",
                  "1": "606"
                },
                {
                  "0": "LAX:NAN",
                  "1": "601"
                },
                {
                  "0": "IAD:NRT",
                  "1": "600"
                },
                {
                  "0": "ORD:HKG",
                  "1": "598"
                },
                {
                  "0": "MSP:YEG",
                  "1": "596"
                },
                {
                  "0": "JFK:NAS",
                  "1": "595"
                },
                {
                  "0": "MCO:CUN",
                  "1": "594"
                },
                {
                  "0": "EWR:YOW",
                  "1": "593"
                },
                {
                  "0": "SJU:BOG",
                  "1": "593"
                },
                {
                  "0": "GUM:TKK",
                  "1": "589"
                },
                {
                  "0": "ORD:PIK",
                  "1": "587"
                },
                {
                  "0": "ANC:NGO",
                  "1": "587"
                },
                {
                  "0": "JFK:PAP",
                  "1": "584"
                },
                {
                  "0": "IND:CUN",
                  "1": "584"
                },
                {
                  "0": "EWR:ARN",
                  "1": "582"
                },
                {
                  "0": "SJU:DOM",
                  "1": "582"
                },
                {
                  "0": "ORD:MXP",
                  "1": "581"
                },
                {
                  "0": "EWR:FCO",
                  "1": "580"
                },
                {
                  "0": "DFW:MTY",
                  "1": "580"
                },
                {
                  "0": "PHX:SJD",
                  "1": "579"
                },
                {
                  "0": "BOS:YHZ",
                  "1": "578"
                },
                {
                  "0": "IAD:CUN",
                  "1": "578"
                },
                {
                  "0": "LRD:MTY",
                  "1": "576"
                },
                {
                  "0": "CLT:CUN",
                  "1": "575"
                },
                {
                  "0": "EWR:ZRH",
                  "1": "575"
                },
                {
                  "0": "GUM:PNI",
                  "1": "575"
                },
                {
                  "0": "PHX:PVR",
                  "1": "574"
                },
                {
                  "0": "PHL:FRA",
                  "1": "574"
                },
                {
                  "0": "ATL:CDG",
                  "1": "573"
                },
                {
                  "0": "MIA:SSA",
                  "1": "573"
                },
                {
                  "0": "JFK:BOG",
                  "1": "569"
                },
                {
                  "0": "EWR:TLV",
                  "1": "567"
                },
                {
                  "0": "EWR:STN",
                  "1": "566"
                },
                {
                  "0": "LAX:ZIH",
                  "1": "566"
                },
                {
                  "0": "IAH:CDG",
                  "1": "566"
                },
                {
                  "0": "MIA:HOG",
                  "1": "564"
                },
                {
                  "0": "MIA:FDF",
                  "1": "561"
                },
                {
                  "0": "GUM:HKG",
                  "1": "561"
                },
                {
                  "0": "GUM:TPE",
                  "1": "559"
                },
                {
                  "0": "HNL:HND",
                  "1": "558"
                },
                {
                  "0": "DCA:YYZ",
                  "1": "557"
                },
                {
                  "0": "MIA:LPB",
                  "1": "557"
                },
                {
                  "0": "SFO:GDL",
                  "1": "556"
                },
                {
                  "0": "GUM:ROR",
                  "1": "555"
                },
                {
                  "0": "JFK:STI",
                  "1": "553"
                },
                {
                  "0": "SFO:PEK",
                  "1": "552"
                },
                {
                  "0": "SEA:ICN",
                  "1": "552"
                },
                {
                  "0": "MIA:PTP",
                  "1": "550"
                },
                {
                  "0": "MEM:YYZ",
                  "1": "548"
                },
                {
                  "0": "ORD:MUC",
                  "1": "547"
                },
                {
                  "0": "LAX:ACA",
                  "1": "544"
                },
                {
                  "0": "PHX:MZT",
                  "1": "542"
                },
                {
                  "0": "MIA:CTG",
                  "1": "542"
                },
                {
                  "0": "SEA:AMS",
                  "1": "541"
                },
                {
                  "0": "JFK:ANU",
                  "1": "541"
                },
                {
                  "0": "PHL:MBJ",
                  "1": "540"
                },
                {
                  "0": "JFK:POP",
                  "1": "540"
                },
                {
                  "0": "MIA:CMW",
                  "1": "538"
                },
                {
                  "0": "MCI:CUN",
                  "1": "538"
                },
                {
                  "0": "SJC:GDL",
                  "1": "537"
                },
                {
                  "0": "DTW:AMS",
                  "1": "537"
                },
                {
                  "0": "IAH:SJD",
                  "1": "535"
                },
                {
                  "0": "BDL:YYZ",
                  "1": "534"
                },
                {
                  "0": "JFK:YVR",
                  "1": "533"
                },
                {
                  "0": "DEN:YEG",
                  "1": "533"
                },
                {
                  "0": "EWR:MEX",
                  "1": "532"
                },
                {
                  "0": "MIA:BSB",
                  "1": "532"
                },
                {
                  "0": "JFK:HEL",
                  "1": "532"
                },
                {
                  "0": "DTW:CDG",
                  "1": "532"
                },
                {
                  "0": "JFK:GYE",
                  "1": "529"
                },
                {
                  "0": "ORD:YWG",
                  "1": "529"
                },
                {
                  "0": "ATL:AUA",
                  "1": "527"
                },
                {
                  "0": "BWI:YYZ",
                  "1": "527"
                },
                {
                  "0": "LRD:TLC",
                  "1": "526"
                },
                {
                  "0": "ORD:PUJ",
                  "1": "525"
                },
                {
                  "0": "PBI:MHH",
                  "1": "522"
                },
                {
                  "0": "PHX:YYZ",
                  "1": "521"
                },
                {
                  "0": "IAH:ACA",
                  "1": "520"
                },
                {
                  "0": "DOV:RMS",
                  "1": "518"
                },
                {
                  "0": "SEA:LHR",
                  "1": "518"
                },
                {
                  "0": "IAH:CZM",
                  "1": "516"
                },
                {
                  "0": "MSP:PVR",
                  "1": "516"
                },
                {
                  "0": "ORD:MAN",
                  "1": "516"
                },
                {
                  "0": "ATL:LGW",
                  "1": "514"
                },
                {
                  "0": "ORD:ZRH",
                  "1": "514"
                },
                {
                  "0": "LAX:SJO",
                  "1": "514"
                },
                {
                  "0": "IAH:BJX",
                  "1": "513"
                },
                {
                  "0": "EWR:MBJ",
                  "1": "512"
                },
                {
                  "0": "BOS:AMS",
                  "1": "511"
                },
                {
                  "0": "BWI:NAS",
                  "1": "509"
                },
                {
                  "0": "PHX:GDL",
                  "1": "509"
                },
                {
                  "0": "FLL:CUN",
                  "1": "509"
                },
                {
                  "0": "BNA:YYZ",
                  "1": "508"
                },
                {
                  "0": "MSP:YUL",
                  "1": "507"
                },
                {
                  "0": "LAX:HMO",
                  "1": "506"
                },
                {
                  "0": "IAH:FRA",
                  "1": "506"
                },
                {
                  "0": "DTW:MBJ",
                  "1": "501"
                },
                {
                  "0": "MSP:YVR",
                  "1": "500"
                },
                {
                  "0": "IAD:MEX",
                  "1": "499"
                },
                {
                  "0": "MIA:POA",
                  "1": "499"
                },
                {
                  "0": "FLL:BOG",
                  "1": "499"
                },
                {
                  "0": "SJU:GND",
                  "1": "497"
                },
                {
                  "0": "ANC:YVR",
                  "1": "495"
                },
                {
                  "0": "JFK:ICN",
                  "1": "494"
                },
                {
                  "0": "JFK:CAI",
                  "1": "494"
                },
                {
                  "0": "JFK:MUC",
                  "1": "492"
                },
                {
                  "0": "EWR:BRU",
                  "1": "492"
                },
                {
                  "0": "IAD:YOW",
                  "1": "491"
                },
                {
                  "0": "LAX:SEL",
                  "1": "490"
                },
                {
                  "0": "HNL:ICN",
                  "1": "489"
                },
                {
                  "0": "JFK:LIS",
                  "1": "488"
                },
                {
                  "0": "BOS:PUJ",
                  "1": "488"
                },
                {
                  "0": "FAI:NRT",
                  "1": "487"
                },
                {
                  "0": "CLT:NAS",
                  "1": "487"
                },
                {
                  "0": "PHL:BDA",
                  "1": "486"
                },
                {
                  "0": "LRD:BJX",
                  "1": "486"
                },
                {
                  "0": "WRI:RMS",
                  "1": "486"
                },
                {
                  "0": "SJU:STI",
                  "1": "486"
                },
                {
                  "0": "STL:MBJ",
                  "1": "485"
                },
                {
                  "0": "BOS:MBJ",
                  "1": "485"
                },
                {
                  "0": "MIA:REC",
                  "1": "484"
                },
                {
                  "0": "DFW:SJD",
                  "1": "484"
                },
                {
                  "0": "MSP:AMS",
                  "1": "484"
                },
                {
                  "0": "BWI:MBJ",
                  "1": "484"
                },
                {
                  "0": "PHL:PUJ",
                  "1": "482"
                },
                {
                  "0": "PHX:HMO",
                  "1": "480"
                },
                {
                  "0": "SJU:AUA",
                  "1": "480"
                },
                {
                  "0": "JFK:VIE",
                  "1": "476"
                },
                {
                  "0": "MIA:STI",
                  "1": "475"
                },
                {
                  "0": "GUM:YAP",
                  "1": "475"
                },
                {
                  "0": "MEM:CUN",
                  "1": "475"
                },
                {
                  "0": "EWR:CGN",
                  "1": "474"
                },
                {
                  "0": "ORD:SJD",
                  "1": "474"
                },
                {
                  "0": "LRD:MEX",
                  "1": "473"
                },
                {
                  "0": "HNL:TPE",
                  "1": "473"
                },
                {
                  "0": "HNL:FUK",
                  "1": "471"
                },
                {
                  "0": "LRD:QRO",
                  "1": "470"
                },
                {
                  "0": "SFB:GLA",
                  "1": "470"
                },
                {
                  "0": "IAH:ZIH",
                  "1": "469"
                },
                {
                  "0": "FLL:PAP",
                  "1": "467"
                },
                {
                  "0": "HNL:CXI",
                  "1": "466"
                },
                {
                  "0": "EWR:CPH",
                  "1": "465"
                },
                {
                  "0": "MCO:GRU",
                  "1": "464"
                },
                {
                  "0": "MIA:UVF",
                  "1": "464"
                },
                {
                  "0": "GUM:ICN",
                  "1": "463"
                },
                {
                  "0": "ORD:MTY",
                  "1": "463"
                },
                {
                  "0": "MIA:GND",
                  "1": "462"
                },
                {
                  "0": "ANC:FRA",
                  "1": "462"
                },
                {
                  "0": "ATL:BRU",
                  "1": "462"
                },
                {
                  "0": "DFW:YYC",
                  "1": "460"
                },
                {
                  "0": "MCO:YHZ",
                  "1": "460"
                },
                {
                  "0": "SFO:CUN",
                  "1": "460"
                },
                {
                  "0": "IAH:LGW",
                  "1": "459"
                },
                {
                  "0": "DFW:LGW",
                  "1": "459"
                },
                {
                  "0": "MKE:CUN",
                  "1": "458"
                },
                {
                  "0": "EWR:SDQ",
                  "1": "458"
                },
                {
                  "0": "GUM:FUK",
                  "1": "456"
                },
                {
                  "0": "JFK:YMX",
                  "1": "455"
                },
                {
                  "0": "DFW:NRT",
                  "1": "454"
                },
                {
                  "0": "FLL:SDQ",
                  "1": "454"
                },
                {
                  "0": "STL:YYZ",
                  "1": "453"
                },
                {
                  "0": "BOS:LGW",
                  "1": "453"
                },
                {
                  "0": "LAX:BNE",
                  "1": "453"
                },
                {
                  "0": "DFW:MBJ",
                  "1": "452"
                },
                {
                  "0": "JFK:PIK",
                  "1": "451"
                },
                {
                  "0": "HNL:MNL",
                  "1": "451"
                },
                {
                  "0": "ORD:PEK",
                  "1": "448"
                },
                {
                  "0": "ANC:KHV",
                  "1": "448"
                },
                {
                  "0": "LAX:MEL",
                  "1": "446"
                },
                {
                  "0": "RDU:YYZ",
                  "1": "446"
                },
                {
                  "0": "PSP:YVR",
                  "1": "445"
                },
                {
                  "0": "DEN:MEX",
                  "1": "445"
                },
                {
                  "0": "DFW:YVR",
                  "1": "444"
                },
                {
                  "0": "IAH:PTY",
                  "1": "444"
                },
                {
                  "0": "BOS:PDL",
                  "1": "444"
                },
                {
                  "0": "PHX:MEX",
                  "1": "442"
                },
                {
                  "0": "MIA:DUS",
                  "1": "441"
                },
                {
                  "0": "JFK:GVA",
                  "1": "441"
                },
                {
                  "0": "LGA:NAS",
                  "1": "440"
                },
                {
                  "0": "IAD:BRU",
                  "1": "440"
                },
                {
                  "0": "IAD:MUC",
                  "1": "438"
                },
                {
                  "0": "PBI:YYZ",
                  "1": "438"
                },
                {
                  "0": "SJU:FDF",
                  "1": "438"
                },
                {
                  "0": "TPA:GCM",
                  "1": "437"
                },
                {
                  "0": "LAX:LTO",
                  "1": "436"
                },
                {
                  "0": "SFO:SYD",
                  "1": "435"
                },
                {
                  "0": "PHL:YOW",
                  "1": "434"
                },
                {
                  "0": "SEA:YYJ",
                  "1": "434"
                },
                {
                  "0": "SJU:PTY",
                  "1": "434"
                },
                {
                  "0": "SJU:AXA",
                  "1": "434"
                },
                {
                  "0": "ORD:FCO",
                  "1": "434"
                },
                {
                  "0": "LRD:GDL",
                  "1": "433"
                },
                {
                  "0": "ROC:YYZ",
                  "1": "432"
                },
                {
                  "0": "SFO:PVG",
                  "1": "432"
                },
                {
                  "0": "JFK:WAW",
                  "1": "432"
                },
                {
                  "0": "IAH:GCM",
                  "1": "432"
                },
                {
                  "0": "SLC:YVR",
                  "1": "430"
                },
                {
                  "0": "EWR:SNN",
                  "1": "429"
                },
                {
                  "0": "IAH:SJO",
                  "1": "429"
                },
                {
                  "0": "MIA:BLA",
                  "1": "429"
                },
                {
                  "0": "BNA:CUN",
                  "1": "428"
                },
                {
                  "0": "LAX:YEG",
                  "1": "428"
                },
                {
                  "0": "SDF:YHM",
                  "1": "428"
                },
                {
                  "0": "PHX:YEG",
                  "1": "428"
                },
                {
                  "0": "SJU:POP",
                  "1": "426"
                },
                {
                  "0": "IAH:MID",
                  "1": "426"
                },
                {
                  "0": "EWR:AUA",
                  "1": "424"
                },
                {
                  "0": "LAX:ZLO",
                  "1": "422"
                },
                {
                  "0": "IAH:RTB",
                  "1": "421"
                },
                {
                  "0": "ORD:CPH",
                  "1": "421"
                },
                {
                  "0": "ORD:ARN",
                  "1": "419"
                },
                {
                  "0": "BOS:KEF",
                  "1": "419"
                },
                {
                  "0": "BOS:ZRH",
                  "1": "419"
                },
                {
                  "0": "ORD:NAS",
                  "1": "418"
                },
                {
                  "0": "MIA:ZRH",
                  "1": "418"
                },
                {
                  "0": "EWR:MUC",
                  "1": "417"
                },
                {
                  "0": "MSP:YQR",
                  "1": "416"
                },
                {
                  "0": "SLC:CUN",
                  "1": "415"
                },
                {
                  "0": "ORD:YQX",
                  "1": "415"
                },
                {
                  "0": "SFO:SEL",
                  "1": "414"
                },
                {
                  "0": "JFK:GND",
                  "1": "413"
                },
                {
                  "0": "BOS:YOW",
                  "1": "413"
                },
                {
                  "0": "EWR:MXP",
                  "1": "413"
                },
                {
                  "0": "FLL:YQB",
                  "1": "413"
                },
                {
                  "0": "SLC:YYC",
                  "1": "412"
                },
                {
                  "0": "YIP:YYZ",
                  "1": "412"
                },
                {
                  "0": "JFK:JED",
                  "1": "412"
                },
                {
                  "0": "DTW:YOW",
                  "1": "412"
                },
                {
                  "0": "SEA:YEG",
                  "1": "411"
                },
                {
                  "0": "MIA:MHH",
                  "1": "411"
                },
                {
                  "0": "SAT:CUN",
                  "1": "410"
                },
                {
                  "0": "MCI:YYZ",
                  "1": "408"
                },
                {
                  "0": "ATL:BDA",
                  "1": "408"
                },
                {
                  "0": "ATL:MUC",
                  "1": "407"
                },
                {
                  "0": "IAH:TGU",
                  "1": "406"
                },
                {
                  "0": "GUM:MAJ",
                  "1": "405"
                },
                {
                  "0": "ATL:MAN",
                  "1": "404"
                },
                {
                  "0": "MIA:IQQ",
                  "1": "403"
                },
                {
                  "0": "DFW:SAL",
                  "1": "402"
                },
                {
                  "0": "JFK:DKR",
                  "1": "402"
                },
                {
                  "0": "LAS:GDL",
                  "1": "401"
                },
                {
                  "0": "SJU:SLU",
                  "1": "401"
                },
                {
                  "0": "ATL:SJO",
                  "1": "400"
                },
                {
                  "0": "JFK:NCE",
                  "1": "398"
                },
                {
                  "0": "JFK:CGN",
                  "1": "398"
                },
                {
                  "0": "MCO:SJO",
                  "1": "398"
                },
                {
                  "0": "AUS:MTY",
                  "1": "398"
                },
                {
                  "0": "LAX:LAP",
                  "1": "397"
                },
                {
                  "0": "CMH:CUN",
                  "1": "396"
                },
                {
                  "0": "LAS:YWG",
                  "1": "395"
                },
                {
                  "0": "BDL:YUL",
                  "1": "394"
                },
                {
                  "0": "DFW:ACA",
                  "1": "394"
                },
                {
                  "0": "JFK:SAL",
                  "1": "393"
                },
                {
                  "0": "MSP:YXE",
                  "1": "393"
                },
                {
                  "0": "IAD:ZRH",
                  "1": "393"
                },
                {
                  "0": "MSP:MZT",
                  "1": "392"
                },
                {
                  "0": "HNL:PPT",
                  "1": "392"
                },
                {
                  "0": "DTW:MEX",
                  "1": "391"
                },
                {
                  "0": "EWR:ANU",
                  "1": "391"
                },
                {
                  "0": "LAX:ZCL",
                  "1": "390"
                },
                {
                  "0": "BOS:NAS",
                  "1": "390"
                },
                {
                  "0": "MCO:YOW",
                  "1": "390"
                },
                {
                  "0": "EWR:SXM",
                  "1": "389"
                },
                {
                  "0": "PDX:NRT",
                  "1": "388"
                },
                {
                  "0": "BWI:PUJ",
                  "1": "388"
                },
                {
                  "0": "ANC:PEK",
                  "1": "387"
                },
                {
                  "0": "ATL:PUJ",
                  "1": "385"
                },
                {
                  "0": "LAX:ZRH",
                  "1": "385"
                },
                {
                  "0": "MIA:LUX",
                  "1": "385"
                },
                {
                  "0": "EWR:PUJ",
                  "1": "385"
                },
                {
                  "0": "IAH:MGA",
                  "1": "384"
                },
                {
                  "0": "PHX:CUN",
                  "1": "384"
                },
                {
                  "0": "MIA:RTB",
                  "1": "384"
                },
                {
                  "0": "DTW:PVR",
                  "1": "384"
                },
                {
                  "0": "DFW:BJX",
                  "1": "384"
                },
                {
                  "0": "ATL:ZRH",
                  "1": "384"
                },
                {
                  "0": "DFW:SJO",
                  "1": "383"
                },
                {
                  "0": "CMH:YYZ",
                  "1": "382"
                },
                {
                  "0": "ORD:MAD",
                  "1": "379"
                },
                {
                  "0": "EWR:MAD",
                  "1": "379"
                },
                {
                  "0": "BUF:YOW",
                  "1": "379"
                },
                {
                  "0": "YIP:YXU",
                  "1": "379"
                },
                {
                  "0": "LAX:PEK",
                  "1": "378"
                },
                {
                  "0": "DTW:LHR",
                  "1": "377"
                },
                {
                  "0": "LAS:MAN",
                  "1": "377"
                },
                {
                  "0": "SFO:SAL",
                  "1": "377"
                },
                {
                  "0": "CVG:LEJ",
                  "1": "376"
                },
                {
                  "0": "JFK:CMN",
                  "1": "376"
                },
                {
                  "0": "LAX:YUL",
                  "1": "375"
                },
                {
                  "0": "YIP:YQG",
                  "1": "375"
                },
                {
                  "0": "JFK:LIM",
                  "1": "375"
                },
                {
                  "0": "TPA:CUN",
                  "1": "374"
                },
                {
                  "0": "SHV:SLW",
                  "1": "374"
                },
                {
                  "0": "FLL:SJO",
                  "1": "374"
                },
                {
                  "0": "EWR:LGW",
                  "1": "373"
                },
                {
                  "0": "SFO:KIX",
                  "1": "373"
                },
                {
                  "0": "MSP:ZIH",
                  "1": "371"
                },
                {
                  "0": "EWR:MAN",
                  "1": "371"
                },
                {
                  "0": "SJU:MAD",
                  "1": "371"
                },
                {
                  "0": "DTW:NRT",
                  "1": "371"
                },
                {
                  "0": "EWR:ORY",
                  "1": "369"
                },
                {
                  "0": "JFK:KBP",
                  "1": "369"
                },
                {
                  "0": "ORD:WAW",
                  "1": "369"
                },
                {
                  "0": "GEG:YVR",
                  "1": "368"
                },
                {
                  "0": "ATL:BOG",
                  "1": "367"
                },
                {
                  "0": "IAH:BOG",
                  "1": "367"
                },
                {
                  "0": "SJU:LRM",
                  "1": "367"
                },
                {
                  "0": "JFK:DUS",
                  "1": "367"
                },
                {
                  "0": "ATL:SNN",
                  "1": "367"
                },
                {
                  "0": "ORD:YMX",
                  "1": "366"
                },
                {
                  "0": "DFW:ICN",
                  "1": "366"
                },
                {
                  "0": "BOS:DUB",
                  "1": "366"
                },
                {
                  "0": "IAH:MBJ",
                  "1": "365"
                },
                {
                  "0": "SEA:YYZ",
                  "1": "364"
                },
                {
                  "0": "MIA:MXP",
                  "1": "363"
                },
                {
                  "0": "FLL:YMX",
                  "1": "362"
                },
                {
                  "0": "MEM:TLC",
                  "1": "362"
                },
                {
                  "0": "DFW:GUA",
                  "1": "362"
                },
                {
                  "0": "CVG:CDG",
                  "1": "361"
                },
                {
                  "0": "PIT:YUL",
                  "1": "359"
                },
                {
                  "0": "MIA:LGW",
                  "1": "358"
                },
                {
                  "0": "MIA:SCU",
                  "1": "358"
                },
                {
                  "0": "IAD:SAL",
                  "1": "356"
                },
                {
                  "0": "ATL:LHR",
                  "1": "356"
                },
                {
                  "0": "BWI:KEF",
                  "1": "355"
                },
                {
                  "0": "MEM:STN",
                  "1": "355"
                },
                {
                  "0": "JFK:HKG",
                  "1": "354"
                },
                {
                  "0": "HNL:CTS",
                  "1": "354"
                },
                {
                  "0": "LAS:LGW",
                  "1": "354"
                },
                {
                  "0": "ANC:CDG",
                  "1": "353"
                },
                {
                  "0": "RDU:CUN",
                  "1": "353"
                },
                {
                  "0": "JFK:YHZ",
                  "1": "353"
                },
                {
                  "0": "ATL:CZM",
                  "1": "352"
                },
                {
                  "0": "MSP:CZM",
                  "1": "352"
                },
                {
                  "0": "MEM:MTY",
                  "1": "352"
                },
                {
                  "0": "OAK:GDL",
                  "1": "351"
                },
                {
                  "0": "GUM:CTS",
                  "1": "350"
                },
                {
                  "0": "IAH:NAS",
                  "1": "350"
                },
                {
                  "0": "FLL:AUA",
                  "1": "350"
                },
                {
                  "0": "ATL:MAD",
                  "1": "349"
                },
                {
                  "0": "ATL:NRT",
                  "1": "349"
                },
                {
                  "0": "ORD:ZIH",
                  "1": "349"
                },
                {
                  "0": "MIA:CFG",
                  "1": "349"
                },
                {
                  "0": "LAX:MLM",
                  "1": "348"
                },
                {
                  "0": "HNL:APW",
                  "1": "348"
                },
                {
                  "0": "MIA:VIX",
                  "1": "348"
                },
                {
                  "0": "EWR:DUB",
                  "1": "347"
                },
                {
                  "0": "ORD:YEG",
                  "1": "347"
                },
                {
                  "0": "SFO:AMS",
                  "1": "347"
                },
                {
                  "0": "SPN:NGO",
                  "1": "346"
                },
                {
                  "0": "BOS:PLS",
                  "1": "345"
                },
                {
                  "0": "BGR:MAN",
                  "1": "345"
                },
                {
                  "0": "FLL:POS",
                  "1": "345"
                },
                {
                  "0": "DEN:YWG",
                  "1": "345"
                },
                {
                  "0": "ORD:AUA",
                  "1": "344"
                },
                {
                  "0": "BGR:LGW",
                  "1": "344"
                },
                {
                  "0": "LAX:LUX",
                  "1": "344"
                },
                {
                  "0": "TUS:HMO",
                  "1": "343"
                },
                {
                  "0": "OAK:YVR",
                  "1": "342"
                },
                {
                  "0": "MIA:GGT",
                  "1": "342"
                },
                {
                  "0": "CLE:YUL",
                  "1": "341"
                },
                {
                  "0": "MIA:LIR",
                  "1": "341"
                },
                {
                  "0": "LAX:MTY",
                  "1": "340"
                },
                {
                  "0": "MEM:GDL",
                  "1": "339"
                },
                {
                  "0": "TPA:LGW",
                  "1": "339"
                },
                {
                  "0": "EWR:NRT",
                  "1": "339"
                },
                {
                  "0": "FLL:MHH",
                  "1": "339"
                },
                {
                  "0": "HSV:MEX",
                  "1": "338"
                },
                {
                  "0": "ATL:FPO",
                  "1": "338"
                },
                {
                  "0": "ATL:GRU",
                  "1": "338"
                },
                {
                  "0": "ATL:GDL",
                  "1": "338"
                },
                {
                  "0": "JFK:UVF",
                  "1": "338"
                },
                {
                  "0": "ONT:GDL",
                  "1": "337"
                },
                {
                  "0": "GUM:SDJ",
                  "1": "337"
                },
                {
                  "0": "IND:CDG",
                  "1": "336"
                },
                {
                  "0": "PHL:AUA",
                  "1": "336"
                },
                {
                  "0": "MEM:CDG",
                  "1": "335"
                },
                {
                  "0": "DAY:YYZ",
                  "1": "334"
                },
                {
                  "0": "ORD:CZM",
                  "1": "334"
                },
                {
                  "0": "GTF:YYC",
                  "1": "334"
                },
                {
                  "0": "CLT:MBJ",
                  "1": "333"
                },
                {
                  "0": "ATL:GCM",
                  "1": "333"
                },
                {
                  "0": "ATL:MTY",
                  "1": "333"
                },
                {
                  "0": "DEN:MZT",
                  "1": "332"
                },
                {
                  "0": "SAN:PVR",
                  "1": "331"
                },
                {
                  "0": "JFK:ACC",
                  "1": "331"
                },
                {
                  "0": "ANC:SZX",
                  "1": "330"
                },
                {
                  "0": "ORD:DUS",
                  "1": "330"
                },
                {
                  "0": "IAH:AUA",
                  "1": "328"
                },
                {
                  "0": "JFK:ARN",
                  "1": "327"
                },
                {
                  "0": "DFW:LHR",
                  "1": "327"
                },
                {
                  "0": "EWR:DUS",
                  "1": "327"
                },
                {
                  "0": "STL:PVR",
                  "1": "327"
                },
                {
                  "0": "CLT:FRA",
                  "1": "327"
                },
                {
                  "0": "LAX:HND",
                  "1": "327"
                },
                {
                  "0": "FLL:YOW",
                  "1": "326"
                },
                {
                  "0": "JFK:CPH",
                  "1": "324"
                },
                {
                  "0": "EWR:YQB",
                  "1": "324"
                },
                {
                  "0": "ATL:GUA",
                  "1": "324"
                },
                {
                  "0": "NGU:NBW",
                  "1": "323"
                },
                {
                  "0": "MCO:FRA",
                  "1": "323"
                },
                {
                  "0": "BOS:FCO",
                  "1": "323"
                },
                {
                  "0": "MSP:NRT",
                  "1": "323"
                },
                {
                  "0": "ATL:PLS",
                  "1": "323"
                },
                {
                  "0": "SDF:CGN",
                  "1": "323"
                },
                {
                  "0": "ORD:ACA",
                  "1": "323"
                },
                {
                  "0": "MIA:YQX",
                  "1": "323"
                },
                {
                  "0": "IAH:NRT",
                  "1": "323"
                },
                {
                  "0": "PHL:CGN",
                  "1": "322"
                },
                {
                  "0": "SLC:SJD",
                  "1": "322"
                },
                {
                  "0": "MCO:GLA",
                  "1": "322"
                },
                {
                  "0": "DFW:YUL",
                  "1": "321"
                },
                {
                  "0": "LAX:MNL",
                  "1": "321"
                },
                {
                  "0": "CLT:GCM",
                  "1": "321"
                },
                {
                  "0": "JFK:BUD",
                  "1": "321"
                },
                {
                  "0": "IAH:LIM",
                  "1": "321"
                },
                {
                  "0": "SAN:YVR",
                  "1": "320"
                },
                {
                  "0": "PIT:PUJ",
                  "1": "320"
                },
                {
                  "0": "MIA:LRM",
                  "1": "319"
                },
                {
                  "0": "SJU:PAP",
                  "1": "317"
                },
                {
                  "0": "JFK:RUH",
                  "1": "317"
                },
                {
                  "0": "LAS:YUL",
                  "1": "317"
                },
                {
                  "0": "AUS:CUN",
                  "1": "317"
                },
                {
                  "0": "SPN:KIX",
                  "1": "317"
                },
                {
                  "0": "IAH:VER",
                  "1": "316"
                },
                {
                  "0": "DFW:CDG",
                  "1": "316"
                },
                {
                  "0": "IAH:LHR",
                  "1": "316"
                },
                {
                  "0": "PHL:EMA",
                  "1": "316"
                },
                {
                  "0": "CLT:LGW",
                  "1": "316"
                },
                {
                  "0": "SFO:MNL",
                  "1": "315"
                },
                {
                  "0": "SLC:PVR",
                  "1": "315"
                },
                {
                  "0": "PHL:FCO",
                  "1": "315"
                },
                {
                  "0": "IAH:YVR",
                  "1": "314"
                },
                {
                  "0": "ATL:ICN",
                  "1": "314"
                },
                {
                  "0": "SDF:STN",
                  "1": "314"
                },
                {
                  "0": "BDL:CUN",
                  "1": "314"
                },
                {
                  "0": "BQN:CCS",
                  "1": "314"
                },
                {
                  "0": "CVG:PUJ",
                  "1": "313"
                },
                {
                  "0": "SMF:GDL",
                  "1": "313"
                },
                {
                  "0": "JFK:GCM",
                  "1": "313"
                },
                {
                  "0": "ANC:LHR",
                  "1": "313"
                },
                {
                  "0": "TEB:YYZ",
                  "1": "312"
                },
                {
                  "0": "ANC:AMS",
                  "1": "312"
                },
                {
                  "0": "CVG:MEX",
                  "1": "312"
                },
                {
                  "0": "LAX:SVO",
                  "1": "311"
                },
                {
                  "0": "CVG:YUL",
                  "1": "310"
                },
                {
                  "0": "GUM:PUS",
                  "1": "310"
                },
                {
                  "0": "MCO:AUA",
                  "1": "309"
                },
                {
                  "0": "MSP:MBJ",
                  "1": "309"
                },
                {
                  "0": "SFB:BHX",
                  "1": "309"
                },
                {
                  "0": "ATL:DUB",
                  "1": "309"
                },
                {
                  "0": "LAX:YMX",
                  "1": "309"
                },
                {
                  "0": "MEM:VCP",
                  "1": "308"
                },
                {
                  "0": "ORD:LUX",
                  "1": "308"
                },
                {
                  "0": "SPN:ICN",
                  "1": "308"
                },
                {
                  "0": "EWR:WAW",
                  "1": "307"
                },
                {
                  "0": "BOS:TER",
                  "1": "306"
                },
                {
                  "0": "SEA:PEK",
                  "1": "306"
                },
                {
                  "0": "DTW:LGW",
                  "1": "305"
                },
                {
                  "0": "SJU:CUR",
                  "1": "305"
                },
                {
                  "0": "DCA:YUL",
                  "1": "305"
                },
                {
                  "0": "RSW:DUS",
                  "1": "305"
                },
                {
                  "0": "JFK:STN",
                  "1": "305"
                },
                {
                  "0": "BOS:SDQ",
                  "1": "304"
                },
                {
                  "0": "HNL:MEL",
                  "1": "304"
                },
                {
                  "0": "EWR:POP",
                  "1": "303"
                },
                {
                  "0": "GUM:SEL",
                  "1": "303"
                },
                {
                  "0": "DFW:GRU",
                  "1": "303"
                },
                {
                  "0": "SFB:NCL",
                  "1": "302"
                },
                {
                  "0": "ELP:HMO",
                  "1": "302"
                },
                {
                  "0": "EWR:OSL",
                  "1": "302"
                },
                {
                  "0": "SJU:YYZ",
                  "1": "302"
                },
                {
                  "0": "JFK:AMM",
                  "1": "302"
                },
                {
                  "0": "MIA:BDA",
                  "1": "301"
                },
                {
                  "0": "ATL:PTY",
                  "1": "301"
                },
                {
                  "0": "EWR:LIM",
                  "1": "301"
                },
                {
                  "0": "LAX:TIJ",
                  "1": "301"
                },
                {
                  "0": "SFO:MUC",
                  "1": "301"
                },
                {
                  "0": "IAH:MZT",
                  "1": "300"
                },
                {
                  "0": "TPA:YUL",
                  "1": "300"
                },
                {
                  "0": "LAX:BOG",
                  "1": "299"
                },
                {
                  "0": "BGR:AMS",
                  "1": "299"
                },
                {
                  "0": "MIA:SNU",
                  "1": "299"
                },
                {
                  "0": "EWR:HKG",
                  "1": "299"
                },
                {
                  "0": "MIA:GDT",
                  "1": "298"
                },
                {
                  "0": "PHL:MAD",
                  "1": "298"
                },
                {
                  "0": "JFK:SJO",
                  "1": "298"
                },
                {
                  "0": "EWR:BOG",
                  "1": "297"
                },
                {
                  "0": "IAH:TAM",
                  "1": "297"
                },
                {
                  "0": "PHL:MUC",
                  "1": "297"
                },
                {
                  "0": "SJC:YVR",
                  "1": "296"
                },
                {
                  "0": "ACY:YYZ",
                  "1": "296"
                },
                {
                  "0": "HPN:YYZ",
                  "1": "295"
                },
                {
                  "0": "SJU:NEV",
                  "1": "294"
                },
                {
                  "0": "ORD:IST",
                  "1": "293"
                },
                {
                  "0": "PHX:ZIH",
                  "1": "293"
                },
                {
                  "0": "WRI:TER",
                  "1": "293"
                },
                {
                  "0": "OAK:KIX",
                  "1": "293"
                },
                {
                  "0": "SJU:FRA",
                  "1": "293"
                },
                {
                  "0": "FLL:PUJ",
                  "1": "293"
                },
                {
                  "0": "BOS:LIS",
                  "1": "292"
                },
                {
                  "0": "ATL:STR",
                  "1": "291"
                },
                {
                  "0": "EWR:SAL",
                  "1": "291"
                },
                {
                  "0": "PHL:AMS",
                  "1": "290"
                },
                {
                  "0": "MIA:PMV",
                  "1": "288"
                },
                {
                  "0": "LGA:YOW",
                  "1": "288"
                },
                {
                  "0": "CVG:BRU",
                  "1": "287"
                },
                {
                  "0": "MDW:YYZ",
                  "1": "287"
                },
                {
                  "0": "TPA:NAS",
                  "1": "287"
                },
                {
                  "0": "EWR:GRU",
                  "1": "286"
                },
                {
                  "0": "DTW:PUJ",
                  "1": "286"
                },
                {
                  "0": "DFW:SCL",
                  "1": "286"
                },
                {
                  "0": "HSV:GDL",
                  "1": "285"
                },
                {
                  "0": "IAH:CUU",
                  "1": "285"
                },
                {
                  "0": "MCO:YWG",
                  "1": "285"
                },
                {
                  "0": "ORD:GUA",
                  "1": "285"
                },
                {
                  "0": "PBI:NAS",
                  "1": "284"
                },
                {
                  "0": "MSY:YYZ",
                  "1": "284"
                },
                {
                  "0": "EWR:PTY",
                  "1": "284"
                },
                {
                  "0": "ATL:FCO",
                  "1": "284"
                },
                {
                  "0": "EWR:PVR",
                  "1": "284"
                },
                {
                  "0": "PHL:MAN",
                  "1": "283"
                },
                {
                  "0": "MCO:AMS",
                  "1": "282"
                },
                {
                  "0": "SFO:MZT",
                  "1": "282"
                },
                {
                  "0": "ATL:SAL",
                  "1": "281"
                },
                {
                  "0": "SDF:YYZ",
                  "1": "281"
                },
                {
                  "0": "MCO:BOG",
                  "1": "281"
                },
                {
                  "0": "EWR:GLA",
                  "1": "281"
                },
                {
                  "0": "JFK:JNB",
                  "1": "281"
                },
                {
                  "0": "DEN:CZM",
                  "1": "281"
                },
                {
                  "0": "MIA:BEL",
                  "1": "281"
                },
                {
                  "0": "TPA:HAV",
                  "1": "280"
                },
                {
                  "0": "BOS:SXM",
                  "1": "280"
                },
                {
                  "0": "SDF:MEX",
                  "1": "280"
                },
                {
                  "0": "MSP:KEF",
                  "1": "279"
                },
                {
                  "0": "IAH:YQX",
                  "1": "279"
                },
                {
                  "0": "SRQ:YYZ",
                  "1": "279"
                },
                {
                  "0": "FAI:FRA",
                  "1": "279"
                },
                {
                  "0": "MCO:PTY",
                  "1": "279"
                },
                {
                  "0": "MIA:FCO",
                  "1": "278"
                },
                {
                  "0": "JFK:TXL",
                  "1": "277"
                },
                {
                  "0": "EWR:YQX",
                  "1": "277"
                },
                {
                  "0": "ORD:GRU",
                  "1": "275"
                },
                {
                  "0": "JFK:VCE",
                  "1": "275"
                },
                {
                  "0": "PHX:GYM",
                  "1": "275"
                },
                {
                  "0": "ORD:ZCL",
                  "1": "274"
                },
                {
                  "0": "IAH:UIO",
                  "1": "274"
                },
                {
                  "0": "TEB:LBG",
                  "1": "274"
                },
                {
                  "0": "SJC:NRT",
                  "1": "274"
                },
                {
                  "0": "DCA:NAS",
                  "1": "274"
                },
                {
                  "0": "DEN:FRA",
                  "1": "274"
                },
                {
                  "0": "SEA:YLW",
                  "1": "273"
                },
                {
                  "0": "HNL:HKG",
                  "1": "273"
                },
                {
                  "0": "MIA:CZM",
                  "1": "273"
                },
                {
                  "0": "DEN:LHR",
                  "1": "273"
                },
                {
                  "0": "IAD:SVO",
                  "1": "272"
                },
                {
                  "0": "PHL:SXM",
                  "1": "272"
                },
                {
                  "0": "JFK:EMA",
                  "1": "272"
                },
                {
                  "0": "BQN:AUA",
                  "1": "272"
                },
                {
                  "0": "IAH:CCS",
                  "1": "272"
                },
                {
                  "0": "MEM:KIX",
                  "1": "271"
                },
                {
                  "0": "EWR:SJO",
                  "1": "269"
                },
                {
                  "0": "JFK:SAP",
                  "1": "269"
                },
                {
                  "0": "ATL:LIR",
                  "1": "269"
                },
                {
                  "0": "ATL:LIM",
                  "1": "269"
                },
                {
                  "0": "MEM:YVR",
                  "1": "268"
                },
                {
                  "0": "LAX:MXP",
                  "1": "268"
                },
                {
                  "0": "SFO:YUL",
                  "1": "268"
                },
                {
                  "0": "LAX:AGU",
                  "1": "268"
                },
                {
                  "0": "BQN:CUR",
                  "1": "266"
                },
                {
                  "0": "BWI:LHR",
                  "1": "266"
                },
                {
                  "0": "MFE:MEX",
                  "1": "266"
                },
                {
                  "0": "FAT:GDL",
                  "1": "266"
                },
                {
                  "0": "BWI:AUA",
                  "1": "265"
                },
                {
                  "0": "IAH:POS",
                  "1": "265"
                },
                {
                  "0": "LAX:CAN",
                  "1": "264"
                },
                {
                  "0": "EWR:YVR",
                  "1": "264"
                },
                {
                  "0": "FLL:TCB",
                  "1": "264"
                },
                {
                  "0": "KOA:YVR",
                  "1": "264"
                },
                {
                  "0": "SEA:FRA",
                  "1": "264"
                },
                {
                  "0": "SYR:YYZ",
                  "1": "263"
                },
                {
                  "0": "DTW:YXU",
                  "1": "263"
                },
                {
                  "0": "IAH:GRU",
                  "1": "263"
                },
                {
                  "0": "RNO:YVR",
                  "1": "263"
                },
                {
                  "0": "MIA:IQT",
                  "1": "262"
                },
                {
                  "0": "ORD:GCM",
                  "1": "262"
                },
                {
                  "0": "EWR:BOM",
                  "1": "262"
                },
                {
                  "0": "MDT:YYZ",
                  "1": "262"
                },
                {
                  "0": "CVG:ICN",
                  "1": "261"
                },
                {
                  "0": "CVG:NAS",
                  "1": "261"
                },
                {
                  "0": "CLT:SXM",
                  "1": "261"
                },
                {
                  "0": "MIA:FOR",
                  "1": "260"
                },
                {
                  "0": "EWR:YYC",
                  "1": "260"
                },
                {
                  "0": "SJU:SVD",
                  "1": "260"
                },
                {
                  "0": "EWR:BHX",
                  "1": "259"
                },
                {
                  "0": "BWI:FPO",
                  "1": "259"
                },
                {
                  "0": "MEM:FRA",
                  "1": "259"
                },
                {
                  "0": "LAX:MUC",
                  "1": "259"
                },
                {
                  "0": "MSP:SJD",
                  "1": "259"
                },
                {
                  "0": "FLL:LIM",
                  "1": "258"
                },
                {
                  "0": "SAN:MEX",
                  "1": "258"
                },
                {
                  "0": "DTW:NAS",
                  "1": "258"
                },
                {
                  "0": "JFK:PRG",
                  "1": "258"
                },
                {
                  "0": "IAH:SLP",
                  "1": "258"
                },
                {
                  "0": "SEA:PIK",
                  "1": "257"
                },
                {
                  "0": "DFW:NAS",
                  "1": "257"
                },
                {
                  "0": "FLL:PLS",
                  "1": "257"
                },
                {
                  "0": "MDW:CUN",
                  "1": "256"
                },
                {
                  "0": "PHL:SDQ",
                  "1": "256"
                },
                {
                  "0": "LAS:FRA",
                  "1": "256"
                },
                {
                  "0": "EWR:GUA",
                  "1": "256"
                },
                {
                  "0": "JFK:MDE",
                  "1": "256"
                },
                {
                  "0": "GUM:OKJ",
                  "1": "255"
                },
                {
                  "0": "IAD:VIE",
                  "1": "255"
                },
                {
                  "0": "PHL:PLS",
                  "1": "255"
                },
                {
                  "0": "STT:SXM",
                  "1": "255"
                },
                {
                  "0": "SDF:GDL",
                  "1": "255"
                },
                {
                  "0": "PSP:YYC",
                  "1": "255"
                },
                {
                  "0": "HNL:YYZ",
                  "1": "255"
                },
                {
                  "0": "EWR:GVA",
                  "1": "254"
                },
                {
                  "0": "MIA:MUC",
                  "1": "254"
                },
                {
                  "0": "ALB:YYZ",
                  "1": "254"
                },
                {
                  "0": "SJU:UVF",
                  "1": "253"
                },
                {
                  "0": "ORD:MLM",
                  "1": "253"
                },
                {
                  "0": "ORD:HUX",
                  "1": "253"
                },
                {
                  "0": "EWR:YYT",
                  "1": "252"
                },
                {
                  "0": "HNL:SDJ",
                  "1": "252"
                },
                {
                  "0": "IAH:LUX",
                  "1": "252"
                },
                {
                  "0": "IAH:AGU",
                  "1": "251"
                },
                {
                  "0": "OAK:BJX",
                  "1": "251"
                },
                {
                  "0": "JFK:TPE",
                  "1": "250"
                },
                {
                  "0": "DTW:NGO",
                  "1": "250"
                },
                {
                  "0": "LAX:MBJ",
                  "1": "250"
                },
                {
                  "0": "CLT:FPO",
                  "1": "250"
                },
                {
                  "0": "LAX:DGO",
                  "1": "249"
                },
                {
                  "0": "SDF:YMX",
                  "1": "249"
                },
                {
                  "0": "CVG:EMA",
                  "1": "249"
                },
                {
                  "0": "DTW:YHM",
                  "1": "249"
                },
                {
                  "0": "ATL:CCS",
                  "1": "249"
                },
                {
                  "0": "JFK:SKB",
                  "1": "249"
                },
                {
                  "0": "MCO:SDQ",
                  "1": "249"
                },
                {
                  "0": "DFW:ZIH",
                  "1": "248"
                },
                {
                  "0": "MEM:YMX",
                  "1": "248"
                },
                {
                  "0": "IAD:MAD",
                  "1": "248"
                },
                {
                  "0": "GUM:KIJ",
                  "1": "248"
                },
                {
                  "0": "HNL:YYC",
                  "1": "248"
                },
                {
                  "0": "MIA:ELH",
                  "1": "248"
                },
                {
                  "0": "FLL:PTY",
                  "1": "248"
                },
                {
                  "0": "LAX:CUL",
                  "1": "247"
                },
                {
                  "0": "DFW:BZE",
                  "1": "247"
                },
                {
                  "0": "PBI:FPO",
                  "1": "247"
                },
                {
                  "0": "JFK:OST",
                  "1": "247"
                },
                {
                  "0": "LAX:DUS",
                  "1": "247"
                },
                {
                  "0": "DFW:BRU",
                  "1": "247"
                },
                {
                  "0": "ATL:SCL",
                  "1": "246"
                },
                {
                  "0": "PPG:APW",
                  "1": "246"
                },
                {
                  "0": "DTW:MTY",
                  "1": "246"
                },
                {
                  "0": "ANC:YYC",
                  "1": "246"
                },
                {
                  "0": "BWI:BDA",
                  "1": "246"
                },
                {
                  "0": "FSD:YYC",
                  "1": "246"
                },
                {
                  "0": "LAX:ORY",
                  "1": "245"
                },
                {
                  "0": "CLT:AUA",
                  "1": "245"
                },
                {
                  "0": "ATL:UIO",
                  "1": "245"
                },
                {
                  "0": "YIP:SLW",
                  "1": "244"
                },
                {
                  "0": "CLT:PUJ",
                  "1": "244"
                },
                {
                  "0": "CVG:FRA",
                  "1": "244"
                },
                {
                  "0": "HNL:SEL",
                  "1": "244"
                },
                {
                  "0": "PDX:YYC",
                  "1": "244"
                },
                {
                  "0": "CLE:PUJ",
                  "1": "244"
                },
                {
                  "0": "UAM:DNA",
                  "1": "243"
                },
                {
                  "0": "CVG:GDL",
                  "1": "243"
                },
                {
                  "0": "LRD:PBC",
                  "1": "242"
                },
                {
                  "0": "ANC:PKC",
                  "1": "242"
                },
                {
                  "0": "IAD:GRU",
                  "1": "242"
                },
                {
                  "0": "JFK:SEL",
                  "1": "242"
                }
              ],
              "schema": [
                {
                  "key": "0",
                  "name": "route",
                  "type": "string"
                },
                {
                  "key": "1",
                  "name": "count",
                  "type": "bigint"
                }
              ]
            },
            "isSummary": false,
            "language": "scala"
          },
          "persist_state": {
            "view": {
              "type": "details",
              "tableOptions": {},
              "chartOptions": {
                "chartType": "bar",
                "aggregationType": "sum",
                "categoryFieldKeys": [
                  "0"
                ],
                "seriesFieldKeys": [
                  "1"
                ],
                "isStacked": false
              }
            }
          }
        }
      }
    }
  }
}