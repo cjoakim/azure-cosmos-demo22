{
  "nbformat": 4,
  "nbformat_minor": 2,
  "metadata": {
    "kernelspec": {
      "name": "synapse_pyspark",
      "display_name": "Synapse PySpark"
    },
    "language_info": {
      "name": "python"
    },
    "save_output": true,
    "synapse_widget": {
      "version": "0.1",
      "state": {}
    }
  },
  "cells": [
    {
      "cell_type": "markdown",
      "metadata": {
        "nteract": {
          "transient": {
            "deleting": false
          }
        }
      },
      "source": [
        "# Read the Synapse Link data, from CosmosDB, with PySpark in Synapse"
      ]
    },
    {
      "cell_type": "code",
      "execution_count": null,
      "outputs": [],
      "metadata": {
        "collapsed": false
      },
      "source": [
        "df = spark.read\\\n",
        "    .format(\"cosmos.olap\")\\\n",
        "    .option(\"spark.synapse.linkedService\", \"CosmosDb1\")\\\n",
        "    .option(\"spark.cosmos.container\", \"c1\")\\\n",
        "    .load()"
      ]
    },
    {
      "cell_type": "code",
      "execution_count": null,
      "outputs": [],
      "metadata": {
        "jupyter": {
          "source_hidden": false,
          "outputs_hidden": false
        },
        "nteract": {
          "transient": {
            "deleting": false
          }
        },
        "collapsed": true
      },
      "source": [
        "display(df.printSchema())"
      ]
    },
    {
      "cell_type": "code",
      "execution_count": null,
      "outputs": [],
      "metadata": {
        "jupyter": {
          "source_hidden": false,
          "outputs_hidden": false
        },
        "nteract": {
          "transient": {
            "deleting": false
          }
        },
        "collapsed": false
      },
      "source": [
        "\n",
        "from pyspark.sql.functions import col\n",
        "\n",
        "# unpack the structs of type string\n",
        "df2 = df.select(\n",
        "    col('route.*'),\n",
        "    col('date.*'),\n",
        "    col('count.*'),\n",
        "    col('to_airport_country.*'),\n",
        "    col('to_airport_name.*')).filter(\"_ts > 1629481748\").sort(\"date\", ascending=False) \n",
        "\n",
        "# rename the unpacked columns\n",
        "new_column_names = ['route','date','count','to_airport_country','to_airport_name']\n",
        "df3 = df2.toDF(*new_column_names)\n",
        "\n",
        "df3.show(n=10)\n",
        ""
      ]
    }
  ]
}