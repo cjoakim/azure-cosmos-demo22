{
  "cells": [
    {
      "cell_type": "code",
      "source": [
        "# Read from Cosmos DB analytical store into a Spark DataFrame and display 10 rows from the DataFrame\n",
        "# To select a preferred list of regions in a multi-region Cosmos DB account, add .option(\"spark.cosmos.preferredRegions\", \"<Region1>,<Region2>\")\n",
        "\n",
        "df = spark.read\\\n",
        "    .format(\"cosmos.olap\")\\\n",
        "    .option(\"spark.synapse.linkedService\", \"CosmosDb1\")\\\n",
        "    .option(\"spark.cosmos.container\", \"c1\")\\\n",
        "    .load()"
      ],
      "outputs": [
        {
          "output_type": "display_data",
          "data": {
            "application/vnd.livy.statement-meta+json": {
              "spark_pool": "poolspark3s",
              "session_id": 8,
              "statement_id": 5,
              "state": "finished",
              "livy_statement_state": "available",
              "queued_time": "2021-08-20T22:04:29.0735949Z",
              "session_start_time": null,
              "execution_start_time": "2021-08-20T22:04:29.2259606Z",
              "execution_finish_time": "2021-08-20T22:04:31.1585993Z"
            },
            "text/plain": "StatementMeta(poolspark3s, 8, 5, Finished, Available)"
          },
          "metadata": {}
        },
        {
          "output_type": "stream",
          "name": "stdout",
          "text": []
        }
      ],
      "execution_count": 5,
      "metadata": {
        "collapsed": false
      }
    },
    {
      "cell_type": "code",
      "source": [
        "display(df.printSchema())"
      ],
      "outputs": [
        {
          "output_type": "display_data",
          "data": {
            "application/vnd.livy.statement-meta+json": {
              "spark_pool": "poolspark3s",
              "session_id": 8,
              "statement_id": 6,
              "state": "finished",
              "livy_statement_state": "available",
              "queued_time": "2021-08-20T22:04:29.1201721Z",
              "session_start_time": null,
              "execution_start_time": "2021-08-20T22:04:31.2438789Z",
              "execution_finish_time": "2021-08-20T22:04:31.3936495Z"
            },
            "text/plain": "StatementMeta(poolspark3s, 8, 6, Finished, Available)"
          },
          "metadata": {}
        },
        {
          "output_type": "stream",
          "name": "stdout",
          "text": [
            "root\n",
            " |-- _rid: string (nullable = true)\n",
            " |-- _ts: long (nullable = true)\n",
            " |-- id: struct (nullable = true)\n",
            " |    |-- string: string (nullable = true)\n",
            " |-- pk: struct (nullable = true)\n",
            " |    |-- string: string (nullable = true)\n",
            " |-- date: struct (nullable = true)\n",
            " |    |-- string: string (nullable = true)\n",
            " |-- year: struct (nullable = true)\n",
            " |    |-- string: string (nullable = true)\n",
            " |-- month: struct (nullable = true)\n",
            " |    |-- string: string (nullable = true)\n",
            " |-- from_iata: struct (nullable = true)\n",
            " |    |-- string: string (nullable = true)\n",
            " |-- to_iata: struct (nullable = true)\n",
            " |    |-- string: string (nullable = true)\n",
            " |-- airlineid: struct (nullable = true)\n",
            " |    |-- string: string (nullable = true)\n",
            " |-- carrier: struct (nullable = true)\n",
            " |    |-- string: string (nullable = true)\n",
            " |-- count: struct (nullable = true)\n",
            " |    |-- string: string (nullable = true)\n",
            " |-- route: struct (nullable = true)\n",
            " |    |-- string: string (nullable = true)\n",
            " |-- from_airport_name: struct (nullable = true)\n",
            " |    |-- string: string (nullable = true)\n",
            " |-- from_airport_tz: struct (nullable = true)\n",
            " |    |-- string: string (nullable = true)\n",
            " |-- from_location: struct (nullable = true)\n",
            " |    |-- object: struct (nullable = true)\n",
            " |    |    |-- type: struct (nullable = true)\n",
            " |    |    |    |-- string: string (nullable = true)\n",
            " |    |    |-- coordinates: struct (nullable = true)\n",
            " |    |    |    |-- array: array (nullable = true)\n",
            " |    |    |    |    |-- element: struct (containsNull = true)\n",
            " |    |    |    |    |    |-- num: double (nullable = true)\n",
            " |-- to_airport_name: struct (nullable = true)\n",
            " |    |-- string: string (nullable = true)\n",
            " |-- to_airport_country: struct (nullable = true)\n",
            " |    |-- string: string (nullable = true)\n",
            " |-- to_airport_tz: struct (nullable = true)\n",
            " |    |-- string: string (nullable = true)\n",
            " |-- to_location: struct (nullable = true)\n",
            " |    |-- object: struct (nullable = true)\n",
            " |    |    |-- type: struct (nullable = true)\n",
            " |    |    |    |-- string: string (nullable = true)\n",
            " |    |    |-- coordinates: struct (nullable = true)\n",
            " |    |    |    |-- array: array (nullable = true)\n",
            " |    |    |    |    |-- element: struct (containsNull = true)\n",
            " |    |    |    |    |    |-- num: double (nullable = true)\n",
            " |-- doc_epoch: struct (nullable = true)\n",
            " |    |-- num: double (nullable = true)\n",
            " |-- _etag: struct (nullable = true)\n",
            " |    |-- string: string (nullable = true)"
          ]
        }
      ],
      "execution_count": 6,
      "metadata": {
        "collapsed": true,
        "jupyter": {
          "source_hidden": false,
          "outputs_hidden": false
        },
        "nteract": {
          "transient": {
            "deleting": false
          }
        }
      }
    },
    {
      "cell_type": "code",
      "source": [
        "display(df.limit(10))"
      ],
      "outputs": [
        {
          "output_type": "display_data",
          "data": {
            "application/vnd.livy.statement-meta+json": {
              "spark_pool": "poolspark3s",
              "session_id": 8,
              "statement_id": 7,
              "state": "finished",
              "livy_statement_state": "available",
              "queued_time": "2021-08-20T22:04:29.1825157Z",
              "session_start_time": null,
              "execution_start_time": "2021-08-20T22:04:31.4787422Z",
              "execution_finish_time": "2021-08-20T22:04:34.3436796Z"
            },
            "text/plain": "StatementMeta(poolspark3s, 8, 7, Finished, Available)"
          },
          "metadata": {}
        },
        {
          "output_type": "display_data",
          "data": {
            "application/vnd.synapse.widget-view+json": {
              "widget_id": "e1212833-525b-49e3-b82f-78f3be09e341",
              "widget_type": "Synapse.DataFrame"
            },
            "text/plain": "SynapseWidget(Synapse.DataFrame, e1212833-525b-49e3-b82f-78f3be09e341)"
          },
          "metadata": {}
        },
        {
          "output_type": "execute_result",
          "execution_count": 7,
          "data": {},
          "metadata": {}
        }
      ],
      "execution_count": 7,
      "metadata": {
        "collapsed": false,
        "jupyter": {
          "source_hidden": false,
          "outputs_hidden": false
        },
        "nteract": {
          "transient": {
            "deleting": false
          }
        }
      }
    },
    {
      "cell_type": "code",
      "source": [
        "from pyspark.sql import functions as f\n",
        "\n",
        "df2 = df.select(\"route\",\"date\",\"count\",\"to_airport_country\", \"to_airport_name\").filter(\"_ts > 1629481748\").sort(\"date\", ascending=False) \n",
        "\n",
        "display(df2.limit(10))"
      ],
      "outputs": [
        {
          "output_type": "display_data",
          "data": {
            "application/vnd.livy.statement-meta+json": {
              "spark_pool": "poolspark3s",
              "session_id": 8,
              "statement_id": 12,
              "state": "finished",
              "livy_statement_state": "available",
              "queued_time": "2021-08-20T22:09:17.9993839Z",
              "session_start_time": null,
              "execution_start_time": "2021-08-20T22:09:18.145559Z",
              "execution_finish_time": "2021-08-20T22:09:18.6648058Z"
            },
            "text/plain": "StatementMeta(poolspark3s, 8, 12, Finished, Available)"
          },
          "metadata": {}
        },
        {
          "output_type": "display_data",
          "data": {
            "application/vnd.synapse.widget-view+json": {
              "widget_id": "a75877d2-ae83-4c2b-b5cf-b9794331c464",
              "widget_type": "Synapse.DataFrame"
            },
            "text/plain": "SynapseWidget(Synapse.DataFrame, a75877d2-ae83-4c2b-b5cf-b9794331c464)"
          },
          "metadata": {}
        },
        {
          "output_type": "execute_result",
          "execution_count": 12,
          "data": {},
          "metadata": {}
        }
      ],
      "execution_count": 12,
      "metadata": {
        "collapsed": false,
        "jupyter": {
          "source_hidden": false,
          "outputs_hidden": false
        },
        "nteract": {
          "transient": {
            "deleting": false
          }
        }
      }
    }
  ],
  "metadata": {
    "language_info": {
      "name": "python"
    },
    "kernelspec": {
      "name": "synapse_pyspark",
      "language": "Python",
      "display_name": "Synapse PySpark"
    },
    "kernel_info": {
      "name": "synapse_pyspark"
    },
    "save_output": true,
    "synapse_widget": {
      "version": "0.1",
      "state": {
        "e1212833-525b-49e3-b82f-78f3be09e341": {
          "type": "Synapse.DataFrame",
          "sync_state": {
            "table": {
              "rows": [
                {
                  "0": "e8EnAMhHWw9DdgAAAAAAAA==",
                  "1": "1629481748",
                  "2": {
                    "string": "d22e8f8f-fe9c-4c62-bbcf-c31a8757e510"
                  },
                  "3": {
                    "string": "MEM:CUN"
                  },
                  "4": {
                    "string": "1995/07/01"
                  },
                  "5": {
                    "string": "1995"
                  },
                  "6": {
                    "string": "7"
                  },
                  "7": {
                    "string": "MEM"
                  },
                  "8": {
                    "string": "CUN"
                  },
                  "9": {
                    "string": "20016"
                  },
                  "10": {
                    "string": "LGQ"
                  },
                  "11": {
                    "string": "18"
                  },
                  "12": {
                    "string": "MEM:CUN"
                  },
                  "13": {
                    "string": "Memphis Intl"
                  },
                  "14": {
                    "string": "America/Chicago"
                  },
                  "15": {
                    "object": {
                      "type": {
                        "string": "Point"
                      },
                      "coordinates": {
                        "array": [
                          {
                            "num": -89.976667
                          },
                          {
                            "num": 35.042417
                          }
                        ]
                      }
                    }
                  },
                  "16": {
                    "string": "Cancun Intl"
                  },
                  "17": {
                    "string": "Mexico"
                  },
                  "18": {
                    "string": "America/Mexico_City"
                  },
                  "19": {
                    "object": {
                      "type": {
                        "string": "Point"
                      },
                      "coordinates": {
                        "array": [
                          {
                            "num": -86.877083
                          },
                          {
                            "num": 21.036528
                          }
                        ]
                      }
                    }
                  },
                  "20": {
                    "num": 1629214061.564727
                  },
                  "21": {
                    "string": "\"0b00a731-0000-0100-0000-611feb140000\""
                  }
                },
                {
                  "0": "e8EnAMhHWw9EdgAAAAAAAA==",
                  "1": "1629481748",
                  "2": {
                    "string": "b98e16a5-675c-4b22-8f81-98c2d6155f54"
                  },
                  "3": {
                    "string": "MIA:GUA"
                  },
                  "4": {
                    "string": "1996/03/01"
                  },
                  "5": {
                    "string": "1996"
                  },
                  "6": {
                    "string": "3"
                  },
                  "7": {
                    "string": "MIA"
                  },
                  "8": {
                    "string": "GUA"
                  },
                  "9": {
                    "string": "19891"
                  },
                  "10": {
                    "string": "PUQ"
                  },
                  "11": {
                    "string": "2"
                  },
                  "12": {
                    "string": "MIA:GUA"
                  },
                  "13": {
                    "string": "Miami Intl"
                  },
                  "14": {
                    "string": "America/New_York"
                  },
                  "15": {
                    "object": {
                      "type": {
                        "string": "Point"
                      },
                      "coordinates": {
                        "array": [
                          {
                            "num": -80.290556
                          },
                          {
                            "num": 25.79325
                          }
                        ]
                      }
                    }
                  },
                  "16": {
                    "string": "La Aurora"
                  },
                  "17": {
                    "string": "Guatemala"
                  },
                  "18": {
                    "string": "America/Guatemala"
                  },
                  "19": {
                    "object": {
                      "type": {
                        "string": "Point"
                      },
                      "coordinates": {
                        "array": [
                          {
                            "num": -90.527475
                          },
                          {
                            "num": 14.583272
                          }
                        ]
                      }
                    }
                  },
                  "20": {
                    "num": 1629214061.564847
                  },
                  "21": {
                    "string": "\"0b00a831-0000-0100-0000-611feb140000\""
                  }
                },
                {
                  "0": "e8EnAMhHWw9FdgAAAAAAAA==",
                  "1": "1629481748",
                  "2": {
                    "string": "c40ce41c-227f-4cc3-907d-5cb596132a04"
                  },
                  "3": {
                    "string": "MSY:LGW"
                  },
                  "4": {
                    "string": "1999/03/01"
                  },
                  "5": {
                    "string": "1999"
                  },
                  "6": {
                    "string": "3"
                  },
                  "7": {
                    "string": "MSY"
                  },
                  "8": {
                    "string": "LGW"
                  },
                  "9": {
                    "string": "19869"
                  },
                  "10": {
                    "string": "BY"
                  },
                  "11": {
                    "string": "4"
                  },
                  "12": {
                    "string": "MSY:LGW"
                  },
                  "13": {
                    "string": "Louis Armstrong New Orleans Intl"
                  },
                  "14": {
                    "string": "America/Chicago"
                  },
                  "15": {
                    "object": {
                      "type": {
                        "string": "Point"
                      },
                      "coordinates": {
                        "array": [
                          {
                            "num": -90.258028
                          },
                          {
                            "num": 29.993389
                          }
                        ]
                      }
                    }
                  },
                  "16": {
                    "string": "Gatwick"
                  },
                  "17": {
                    "string": "United Kingdom"
                  },
                  "18": {
                    "string": "Europe/London"
                  },
                  "19": {
                    "object": {
                      "type": {
                        "string": "Point"
                      },
                      "coordinates": {
                        "array": [
                          {
                            "num": -0.190278
                          },
                          {
                            "num": 51.148056
                          }
                        ]
                      }
                    }
                  },
                  "20": {
                    "num": 1629214061.5649438
                  },
                  "21": {
                    "string": "\"0b00a931-0000-0100-0000-611feb140000\""
                  }
                },
                {
                  "0": "e8EnAMhHWw9GdgAAAAAAAA==",
                  "1": "1629481748",
                  "2": {
                    "string": "57d38961-8187-4de2-94b7-e8886964d462"
                  },
                  "3": {
                    "string": "CMI:FPO"
                  },
                  "4": {
                    "string": "1990/02/01"
                  },
                  "5": {
                    "string": "1990"
                  },
                  "6": {
                    "string": "2"
                  },
                  "7": {
                    "string": "CMI"
                  },
                  "8": {
                    "string": "FPO"
                  },
                  "9": {
                    "string": "20312"
                  },
                  "10": {
                    "string": "TZ"
                  },
                  "11": {
                    "string": "2"
                  },
                  "12": {
                    "string": "CMI:FPO"
                  },
                  "13": {
                    "string": "Champaign"
                  },
                  "14": {
                    "string": "America/Chicago"
                  },
                  "15": {
                    "object": {
                      "type": {
                        "string": "Point"
                      },
                      "coordinates": {
                        "array": [
                          {
                            "num": -88.278056
                          },
                          {
                            "num": 40.03925
                          }
                        ]
                      }
                    }
                  },
                  "16": {
                    "string": "Grand Bahama Intl"
                  },
                  "17": {
                    "string": "Bahamas"
                  },
                  "18": {
                    "string": "America/Nassau"
                  },
                  "19": {
                    "object": {
                      "type": {
                        "string": "Point"
                      },
                      "coordinates": {
                        "array": [
                          {
                            "num": -78.695553
                          },
                          {
                            "num": 26.558686
                          }
                        ]
                      }
                    }
                  },
                  "20": {
                    "num": 1629214061.564984
                  },
                  "21": {
                    "string": "\"0b00aa31-0000-0100-0000-611feb140000\""
                  }
                },
                {
                  "0": "e8EnAMhHWw9HdgAAAAAAAA==",
                  "1": "1629481748",
                  "2": {
                    "string": "08c4bbb7-0df3-4f2c-a19b-0f51fdc2becd"
                  },
                  "3": {
                    "string": "SJU:POP"
                  },
                  "4": {
                    "string": "1996/07/01"
                  },
                  "5": {
                    "string": "1996"
                  },
                  "6": {
                    "string": "7"
                  },
                  "7": {
                    "string": "SJU"
                  },
                  "8": {
                    "string": "POP"
                  },
                  "9": {
                    "string": "20425"
                  },
                  "10": {
                    "string": "VIQ"
                  },
                  "11": {
                    "string": "1"
                  },
                  "12": {
                    "string": "SJU:POP"
                  },
                  "13": {
                    "string": "Luis Munoz Marin Intl"
                  },
                  "14": {
                    "string": "America/Puerto_Rico"
                  },
                  "15": {
                    "object": {
                      "type": {
                        "string": "Point"
                      },
                      "coordinates": {
                        "array": [
                          {
                            "num": -66.001833
                          },
                          {
                            "num": 18.439417
                          }
                        ]
                      }
                    }
                  },
                  "16": {
                    "string": "Gregorio Luperon Intl"
                  },
                  "17": {
                    "string": "Dominican Republic"
                  },
                  "18": {
                    "string": "America/Santo_Domingo"
                  },
                  "19": {
                    "object": {
                      "type": {
                        "string": "Point"
                      },
                      "coordinates": {
                        "array": [
                          {
                            "num": -70.570033
                          },
                          {
                            "num": 19.7579
                          }
                        ]
                      }
                    }
                  },
                  "20": {
                    "num": 1629214061.565012
                  },
                  "21": {
                    "string": "\"0b00ab31-0000-0100-0000-611feb140000\""
                  }
                },
                {
                  "0": "e8EnAMhHWw9IdgAAAAAAAA==",
                  "1": "1629481748",
                  "2": {
                    "string": "3ab59d14-c678-4293-9488-a3a55310f745"
                  },
                  "3": {
                    "string": "JFK:BFS"
                  },
                  "4": {
                    "string": "1997/08/01"
                  },
                  "5": {
                    "string": "1997"
                  },
                  "6": {
                    "string": "8"
                  },
                  "7": {
                    "string": "JFK"
                  },
                  "8": {
                    "string": "BFS"
                  },
                  "9": {
                    "string": "20095"
                  },
                  "10": {
                    "string": "WO"
                  },
                  "11": {
                    "string": "4"
                  },
                  "12": {
                    "string": "JFK:BFS"
                  },
                  "13": {
                    "string": "John F Kennedy Intl"
                  },
                  "14": {
                    "string": "America/New_York"
                  },
                  "15": {
                    "object": {
                      "type": {
                        "string": "Point"
                      },
                      "coordinates": {
                        "array": [
                          {
                            "num": -73.778925
                          },
                          {
                            "num": 40.639751
                          }
                        ]
                      }
                    }
                  },
                  "16": {
                    "string": "Belfast Intl"
                  },
                  "17": {
                    "string": "United Kingdom"
                  },
                  "18": {
                    "string": "Europe/London"
                  },
                  "19": {
                    "object": {
                      "type": {
                        "string": "Point"
                      },
                      "coordinates": {
                        "array": [
                          {
                            "num": -6.215833
                          },
                          {
                            "num": 54.6575
                          }
                        ]
                      }
                    }
                  },
                  "20": {
                    "num": 1629214061.565054
                  },
                  "21": {
                    "string": "\"0b00ac31-0000-0100-0000-611feb140000\""
                  }
                },
                {
                  "0": "e8EnAMhHWw9JdgAAAAAAAA==",
                  "1": "1629481748",
                  "2": {
                    "string": "d6364398-c809-44c2-97f3-9256584988c8"
                  },
                  "3": {
                    "string": "ROC:CUN"
                  },
                  "4": {
                    "string": "1996/03/01"
                  },
                  "5": {
                    "string": "1996"
                  },
                  "6": {
                    "string": "3"
                  },
                  "7": {
                    "string": "ROC"
                  },
                  "8": {
                    "string": "CUN"
                  },
                  "9": {
                    "string": "20016"
                  },
                  "10": {
                    "string": "LGQ"
                  },
                  "11": {
                    "string": "5"
                  },
                  "12": {
                    "string": "ROC:CUN"
                  },
                  "13": {
                    "string": "Greater Rochester Intl"
                  },
                  "14": {
                    "string": "America/New_York"
                  },
                  "15": {
                    "object": {
                      "type": {
                        "string": "Point"
                      },
                      "coordinates": {
                        "array": [
                          {
                            "num": -77.672389
                          },
                          {
                            "num": 43.118866
                          }
                        ]
                      }
                    }
                  },
                  "16": {
                    "string": "Cancun Intl"
                  },
                  "17": {
                    "string": "Mexico"
                  },
                  "18": {
                    "string": "America/Mexico_City"
                  },
                  "19": {
                    "object": {
                      "type": {
                        "string": "Point"
                      },
                      "coordinates": {
                        "array": [
                          {
                            "num": -86.877083
                          },
                          {
                            "num": 21.036528
                          }
                        ]
                      }
                    }
                  },
                  "20": {
                    "num": 1629214061.565134
                  },
                  "21": {
                    "string": "\"0b00ad31-0000-0100-0000-611feb140000\""
                  }
                },
                {
                  "0": "e8EnAMhHWw9KdgAAAAAAAA==",
                  "1": "1629481748",
                  "2": {
                    "string": "f3371ac5-5c9b-4f9a-a932-240f3e51e25d"
                  },
                  "3": {
                    "string": "DFW:HUX"
                  },
                  "4": {
                    "string": "1991/10/01"
                  },
                  "5": {
                    "string": "1991"
                  },
                  "6": {
                    "string": "10"
                  },
                  "7": {
                    "string": "DFW"
                  },
                  "8": {
                    "string": "HUX"
                  },
                  "9": {
                    "string": "19805"
                  },
                  "10": {
                    "string": "AA"
                  },
                  "11": {
                    "string": "8"
                  },
                  "12": {
                    "string": "DFW:HUX"
                  },
                  "13": {
                    "string": "Dallas Fort Worth Intl"
                  },
                  "14": {
                    "string": "America/Chicago"
                  },
                  "15": {
                    "object": {
                      "type": {
                        "string": "Point"
                      },
                      "coordinates": {
                        "array": [
                          {
                            "num": -97.037997
                          },
                          {
                            "num": 32.896828
                          }
                        ]
                      }
                    }
                  },
                  "16": {
                    "string": "Bahias De Huatulco Intl"
                  },
                  "17": {
                    "string": "Mexico"
                  },
                  "18": {
                    "string": "America/Mexico_City"
                  },
                  "19": {
                    "object": {
                      "type": {
                        "string": "Point"
                      },
                      "coordinates": {
                        "array": [
                          {
                            "num": -96.262572
                          },
                          {
                            "num": 15.775317
                          }
                        ]
                      }
                    }
                  },
                  "20": {
                    "num": 1629214061.565231
                  },
                  "21": {
                    "string": "\"0b00ae31-0000-0100-0000-611feb140000\""
                  }
                },
                {
                  "0": "e8EnAMhHWw9LdgAAAAAAAA==",
                  "1": "1629481748",
                  "2": {
                    "string": "801e3f7d-6183-41a3-bb68-effd4bf8d96b"
                  },
                  "3": {
                    "string": "MIA:CCS"
                  },
                  "4": {
                    "string": "1998/02/01"
                  },
                  "5": {
                    "string": "1998"
                  },
                  "6": {
                    "string": "2"
                  },
                  "7": {
                    "string": "MIA"
                  },
                  "8": {
                    "string": "CCS"
                  },
                  "9": {
                    "string": "20191"
                  },
                  "10": {
                    "string": "FNQ"
                  },
                  "11": {
                    "string": "46"
                  },
                  "12": {
                    "string": "MIA:CCS"
                  },
                  "13": {
                    "string": "Miami Intl"
                  },
                  "14": {
                    "string": "America/New_York"
                  },
                  "15": {
                    "object": {
                      "type": {
                        "string": "Point"
                      },
                      "coordinates": {
                        "array": [
                          {
                            "num": -80.290556
                          },
                          {
                            "num": 25.79325
                          }
                        ]
                      }
                    }
                  },
                  "16": {
                    "string": "Simon Bolivar Intl"
                  },
                  "17": {
                    "string": "Venezuela"
                  },
                  "18": {
                    "string": "America/Caracas"
                  },
                  "19": {
                    "object": {
                      "type": {
                        "string": "Point"
                      },
                      "coordinates": {
                        "array": [
                          {
                            "num": -66.990583
                          },
                          {
                            "num": 10.603117
                          }
                        ]
                      }
                    }
                  },
                  "20": {
                    "num": 1629214061.565311
                  },
                  "21": {
                    "string": "\"0b00af31-0000-0100-0000-611feb140000\""
                  }
                },
                {
                  "0": "e8EnAMhHWw9MdgAAAAAAAA==",
                  "1": "1629481748",
                  "2": {
                    "string": "3251961c-8f2d-4d5a-89d2-2bb05dc57a25"
                  },
                  "3": {
                    "string": "ORD:ZIH"
                  },
                  "4": {
                    "string": "1996/02/01"
                  },
                  "5": {
                    "string": "1996"
                  },
                  "6": {
                    "string": "2"
                  },
                  "7": {
                    "string": "ORD"
                  },
                  "8": {
                    "string": "ZIH"
                  },
                  "9": {
                    "string": "19392"
                  },
                  "10": {
                    "string": "RIQ"
                  },
                  "11": {
                    "string": "1"
                  },
                  "12": {
                    "string": "ORD:ZIH"
                  },
                  "13": {
                    "string": "Chicago Ohare Intl"
                  },
                  "14": {
                    "string": "America/Chicago"
                  },
                  "15": {
                    "object": {
                      "type": {
                        "string": "Point"
                      },
                      "coordinates": {
                        "array": [
                          {
                            "num": -87.904842
                          },
                          {
                            "num": 41.978603
                          }
                        ]
                      }
                    }
                  },
                  "16": {
                    "string": "Ixtapa Zihuatanejo Intl"
                  },
                  "17": {
                    "string": "Mexico"
                  },
                  "18": {
                    "string": "America/Mexico_City"
                  },
                  "19": {
                    "object": {
                      "type": {
                        "string": "Point"
                      },
                      "coordinates": {
                        "array": [
                          {
                            "num": -101.460536
                          },
                          {
                            "num": 17.601569
                          }
                        ]
                      }
                    }
                  },
                  "20": {
                    "num": 1629214061.5653708
                  },
                  "21": {
                    "string": "\"0b00b031-0000-0100-0000-611feb140000\""
                  }
                }
              ],
              "schema": [
                {
                  "key": "0",
                  "name": "_rid",
                  "type": "string"
                },
                {
                  "key": "1",
                  "name": "_ts",
                  "type": "bigint"
                },
                {
                  "key": "2",
                  "name": "id",
                  "type": "StructType(StructField(string,StringType,true))"
                },
                {
                  "key": "3",
                  "name": "pk",
                  "type": "StructType(StructField(string,StringType,true))"
                },
                {
                  "key": "4",
                  "name": "date",
                  "type": "StructType(StructField(string,StringType,true))"
                },
                {
                  "key": "5",
                  "name": "year",
                  "type": "StructType(StructField(string,StringType,true))"
                },
                {
                  "key": "6",
                  "name": "month",
                  "type": "StructType(StructField(string,StringType,true))"
                },
                {
                  "key": "7",
                  "name": "from_iata",
                  "type": "StructType(StructField(string,StringType,true))"
                },
                {
                  "key": "8",
                  "name": "to_iata",
                  "type": "StructType(StructField(string,StringType,true))"
                },
                {
                  "key": "9",
                  "name": "airlineid",
                  "type": "StructType(StructField(string,StringType,true))"
                },
                {
                  "key": "10",
                  "name": "carrier",
                  "type": "StructType(StructField(string,StringType,true))"
                },
                {
                  "key": "11",
                  "name": "count",
                  "type": "StructType(StructField(string,StringType,true))"
                },
                {
                  "key": "12",
                  "name": "route",
                  "type": "StructType(StructField(string,StringType,true))"
                },
                {
                  "key": "13",
                  "name": "from_airport_name",
                  "type": "StructType(StructField(string,StringType,true))"
                },
                {
                  "key": "14",
                  "name": "from_airport_tz",
                  "type": "StructType(StructField(string,StringType,true))"
                },
                {
                  "key": "15",
                  "name": "from_location",
                  "type": "StructType(StructField(object,StructType(StructField(type,StructType(StructField(string,StringType,true)),true), StructField(coordinates,StructType(StructField(array,ArrayType(StructType(StructField(num,DoubleType,true)),true),true)),true)),true))"
                },
                {
                  "key": "16",
                  "name": "to_airport_name",
                  "type": "StructType(StructField(string,StringType,true))"
                },
                {
                  "key": "17",
                  "name": "to_airport_country",
                  "type": "StructType(StructField(string,StringType,true))"
                },
                {
                  "key": "18",
                  "name": "to_airport_tz",
                  "type": "StructType(StructField(string,StringType,true))"
                },
                {
                  "key": "19",
                  "name": "to_location",
                  "type": "StructType(StructField(object,StructType(StructField(type,StructType(StructField(string,StringType,true)),true), StructField(coordinates,StructType(StructField(array,ArrayType(StructType(StructField(num,DoubleType,true)),true),true)),true)),true))"
                },
                {
                  "key": "20",
                  "name": "doc_epoch",
                  "type": "StructType(StructField(num,DoubleType,true))"
                },
                {
                  "key": "21",
                  "name": "_etag",
                  "type": "StructType(StructField(string,StringType,true))"
                }
              ]
            },
            "isSummary": false,
            "language": "scala"
          },
          "persist_state": {
            "view": {
              "type": "details",
              "tableOptions": {},
              "chartOptions": {
                "chartType": "bar",
                "aggregationType": "sum",
                "categoryFieldKeys": [
                  "0"
                ],
                "seriesFieldKeys": [
                  "1"
                ],
                "isStacked": false
              }
            }
          }
        },
        "a75877d2-ae83-4c2b-b5cf-b9794331c464": {
          "type": "Synapse.DataFrame",
          "sync_state": {
            "table": {
              "rows": [
                {
                  "0": {
                    "string": "AEX:SAP"
                  },
                  "1": {
                    "string": "2020/03/01"
                  },
                  "2": {
                    "string": "5"
                  },
                  "3": {
                    "string": "Honduras"
                  },
                  "4": {
                    "string": "La Mesa Intl"
                  }
                },
                {
                  "0": {
                    "string": "ANC:HKG"
                  },
                  "1": {
                    "string": "2020/03/01"
                  },
                  "2": {
                    "string": "18"
                  },
                  "3": {
                    "string": "Hong Kong"
                  },
                  "4": {
                    "string": "Hong Kong Intl"
                  }
                },
                {
                  "0": {
                    "string": "AEX:SDQ"
                  },
                  "1": {
                    "string": "2020/03/01"
                  },
                  "2": {
                    "string": "2"
                  },
                  "3": {
                    "string": "Dominican Republic"
                  },
                  "4": {
                    "string": "Las Americas Intl"
                  }
                },
                {
                  "0": {
                    "string": "AFW:YVR"
                  },
                  "1": {
                    "string": "2020/03/01"
                  },
                  "2": {
                    "string": "1"
                  },
                  "3": {
                    "string": "Canada"
                  },
                  "4": {
                    "string": "Vancouver Intl"
                  }
                },
                {
                  "0": {
                    "string": "ANC:GMP"
                  },
                  "1": {
                    "string": "2020/03/01"
                  },
                  "2": {
                    "string": "2"
                  },
                  "3": {
                    "string": "South Korea"
                  },
                  "4": {
                    "string": "Gimpo"
                  }
                },
                {
                  "0": {
                    "string": "ANC:HKG"
                  },
                  "1": {
                    "string": "2020/03/01"
                  },
                  "2": {
                    "string": "30"
                  },
                  "3": {
                    "string": "Hong Kong"
                  },
                  "4": {
                    "string": "Hong Kong Intl"
                  }
                },
                {
                  "0": {
                    "string": "ANC:HKG"
                  },
                  "1": {
                    "string": "2020/03/01"
                  },
                  "2": {
                    "string": "43"
                  },
                  "3": {
                    "string": "Hong Kong"
                  },
                  "4": {
                    "string": "Hong Kong Intl"
                  }
                },
                {
                  "0": {
                    "string": "ANC:HKG"
                  },
                  "1": {
                    "string": "2020/03/01"
                  },
                  "2": {
                    "string": "58"
                  },
                  "3": {
                    "string": "Hong Kong"
                  },
                  "4": {
                    "string": "Hong Kong Intl"
                  }
                },
                {
                  "0": {
                    "string": "ANC:HKG"
                  },
                  "1": {
                    "string": "2020/03/01"
                  },
                  "2": {
                    "string": "52"
                  },
                  "3": {
                    "string": "Hong Kong"
                  },
                  "4": {
                    "string": "Hong Kong Intl"
                  }
                },
                {
                  "0": {
                    "string": "ANC:HKG"
                  },
                  "1": {
                    "string": "2020/03/01"
                  },
                  "2": {
                    "string": "10"
                  },
                  "3": {
                    "string": "Hong Kong"
                  },
                  "4": {
                    "string": "Hong Kong Intl"
                  }
                }
              ],
              "schema": [
                {
                  "key": "0",
                  "name": "route",
                  "type": "StructType(StructField(string,StringType,true))"
                },
                {
                  "key": "1",
                  "name": "date",
                  "type": "StructType(StructField(string,StringType,true))"
                },
                {
                  "key": "2",
                  "name": "count",
                  "type": "StructType(StructField(string,StringType,true))"
                },
                {
                  "key": "3",
                  "name": "to_airport_country",
                  "type": "StructType(StructField(string,StringType,true))"
                },
                {
                  "key": "4",
                  "name": "to_airport_name",
                  "type": "StructType(StructField(string,StringType,true))"
                }
              ]
            },
            "isSummary": false,
            "language": "scala"
          },
          "persist_state": {
            "view": {
              "type": "details",
              "tableOptions": {},
              "chartOptions": {
                "chartType": "bar",
                "aggregationType": "count",
                "categoryFieldKeys": [],
                "seriesFieldKeys": [
                  "0"
                ],
                "isStacked": false
              }
            }
          }
        }
      }
    }
  },
  "nbformat": 4,
  "nbformat_minor": 2
}